{
 "cells": [
  {
   "cell_type": "markdown",
   "metadata": {},
   "source": [
    "## Week 3: Clusters and Distributions\n",
    "\n",
    "In this week's section, we'll explore word representations. Particularly, we'll focus on SVD-based embeddings; you'll have a chance to implement a more sophisticated technique and explore neural embeddings in Assignment 1."
   ]
  },
  {
   "cell_type": "code",
   "execution_count": 1,
   "metadata": {
    "collapsed": false
   },
   "outputs": [
    {
     "data": {
      "text/plain": [
       "<module 'vocabulary' from 'vocabulary.pyc'>"
      ]
     },
     "execution_count": 1,
     "metadata": {},
     "output_type": "execute_result"
    }
   ],
   "source": [
    "import os, sys, re, json, time\n",
    "import itertools\n",
    "import collections\n",
    "from IPython.display import display\n",
    "\n",
    "# NumPy and SciPy for matrix ops\n",
    "import numpy as np\n",
    "import scipy.sparse\n",
    "\n",
    "# Pandas because pandas are awesome\n",
    "import pandas as pd\n",
    "# Set pandas floating point display\n",
    "pd.set_option('float_format', lambda f: \"{0:.04f}\".format(f))\n",
    "\n",
    "# NLTK for NLP utils\n",
    "import nltk\n",
    "\n",
    "import data_utils\n",
    "reload(data_utils)\n",
    "import vocabulary\n",
    "reload(vocabulary)"
   ]
  },
  {
   "cell_type": "code",
   "execution_count": 2,
   "metadata": {
    "collapsed": false
   },
   "outputs": [],
   "source": [
    "def flatten(list_of_lists):\n",
    "    return itertools.chain.from_iterable(list_of_lists)\n",
    "\n",
    "def pretty_print_matrix(M, rows=None, cols=None, dtype=float):\n",
    "    display(pd.DataFrame(M, index=rows, columns=cols, dtype=dtype))"
   ]
  },
  {
   "cell_type": "markdown",
   "metadata": {},
   "source": [
    "# Load corpora"
   ]
  },
  {
   "cell_type": "markdown",
   "metadata": {},
   "source": [
    "We'll use the `Vocabulary` class again, this time to map words to numerical indices. These will be the row indices of our embedding matrix."
   ]
  },
  {
   "cell_type": "code",
   "execution_count": 3,
   "metadata": {
    "collapsed": false
   },
   "outputs": [
    {
     "name": "stdout",
     "output_type": "stream",
     "text": [
      "Most common unigrams:\n",
      "\"the\": 69971\n",
      "\",\": 58334\n",
      "\".\": 49346\n",
      "\"of\": 36412\n",
      "\"and\": 28853\n",
      "\"to\": 26158\n",
      "\"a\": 23195\n",
      "\"in\": 21337\n",
      "\"that\": 10594\n",
      "\"is\": 10109\n"
     ]
    }
   ],
   "source": [
    "corpus = nltk.corpus.brown\n",
    "vocab_size = 10000\n",
    "\n",
    "token_feed = (data_utils.canonicalize_word(w) for w in corpus.words())\n",
    "vocab = vocabulary.Vocabulary(token_feed, vocab_size)\n",
    "\n",
    "print \"Most common unigrams:\"\n",
    "print \"\\n\".join(\"\\\"%s\\\": %d\" % kv \n",
    "                for kv in vocab.unigram_counts.most_common(10))"
   ]
  },
  {
   "cell_type": "markdown",
   "metadata": {},
   "source": [
    "## Co-occurrence matrix\n",
    "\n",
    "We want to build a co-occurrence matrix $C$, where $C_{ij}$ is the number of times word $i$ occurs in the same context as word $j$.\n",
    "\n",
    "This matrix will be of size `vocab_size` x `vocab_size`, which is quite large - we'd run into the same problem we had with a bigram LM if we represented it explicitly.\n",
    "\n",
    "Instead, we'll use a **sparse matrix** (`scipy.sparse`). This only stores the non-zero elements, but still supports some of the usual matrix operations like slicing, multiplication, and - most importantly - the SVD. \n",
    "\n",
    "See [the scipy.sparse documentation](http://docs.scipy.org/doc/scipy/reference/sparse.html) for more info on how these work; we'll chiefly use the DOK, COO, and CSR formats."
   ]
  },
  {
   "cell_type": "markdown",
   "metadata": {},
   "source": [
    "### Fixed-Size Window\n",
    "It's simplest to implement this for a fixed-size window. Naively, we can just go through the entire corpus, and at each position `i` add a count for the words at positions `i-2, i-1, i+1, i+2`, etc.\n",
    "\n",
    "Turns out this is really slow in Python, so we'll re-order things: we'll count all pairs `(i,i-2)`, `(i,i-1)`, etc. and add the counts up at the end.\n",
    "\n",
    "Note that pairs are symmetric: so at the same time we handle `(i,i+k)`, we'll also add an entry for `(i+k,i)`."
   ]
  },
  {
   "cell_type": "code",
   "execution_count": 4,
   "metadata": {
    "collapsed": false
   },
   "outputs": [],
   "source": [
    "def cooccurrence_matrix(ids, vocab, window_size=2):\n",
    "    # We'll use this as an \"accumulator\" matrix\n",
    "    C = scipy.sparse.csc_matrix((vocab.size, vocab.size), \n",
    "                                dtype=np.float32)\n",
    "    \n",
    "    for k in range(1, window_size+1):\n",
    "        if k == 0: continue  # don't count (i,i)\n",
    "        print u\"Counting pairs (i, i \\u00B1 %d) ...\" % k\n",
    "        # Consider words k positions ahead\n",
    "        i = ids[:-k] # current word\n",
    "        j = ids[k:]  # k words ahead\n",
    "        # Construct a COO matrix: values, indices\n",
    "        # scipy.sparse will add up duplicates for us\n",
    "        data = (np.ones_like(i), (i,j))\n",
    "        Ck_plus = scipy.sparse.coo_matrix(data, shape=C.shape, dtype=np.float32)\n",
    "        Ck_plus = scipy.sparse.csc_matrix(Ck_plus)\n",
    "        Ck_minus = Ck_plus.T  # Consider k words behind\n",
    "        C += Ck_plus + Ck_minus\n",
    "\n",
    "    print \"Co-occurrence matrix: %d words x %d words\" % (C.shape)\n",
    "    print \"  %.02g nonzero elements\" % (C.nnz)\n",
    "    return C"
   ]
  },
  {
   "cell_type": "markdown",
   "metadata": {},
   "source": [
    "Let's look at a toy corpus to see how this works. With a window of 1, we should see co-occurrence counts for each pair of neighboring words:  \n",
    "`(<s>, nlp)`,  \n",
    "`(nlp, class)`,  \n",
    "`(class, is)`,  \n",
    "and so on - as well as their reversed versions (remember, C is symmetric!)\n"
   ]
  },
  {
   "cell_type": "code",
   "execution_count": 5,
   "metadata": {
    "collapsed": false
   },
   "outputs": [
    {
     "name": "stdout",
     "output_type": "stream",
     "text": [
      "Counting pairs (i, i ± 1) ...\n",
      "Co-occurrence matrix: 8 words x 8 words\n",
      "  16 nonzero elements\n"
     ]
    },
    {
     "data": {
      "text/html": [
       "<div>\n",
       "<table border=\"1\" class=\"dataframe\">\n",
       "  <thead>\n",
       "    <tr style=\"text-align: right;\">\n",
       "      <th></th>\n",
       "      <th>&lt;s&gt;</th>\n",
       "      <th>&lt;/s&gt;</th>\n",
       "      <th>&lt;unk&gt;</th>\n",
       "      <th>nlp</th>\n",
       "      <th>is</th>\n",
       "      <th>class</th>\n",
       "      <th>fun</th>\n",
       "      <th>awesome</th>\n",
       "    </tr>\n",
       "  </thead>\n",
       "  <tbody>\n",
       "    <tr>\n",
       "      <th>&lt;s&gt;</th>\n",
       "      <td>0</td>\n",
       "      <td>1</td>\n",
       "      <td>0</td>\n",
       "      <td>2</td>\n",
       "      <td>0</td>\n",
       "      <td>0</td>\n",
       "      <td>0</td>\n",
       "      <td>0</td>\n",
       "    </tr>\n",
       "    <tr>\n",
       "      <th>&lt;/s&gt;</th>\n",
       "      <td>1</td>\n",
       "      <td>0</td>\n",
       "      <td>0</td>\n",
       "      <td>0</td>\n",
       "      <td>0</td>\n",
       "      <td>0</td>\n",
       "      <td>1</td>\n",
       "      <td>1</td>\n",
       "    </tr>\n",
       "    <tr>\n",
       "      <th>&lt;unk&gt;</th>\n",
       "      <td>0</td>\n",
       "      <td>0</td>\n",
       "      <td>0</td>\n",
       "      <td>0</td>\n",
       "      <td>0</td>\n",
       "      <td>0</td>\n",
       "      <td>0</td>\n",
       "      <td>0</td>\n",
       "    </tr>\n",
       "    <tr>\n",
       "      <th>nlp</th>\n",
       "      <td>2</td>\n",
       "      <td>0</td>\n",
       "      <td>0</td>\n",
       "      <td>0</td>\n",
       "      <td>0</td>\n",
       "      <td>2</td>\n",
       "      <td>0</td>\n",
       "      <td>0</td>\n",
       "    </tr>\n",
       "    <tr>\n",
       "      <th>is</th>\n",
       "      <td>0</td>\n",
       "      <td>0</td>\n",
       "      <td>0</td>\n",
       "      <td>0</td>\n",
       "      <td>0</td>\n",
       "      <td>2</td>\n",
       "      <td>1</td>\n",
       "      <td>1</td>\n",
       "    </tr>\n",
       "    <tr>\n",
       "      <th>class</th>\n",
       "      <td>0</td>\n",
       "      <td>0</td>\n",
       "      <td>0</td>\n",
       "      <td>2</td>\n",
       "      <td>2</td>\n",
       "      <td>0</td>\n",
       "      <td>0</td>\n",
       "      <td>0</td>\n",
       "    </tr>\n",
       "    <tr>\n",
       "      <th>fun</th>\n",
       "      <td>0</td>\n",
       "      <td>1</td>\n",
       "      <td>0</td>\n",
       "      <td>0</td>\n",
       "      <td>1</td>\n",
       "      <td>0</td>\n",
       "      <td>0</td>\n",
       "      <td>0</td>\n",
       "    </tr>\n",
       "    <tr>\n",
       "      <th>awesome</th>\n",
       "      <td>0</td>\n",
       "      <td>1</td>\n",
       "      <td>0</td>\n",
       "      <td>0</td>\n",
       "      <td>1</td>\n",
       "      <td>0</td>\n",
       "      <td>0</td>\n",
       "      <td>0</td>\n",
       "    </tr>\n",
       "  </tbody>\n",
       "</table>\n",
       "</div>"
      ],
      "text/plain": [
       "         <s>  </s>  <unk>  nlp  is  class  fun  awesome\n",
       "<s>        0     1      0    2   0      0    0        0\n",
       "</s>       1     0      0    0   0      0    1        1\n",
       "<unk>      0     0      0    0   0      0    0        0\n",
       "nlp        2     0      0    0   0      2    0        0\n",
       "is         0     0      0    0   0      2    1        1\n",
       "class      0     0      0    2   2      0    0        0\n",
       "fun        0     1      0    0   1      0    0        0\n",
       "awesome    0     1      0    0   1      0    0        0"
      ]
     },
     "metadata": {},
     "output_type": "display_data"
    }
   ],
   "source": [
    "toy_corpus = [\n",
    "    \"nlp class is awesome\",\n",
    "    \"nlp class is fun\"\n",
    "]\n",
    "\n",
    "words = list(flatten([s.split() for s in toy_corpus]))\n",
    "toy_vocab = vocabulary.Vocabulary(words)\n",
    "# sentence_to_ids adds \"<s>\" and \"</s>\"\n",
    "ids = list(flatten(toy_vocab.sentence_to_ids(s.split()) \n",
    "                   for s in toy_corpus))\n",
    "\n",
    "# Here's the important part\n",
    "toy_C = cooccurrence_matrix(ids, toy_vocab, window_size=1)\n",
    "\n",
    "toy_labels = toy_vocab.ordered_words()\n",
    "pretty_print_matrix(toy_C.toarray(), rows=toy_labels, \n",
    "                    cols=toy_labels, dtype=int)"
   ]
  },
  {
   "cell_type": "code",
   "execution_count": 6,
   "metadata": {
    "collapsed": false
   },
   "outputs": [
    {
     "name": "stdout",
     "output_type": "stream",
     "text": [
      "Counting pairs (i, i ± 1) ...\n",
      "Counting pairs (i, i ± 2) ...\n",
      "Co-occurrence matrix: 10000 words x 10000 words\n",
      "  1e+06 nonzero elements\n",
      "Constructed C in 0:00:00 sec\n"
     ]
    }
   ],
   "source": [
    "# Canonicalize words and convert to numerical IDs\n",
    "words = data_utils.canonicalize_words(corpus.words(), \n",
    "                                      wordset=vocab.word_to_id)\n",
    "ids = np.array(vocab.words_to_ids(words))\n",
    "\n",
    "t0 = time.time()\n",
    "C = cooccurrence_matrix(ids, vocab)\n",
    "print \"Constructed C in %s sec\" % data_utils.pretty_timedelta(since=t0)"
   ]
  },
  {
   "cell_type": "markdown",
   "metadata": {},
   "source": [
    "### Sentence Context\n",
    "\n",
    "Naively, we could do this by using something like:\n",
    "```\n",
    "for i in sentence_ids[:-1]:\n",
    "  for j in sentence_ids[1:]:\n",
    "     C[i,j] += 1\n",
    "```\n",
    "But unfortunately, Python is slow, and for long sentences (say, 40 tokens), this can take a loooong time.\n",
    "\n",
    "However, there's a clever trick. We can compute a matrix $M_{ik}$ where rows $i$ are word indices and columns $k$ are sentence indices. Assuming each word appears only once in a sentence, then we have:\n",
    "\n",
    "$$ C_{ij} = \\sum_{k} \\mathbf{1}[w_i \\in \\text{sentence}\\ k] \\cdot \\mathbf{1}[w_j \\in \\text{sentence}\\ k] = \\sum_{k} M_{ik} M_{jk} = (MM^T)_{ij} $$\n",
    "\n",
    "So we can compute $C_{ij}$ easily with matrix multiplication:"
   ]
  },
  {
   "cell_type": "code",
   "execution_count": 7,
   "metadata": {
    "collapsed": false
   },
   "outputs": [
    {
     "name": "stdout",
     "output_type": "stream",
     "text": [
      "Co-occurrence matrix: 10000 words x 10000 words\n",
      "  4.7e+06 nonzero elements\n",
      "Constructed C in 0:00:21\n"
     ]
    }
   ],
   "source": [
    "def cooccurrence_matrix_sentences(sentence_ids, vocab):\n",
    "    M = scipy.sparse.dok_matrix((vocab.size, len(sentence_ids)), \n",
    "                                dtype=np.int32)\n",
    "    \n",
    "    for j,ids in enumerate(sentence_ids):\n",
    "        for i in ids:\n",
    "            M[i,j] += 1\n",
    "    \n",
    "    M = scipy.sparse.csr_matrix(M)\n",
    "    # Correction for multiple occurrences of words\n",
    "    diag_corr = scipy.sparse.dia_matrix((np.ravel(M.sum(1)), [0]),\n",
    "                                        shape=(vocab.size, vocab.size))\n",
    "    C = M.dot(M.T) - diag_corr\n",
    "    print \"Co-occurrence matrix: %d words x %d words\" % (C.shape)\n",
    "    print \"  %.02g nonzero elements\" % (C.nnz)\n",
    "    return C\n",
    "    \n",
    "sentence_ids = [vocab.words_to_ids(data_utils.canonicalize_words(s)) \n",
    "                for s in corpus.sents()]\n",
    "t0 = time.time()\n",
    "C_sentence = cooccurrence_matrix_sentences(sentence_ids, vocab)\n",
    "print \"Constructed C in %s\" % data_utils.pretty_timedelta(since=t0)"
   ]
  },
  {
   "cell_type": "markdown",
   "metadata": {},
   "source": [
    "**Note:** It's also common to do SVD directly on the word-sentence matrix M, particularly where instead of sentences we use paragraphs or whole documents. This is known as Latent Semantic Analysis, or LSA."
   ]
  },
  {
   "cell_type": "markdown",
   "metadata": {},
   "source": [
    "Let's try this on our toy corpus again. You should notice a somewhat denser matrix this time: every pair of words are represented, not just the adjacent ones."
   ]
  },
  {
   "cell_type": "code",
   "execution_count": 8,
   "metadata": {
    "collapsed": false
   },
   "outputs": [
    {
     "name": "stdout",
     "output_type": "stream",
     "text": [
      "Co-occurrence matrix: 8 words x 8 words\n",
      "  40 nonzero elements\n"
     ]
    },
    {
     "data": {
      "text/html": [
       "<div>\n",
       "<table border=\"1\" class=\"dataframe\">\n",
       "  <thead>\n",
       "    <tr style=\"text-align: right;\">\n",
       "      <th></th>\n",
       "      <th>&lt;s&gt;</th>\n",
       "      <th>&lt;/s&gt;</th>\n",
       "      <th>&lt;unk&gt;</th>\n",
       "      <th>nlp</th>\n",
       "      <th>is</th>\n",
       "      <th>class</th>\n",
       "      <th>fun</th>\n",
       "      <th>awesome</th>\n",
       "    </tr>\n",
       "  </thead>\n",
       "  <tbody>\n",
       "    <tr>\n",
       "      <th>&lt;s&gt;</th>\n",
       "      <td>0</td>\n",
       "      <td>2</td>\n",
       "      <td>0</td>\n",
       "      <td>2</td>\n",
       "      <td>2</td>\n",
       "      <td>2</td>\n",
       "      <td>1</td>\n",
       "      <td>1</td>\n",
       "    </tr>\n",
       "    <tr>\n",
       "      <th>&lt;/s&gt;</th>\n",
       "      <td>2</td>\n",
       "      <td>0</td>\n",
       "      <td>0</td>\n",
       "      <td>2</td>\n",
       "      <td>2</td>\n",
       "      <td>2</td>\n",
       "      <td>1</td>\n",
       "      <td>1</td>\n",
       "    </tr>\n",
       "    <tr>\n",
       "      <th>&lt;unk&gt;</th>\n",
       "      <td>0</td>\n",
       "      <td>0</td>\n",
       "      <td>0</td>\n",
       "      <td>0</td>\n",
       "      <td>0</td>\n",
       "      <td>0</td>\n",
       "      <td>0</td>\n",
       "      <td>0</td>\n",
       "    </tr>\n",
       "    <tr>\n",
       "      <th>nlp</th>\n",
       "      <td>2</td>\n",
       "      <td>2</td>\n",
       "      <td>0</td>\n",
       "      <td>0</td>\n",
       "      <td>2</td>\n",
       "      <td>2</td>\n",
       "      <td>1</td>\n",
       "      <td>1</td>\n",
       "    </tr>\n",
       "    <tr>\n",
       "      <th>is</th>\n",
       "      <td>2</td>\n",
       "      <td>2</td>\n",
       "      <td>0</td>\n",
       "      <td>2</td>\n",
       "      <td>0</td>\n",
       "      <td>2</td>\n",
       "      <td>1</td>\n",
       "      <td>1</td>\n",
       "    </tr>\n",
       "    <tr>\n",
       "      <th>class</th>\n",
       "      <td>2</td>\n",
       "      <td>2</td>\n",
       "      <td>0</td>\n",
       "      <td>2</td>\n",
       "      <td>2</td>\n",
       "      <td>0</td>\n",
       "      <td>1</td>\n",
       "      <td>1</td>\n",
       "    </tr>\n",
       "    <tr>\n",
       "      <th>fun</th>\n",
       "      <td>1</td>\n",
       "      <td>1</td>\n",
       "      <td>0</td>\n",
       "      <td>1</td>\n",
       "      <td>1</td>\n",
       "      <td>1</td>\n",
       "      <td>0</td>\n",
       "      <td>0</td>\n",
       "    </tr>\n",
       "    <tr>\n",
       "      <th>awesome</th>\n",
       "      <td>1</td>\n",
       "      <td>1</td>\n",
       "      <td>0</td>\n",
       "      <td>1</td>\n",
       "      <td>1</td>\n",
       "      <td>1</td>\n",
       "      <td>0</td>\n",
       "      <td>0</td>\n",
       "    </tr>\n",
       "  </tbody>\n",
       "</table>\n",
       "</div>"
      ],
      "text/plain": [
       "         <s>  </s>  <unk>  nlp  is  class  fun  awesome\n",
       "<s>        0     2      0    2   2      2    1        1\n",
       "</s>       2     0      0    2   2      2    1        1\n",
       "<unk>      0     0      0    0   0      0    0        0\n",
       "nlp        2     2      0    0   2      2    1        1\n",
       "is         2     2      0    2   0      2    1        1\n",
       "class      2     2      0    2   2      0    1        1\n",
       "fun        1     1      0    1   1      1    0        0\n",
       "awesome    1     1      0    1   1      1    0        0"
      ]
     },
     "metadata": {},
     "output_type": "display_data"
    }
   ],
   "source": [
    "sentence_ids = [toy_vocab.sentence_to_ids(s.split()) \n",
    "                for s in toy_corpus]\n",
    "\n",
    "toy_C_s = cooccurrence_matrix_sentences(sentence_ids, toy_vocab)\n",
    "\n",
    "pretty_print_matrix(toy_C_s.toarray(), rows=toy_labels, \n",
    "                    cols=toy_labels, dtype=int)"
   ]
  },
  {
   "cell_type": "markdown",
   "metadata": {},
   "source": [
    "## Computing Word Vectors\n",
    "\n",
    "In order to go from our co-occurrence matrix to word vectors, we need to do two things:\n",
    "\n",
    "- First, convert to **PPMI** to reduce the impact of common words.\n",
    "- Compute the SVD, and extract our vectors.\n",
    "\n",
    "PPMI stands for Positive [Pointwise Mutual Information](https://en.wikipedia.org/wiki/Pointwise_mutual_information). PMI is a generalization of the idea of correlation, but for arbitrary variables. Here, we're interested in the correlation between word $i$ and word $j$, where we take the samples to be all the word-word pairs in our corpus.  \n",
    "Positive just means we'll truncate at zero: $\\text{PPMI}(i,j) = \\max(0, \\text{PMI}(i,j))$\n",
    "\n",
    "We'll apply PPMI as a transformation of our counts matrix. First, compute probabilities:\n",
    "$$ P(i,j) = \\frac{C(i,j)}{\\sum_{k,l} C(k,l)} = \\frac{C_{ij}}{Z}$$\n",
    "$$ P(i) = \\frac{\\sum_{k} C(i,k)}{\\sum_{k,l} C(k,l)} = \\frac{Z_i}{Z}$$\n",
    "\n",
    "Then compute PPMI:\n",
    "$$ \\text{PMI}(i,j) = \\log \\frac{P(i,j)}{P(i)P(j)} = \\log \\frac{C_{ij} \\cdot Z}{Z_i \\cdot Z_j} $$\n",
    "$$\\text{PPMI}(i,j) = \\max(0, \\text{PMI}(i,j))$$\n"
   ]
  },
  {
   "cell_type": "code",
   "execution_count": 9,
   "metadata": {
    "collapsed": true
   },
   "outputs": [],
   "source": [
    "def PPMI(C):\n",
    "    # Expect C to be a CSC matrix\n",
    "    Z = float(C.sum())  # total counts\n",
    "    Zc = np.array(C.sum(axis=0), dtype=np.float64).flatten() # sum each column (along rows)\n",
    "    Zr = np.array(C.sum(axis=1), dtype=np.float64).flatten() # sum each row (along columns)\n",
    "    \n",
    "    # Get indices of relevant elements\n",
    "    ii, jj = C.nonzero()  # row, column indices\n",
    "    Cij = np.array(C[ii,jj], dtype=np.float64).flatten()\n",
    "    pmi = np.log(Cij * Z / (Zr[ii] * Zc[jj]))\n",
    "    ppmi = np.maximum(0, pmi)  # take positive only\n",
    "    ret = scipy.sparse.csc_matrix((ppmi, (ii,jj)), shape=C.shape,\n",
    "                                  dtype=np.float64)\n",
    "    ret.eliminate_zeros()  # remove zeros\n",
    "    return ret"
   ]
  },
  {
   "cell_type": "markdown",
   "metadata": {},
   "source": [
    "Now to compute the SVD, we can just use [`sklearn.decomposition.TruncatedSVD`](http://scikit-learn.org/stable/modules/generated/sklearn.decomposition.TruncatedSVD.html):"
   ]
  },
  {
   "cell_type": "code",
   "execution_count": 10,
   "metadata": {
    "collapsed": true
   },
   "outputs": [],
   "source": [
    "from sklearn.decomposition import TruncatedSVD\n",
    "def SVD(X, k=100):\n",
    "    transformer = TruncatedSVD(n_components=k, random_state=1)\n",
    "    Wv = transformer.fit_transform(X)\n",
    "    # Normalize to unit length\n",
    "    Wv = Wv / np.linalg.norm(Wv, axis=1).reshape([-1,1])\n",
    "    return Wv, transformer.explained_variance_"
   ]
  },
  {
   "cell_type": "code",
   "execution_count": 11,
   "metadata": {
    "collapsed": false
   },
   "outputs": [
    {
     "name": "stdout",
     "output_type": "stream",
     "text": [
      "Computed PPMI in 0:00:00\n",
      "Computed SVD in 0:00:01\n"
     ]
    }
   ],
   "source": [
    "t0 = time.time()\n",
    "X = PPMI(C)\n",
    "print \"Computed PPMI in %s\" % data_utils.pretty_timedelta(since=t0)\n",
    "\n",
    "t0 = time.time()\n",
    "Wv, svs = SVD(X)\n",
    "print \"Computed SVD in %s\" % data_utils.pretty_timedelta(since=t0)"
   ]
  },
  {
   "cell_type": "markdown",
   "metadata": {},
   "source": [
    "Let's see what this does on our toy corpus:"
   ]
  },
  {
   "cell_type": "code",
   "execution_count": 12,
   "metadata": {
    "collapsed": false
   },
   "outputs": [
    {
     "data": {
      "text/html": [
       "<div>\n",
       "<table border=\"1\" class=\"dataframe\">\n",
       "  <thead>\n",
       "    <tr style=\"text-align: right;\">\n",
       "      <th></th>\n",
       "      <th>&lt;s&gt;</th>\n",
       "      <th>&lt;/s&gt;</th>\n",
       "      <th>&lt;unk&gt;</th>\n",
       "      <th>nlp</th>\n",
       "      <th>is</th>\n",
       "      <th>class</th>\n",
       "      <th>fun</th>\n",
       "      <th>awesome</th>\n",
       "    </tr>\n",
       "  </thead>\n",
       "  <tbody>\n",
       "    <tr>\n",
       "      <th>&lt;s&gt;</th>\n",
       "      <td>0.0000</td>\n",
       "      <td>0.8938</td>\n",
       "      <td>0.0000</td>\n",
       "      <td>1.2993</td>\n",
       "      <td>0.0000</td>\n",
       "      <td>0.0000</td>\n",
       "      <td>0.0000</td>\n",
       "      <td>0.0000</td>\n",
       "    </tr>\n",
       "    <tr>\n",
       "      <th>&lt;/s&gt;</th>\n",
       "      <td>0.8938</td>\n",
       "      <td>0.0000</td>\n",
       "      <td>0.0000</td>\n",
       "      <td>0.0000</td>\n",
       "      <td>0.0000</td>\n",
       "      <td>0.0000</td>\n",
       "      <td>1.2993</td>\n",
       "      <td>1.2993</td>\n",
       "    </tr>\n",
       "    <tr>\n",
       "      <th>&lt;unk&gt;</th>\n",
       "      <td>0.0000</td>\n",
       "      <td>0.0000</td>\n",
       "      <td>0.0000</td>\n",
       "      <td>0.0000</td>\n",
       "      <td>0.0000</td>\n",
       "      <td>0.0000</td>\n",
       "      <td>0.0000</td>\n",
       "      <td>0.0000</td>\n",
       "    </tr>\n",
       "    <tr>\n",
       "      <th>nlp</th>\n",
       "      <td>1.2993</td>\n",
       "      <td>0.0000</td>\n",
       "      <td>0.0000</td>\n",
       "      <td>0.0000</td>\n",
       "      <td>0.0000</td>\n",
       "      <td>1.0116</td>\n",
       "      <td>0.0000</td>\n",
       "      <td>0.0000</td>\n",
       "    </tr>\n",
       "    <tr>\n",
       "      <th>is</th>\n",
       "      <td>0.0000</td>\n",
       "      <td>0.0000</td>\n",
       "      <td>0.0000</td>\n",
       "      <td>0.0000</td>\n",
       "      <td>0.0000</td>\n",
       "      <td>1.0116</td>\n",
       "      <td>1.0116</td>\n",
       "      <td>1.0116</td>\n",
       "    </tr>\n",
       "    <tr>\n",
       "      <th>class</th>\n",
       "      <td>0.0000</td>\n",
       "      <td>0.0000</td>\n",
       "      <td>0.0000</td>\n",
       "      <td>1.0116</td>\n",
       "      <td>1.0116</td>\n",
       "      <td>0.0000</td>\n",
       "      <td>0.0000</td>\n",
       "      <td>0.0000</td>\n",
       "    </tr>\n",
       "    <tr>\n",
       "      <th>fun</th>\n",
       "      <td>0.0000</td>\n",
       "      <td>1.2993</td>\n",
       "      <td>0.0000</td>\n",
       "      <td>0.0000</td>\n",
       "      <td>1.0116</td>\n",
       "      <td>0.0000</td>\n",
       "      <td>0.0000</td>\n",
       "      <td>0.0000</td>\n",
       "    </tr>\n",
       "    <tr>\n",
       "      <th>awesome</th>\n",
       "      <td>0.0000</td>\n",
       "      <td>1.2993</td>\n",
       "      <td>0.0000</td>\n",
       "      <td>0.0000</td>\n",
       "      <td>1.0116</td>\n",
       "      <td>0.0000</td>\n",
       "      <td>0.0000</td>\n",
       "      <td>0.0000</td>\n",
       "    </tr>\n",
       "  </tbody>\n",
       "</table>\n",
       "</div>"
      ],
      "text/plain": [
       "           <s>   </s>  <unk>    nlp     is  class    fun  awesome\n",
       "<s>     0.0000 0.8938 0.0000 1.2993 0.0000 0.0000 0.0000   0.0000\n",
       "</s>    0.8938 0.0000 0.0000 0.0000 0.0000 0.0000 1.2993   1.2993\n",
       "<unk>   0.0000 0.0000 0.0000 0.0000 0.0000 0.0000 0.0000   0.0000\n",
       "nlp     1.2993 0.0000 0.0000 0.0000 0.0000 1.0116 0.0000   0.0000\n",
       "is      0.0000 0.0000 0.0000 0.0000 0.0000 1.0116 1.0116   1.0116\n",
       "class   0.0000 0.0000 0.0000 1.0116 1.0116 0.0000 0.0000   0.0000\n",
       "fun     0.0000 1.2993 0.0000 0.0000 1.0116 0.0000 0.0000   0.0000\n",
       "awesome 0.0000 1.2993 0.0000 0.0000 1.0116 0.0000 0.0000   0.0000"
      ]
     },
     "metadata": {},
     "output_type": "display_data"
    }
   ],
   "source": [
    "pretty_print_matrix(PPMI(toy_C).toarray(), rows=toy_labels, \n",
    "                    cols=toy_labels, dtype=float)"
   ]
  },
  {
   "cell_type": "markdown",
   "metadata": {},
   "source": [
    "And if we take the SVD, we'll get the words represented by row vectors. Note that \"fun\" and \"awesome\" get the same representation, since they're interchangable in our (tiny) corpus. How do their embedding vectors relate to the one for \"class\"?"
   ]
  },
  {
   "cell_type": "code",
   "execution_count": 13,
   "metadata": {
    "collapsed": false
   },
   "outputs": [
    {
     "data": {
      "text/html": [
       "<div>\n",
       "<table border=\"1\" class=\"dataframe\">\n",
       "  <thead>\n",
       "    <tr style=\"text-align: right;\">\n",
       "      <th></th>\n",
       "      <th>0</th>\n",
       "      <th>1</th>\n",
       "      <th>2</th>\n",
       "    </tr>\n",
       "  </thead>\n",
       "  <tbody>\n",
       "    <tr>\n",
       "      <th>&lt;s&gt;</th>\n",
       "      <td>0.7576</td>\n",
       "      <td>-0.0000</td>\n",
       "      <td>0.6527</td>\n",
       "    </tr>\n",
       "    <tr>\n",
       "      <th>&lt;/s&gt;</th>\n",
       "      <td>-0.0000</td>\n",
       "      <td>1.0000</td>\n",
       "      <td>0.0000</td>\n",
       "    </tr>\n",
       "    <tr>\n",
       "      <th>&lt;unk&gt;</th>\n",
       "      <td>0.0026</td>\n",
       "      <td>-0.0002</td>\n",
       "      <td>1.0000</td>\n",
       "    </tr>\n",
       "    <tr>\n",
       "      <th>nlp</th>\n",
       "      <td>-0.0000</td>\n",
       "      <td>1.0000</td>\n",
       "      <td>-0.0000</td>\n",
       "    </tr>\n",
       "    <tr>\n",
       "      <th>is</th>\n",
       "      <td>-0.0000</td>\n",
       "      <td>1.0000</td>\n",
       "      <td>-0.0000</td>\n",
       "    </tr>\n",
       "    <tr>\n",
       "      <th>class</th>\n",
       "      <td>0.7800</td>\n",
       "      <td>0.0000</td>\n",
       "      <td>0.6258</td>\n",
       "    </tr>\n",
       "    <tr>\n",
       "      <th>fun</th>\n",
       "      <td>0.9373</td>\n",
       "      <td>-0.0000</td>\n",
       "      <td>-0.3484</td>\n",
       "    </tr>\n",
       "    <tr>\n",
       "      <th>awesome</th>\n",
       "      <td>0.9373</td>\n",
       "      <td>-0.0000</td>\n",
       "      <td>-0.3484</td>\n",
       "    </tr>\n",
       "  </tbody>\n",
       "</table>\n",
       "</div>"
      ],
      "text/plain": [
       "              0       1       2\n",
       "<s>      0.7576 -0.0000  0.6527\n",
       "</s>    -0.0000  1.0000  0.0000\n",
       "<unk>    0.0026 -0.0002  1.0000\n",
       "nlp     -0.0000  1.0000 -0.0000\n",
       "is      -0.0000  1.0000 -0.0000\n",
       "class    0.7800  0.0000  0.6258\n",
       "fun      0.9373 -0.0000 -0.3484\n",
       "awesome  0.9373 -0.0000 -0.3484"
      ]
     },
     "metadata": {},
     "output_type": "display_data"
    }
   ],
   "source": [
    "k = 3\n",
    "pretty_print_matrix(SVD(PPMI(toy_C), k=k)[0], rows=toy_labels, \n",
    "                    cols=range(k), dtype=float)"
   ]
  },
  {
   "cell_type": "markdown",
   "metadata": {},
   "source": [
    "# Visualize Word Vectors\n",
    "\n",
    "We've included some code that will generate an interactive visualization of the word cloud. You can use the mouse to pan and zoom, and you can pass a dict of colors to highlight or color-code words.\n",
    "\n",
    "It's implemented using the [Bokeh](http://bokeh.pydata.org/en/latest/) library, which is similar to Plotly but much faster at rendering text; check out `plotting.py` (in this directory) if you're interested."
   ]
  },
  {
   "cell_type": "code",
   "execution_count": 14,
   "metadata": {
    "collapsed": false
   },
   "outputs": [
    {
     "data": {
      "text/html": [
       "\n",
       "    <div class=\"bk-root\">\n",
       "        <a href=\"http://bokeh.pydata.org\" target=\"_blank\" class=\"bk-logo bk-logo-small bk-logo-notebook\"></a>\n",
       "        <span id=\"b8b098a3-e19d-4f73-ab6e-acd7ea229517\">Loading BokehJS ...</span>\n",
       "    </div>"
      ]
     },
     "metadata": {},
     "output_type": "display_data"
    },
    {
     "data": {
      "application/javascript": [
       "\n",
       "(function(global) {\n",
       "  function now() {\n",
       "    return new Date();\n",
       "  }\n",
       "\n",
       "  if (typeof (window._bokeh_onload_callbacks) === \"undefined\") {\n",
       "    window._bokeh_onload_callbacks = [];\n",
       "  }\n",
       "\n",
       "  function run_callbacks() {\n",
       "    window._bokeh_onload_callbacks.forEach(function(callback) { callback() });\n",
       "    delete window._bokeh_onload_callbacks\n",
       "    console.info(\"Bokeh: all callbacks have finished\");\n",
       "  }\n",
       "\n",
       "  function load_libs(js_urls, callback) {\n",
       "    window._bokeh_onload_callbacks.push(callback);\n",
       "    if (window._bokeh_is_loading > 0) {\n",
       "      console.log(\"Bokeh: BokehJS is being loaded, scheduling callback at\", now());\n",
       "      return null;\n",
       "    }\n",
       "    if (js_urls == null || js_urls.length === 0) {\n",
       "      run_callbacks();\n",
       "      return null;\n",
       "    }\n",
       "    console.log(\"Bokeh: BokehJS not loaded, scheduling load and callback at\", now());\n",
       "    window._bokeh_is_loading = js_urls.length;\n",
       "    for (var i = 0; i < js_urls.length; i++) {\n",
       "      var url = js_urls[i];\n",
       "      var s = document.createElement('script');\n",
       "      s.src = url;\n",
       "      s.async = false;\n",
       "      s.onreadystatechange = s.onload = function() {\n",
       "        window._bokeh_is_loading--;\n",
       "        if (window._bokeh_is_loading === 0) {\n",
       "          console.log(\"Bokeh: all BokehJS libraries loaded\");\n",
       "          run_callbacks()\n",
       "        }\n",
       "      };\n",
       "      s.onerror = function() {\n",
       "        console.warn(\"failed to load library \" + url);\n",
       "      };\n",
       "      console.log(\"Bokeh: injecting script tag for BokehJS library: \", url);\n",
       "      document.getElementsByTagName(\"head\")[0].appendChild(s);\n",
       "    }\n",
       "  };\n",
       "\n",
       "  var js_urls = ['https://cdn.pydata.org/bokeh/release/bokeh-0.12.0.min.js', 'https://cdn.pydata.org/bokeh/release/bokeh-widgets-0.12.0.min.js', 'https://cdn.pydata.org/bokeh/release/bokeh-compiler-0.12.0.min.js'];\n",
       "\n",
       "  var inline_js = [\n",
       "    function(Bokeh) {\n",
       "      Bokeh.set_log_level(\"info\");\n",
       "    },\n",
       "    \n",
       "    function(Bokeh) {\n",
       "      Bokeh.$(\"#b8b098a3-e19d-4f73-ab6e-acd7ea229517\").text(\"BokehJS successfully loaded\");\n",
       "    },\n",
       "    function(Bokeh) {\n",
       "      console.log(\"Bokeh: injecting CSS: https://cdn.pydata.org/bokeh/release/bokeh-0.12.0.min.css\");\n",
       "      Bokeh.embed.inject_css(\"https://cdn.pydata.org/bokeh/release/bokeh-0.12.0.min.css\");\n",
       "      console.log(\"Bokeh: injecting CSS: https://cdn.pydata.org/bokeh/release/bokeh-widgets-0.12.0.min.css\");\n",
       "      Bokeh.embed.inject_css(\"https://cdn.pydata.org/bokeh/release/bokeh-widgets-0.12.0.min.css\");\n",
       "    }\n",
       "  ];\n",
       "\n",
       "  function run_inline_js() {\n",
       "    for (var i = 0; i < inline_js.length; i++) {\n",
       "      inline_js[i](window.Bokeh);\n",
       "    }\n",
       "  }\n",
       "\n",
       "  if (window._bokeh_is_loading === 0) {\n",
       "    console.log(\"Bokeh: BokehJS loaded, going straight to plotting\");\n",
       "    run_inline_js();\n",
       "  } else {\n",
       "    load_libs(js_urls, function() {\n",
       "      console.log(\"Bokeh: BokehJS plotting callback run at\", now());\n",
       "      run_inline_js();\n",
       "    });\n",
       "  }\n",
       "}(this));"
      ]
     },
     "metadata": {},
     "output_type": "display_data"
    }
   ],
   "source": [
    "import plotting as plot_wv\n",
    "reload(plot_wv)\n",
    "import bokeh.plotting as bp\n",
    "bp.output_notebook()"
   ]
  },
  {
   "cell_type": "code",
   "execution_count": 15,
   "metadata": {
    "collapsed": false
   },
   "outputs": [
    {
     "data": {
      "text/html": [
       "\n",
       "\n",
       "    <div class=\"bk-root\">\n",
       "        <div class=\"plotdiv\" id=\"31d489a1-2465-400d-bac4-c9268b9eeeb8\"></div>\n",
       "    </div>\n",
       "<script type=\"text/javascript\">\n",
       "  \n",
       "  (function(global) {\n",
       "    function now() {\n",
       "      return new Date();\n",
       "    }\n",
       "  \n",
       "    if (typeof (window._bokeh_onload_callbacks) === \"undefined\") {\n",
       "      window._bokeh_onload_callbacks = [];\n",
       "    }\n",
       "  \n",
       "    function run_callbacks() {\n",
       "      window._bokeh_onload_callbacks.forEach(function(callback) { callback() });\n",
       "      delete window._bokeh_onload_callbacks\n",
       "      console.info(\"Bokeh: all callbacks have finished\");\n",
       "    }\n",
       "  \n",
       "    function load_libs(js_urls, callback) {\n",
       "      window._bokeh_onload_callbacks.push(callback);\n",
       "      if (window._bokeh_is_loading > 0) {\n",
       "        console.log(\"Bokeh: BokehJS is being loaded, scheduling callback at\", now());\n",
       "        return null;\n",
       "      }\n",
       "      if (js_urls == null || js_urls.length === 0) {\n",
       "        run_callbacks();\n",
       "        return null;\n",
       "      }\n",
       "      console.log(\"Bokeh: BokehJS not loaded, scheduling load and callback at\", now());\n",
       "      window._bokeh_is_loading = js_urls.length;\n",
       "      for (var i = 0; i < js_urls.length; i++) {\n",
       "        var url = js_urls[i];\n",
       "        var s = document.createElement('script');\n",
       "        s.src = url;\n",
       "        s.async = false;\n",
       "        s.onreadystatechange = s.onload = function() {\n",
       "          window._bokeh_is_loading--;\n",
       "          if (window._bokeh_is_loading === 0) {\n",
       "            console.log(\"Bokeh: all BokehJS libraries loaded\");\n",
       "            run_callbacks()\n",
       "          }\n",
       "        };\n",
       "        s.onerror = function() {\n",
       "          console.warn(\"failed to load library \" + url);\n",
       "        };\n",
       "        console.log(\"Bokeh: injecting script tag for BokehJS library: \", url);\n",
       "        document.getElementsByTagName(\"head\")[0].appendChild(s);\n",
       "      }\n",
       "    };var element = document.getElementById(\"31d489a1-2465-400d-bac4-c9268b9eeeb8\");\n",
       "    if (element == null) {\n",
       "      console.log(\"Bokeh: ERROR: autoload.js configured with elementid '31d489a1-2465-400d-bac4-c9268b9eeeb8' but no matching script tag was found. \")\n",
       "      return false;\n",
       "    }\n",
       "  \n",
       "    var js_urls = [];\n",
       "  \n",
       "    var inline_js = [\n",
       "      function(Bokeh) {\n",
       "        Bokeh.$(function() {\n",
       "            var docs_json = {\"8f2552cd-d518-439a-b025-99a225b2dac1\":{\"roots\":{\"references\":[{\"attributes\":{\"callback\":null},\"id\":\"21a6d319-e5b7-4b38-97d4-ab60cce3387b\",\"type\":\"DataRange1d\"},{\"attributes\":{\"formatter\":{\"id\":\"949cad7a-6759-4352-bf5a-6aa4b2a8c091\",\"type\":\"BasicTickFormatter\"},\"plot\":{\"id\":\"62a0d839-2398-42d5-81b5-151b2eb296ef\",\"subtype\":\"Figure\",\"type\":\"Plot\"},\"ticker\":{\"id\":\"3eaef4d5-4130-4717-96b0-87fe38c01f3a\",\"type\":\"BasicTicker\"}},\"id\":\"f4273efe-0a39-4d7a-95ea-d50f5438542e\",\"type\":\"LinearAxis\"},{\"attributes\":{\"formatter\":{\"id\":\"d56c32ee-df03-4092-8ca7-b4c18e4bd6e8\",\"type\":\"BasicTickFormatter\"},\"plot\":{\"id\":\"62a0d839-2398-42d5-81b5-151b2eb296ef\",\"subtype\":\"Figure\",\"type\":\"Plot\"},\"ticker\":{\"id\":\"fe67196d-2e81-4a62-a1b0-94a7eed1132f\",\"type\":\"BasicTicker\"}},\"id\":\"eb8e362d-6b84-4231-a55a-ed41498e6565\",\"type\":\"LinearAxis\"},{\"attributes\":{},\"id\":\"949cad7a-6759-4352-bf5a-6aa4b2a8c091\",\"type\":\"BasicTickFormatter\"},{\"attributes\":{\"plot\":{\"id\":\"62a0d839-2398-42d5-81b5-151b2eb296ef\",\"subtype\":\"Figure\",\"type\":\"Plot\"}},\"id\":\"14a9699f-81f4-4c73-9887-945a61e80e7d\",\"type\":\"ResetTool\"},{\"attributes\":{\"plot\":{\"id\":\"62a0d839-2398-42d5-81b5-151b2eb296ef\",\"subtype\":\"Figure\",\"type\":\"Plot\"}},\"id\":\"05f8df3a-5449-4bd4-b308-2b3fcec8cea3\",\"type\":\"PanTool\"},{\"attributes\":{\"callback\":null,\"column_names\":[\"text\",\"x\",\"y\"],\"data\":{\"text\":[\"the\",\",\",\".\",\"of\",\"and\",\"to\",\"a\",\"in\",\"that\",\"is\",\"was\",\"he\",\"for\",\"``\",\"''\",\"it\",\"with\",\"as\",\"his\",\"on\",\"be\",\";\",\"at\",\"by\",\"i\",\"this\",\"had\",\"?\",\"not\",\"are\",\"but\",\"from\",\"or\",\"have\",\"an\",\"they\",\"which\",\"--\",\"one\",\"you\",\"were\",\"her\",\"all\",\"she\",\"there\",\"would\",\"their\",\"we\",\"him\",\"been\",\")\",\"has\",\"(\",\"when\",\"who\",\"will\",\"more\",\"if\",\"no\",\"out\",\"DG\",\"so\",\"said\",\"DGDGDGDG\",\"DGDG\",\"what\",\"up\",\"its\",\"about\",\":\",\"into\",\"than\",\"them\",\"can\",\"only\",\"other\",\"new\",\"some\",\"could\",\"time\",\"!\",\"these\",\"two\",\"may\",\"then\",\"do\",\"first\",\"any\",\"my\",\"now\",\"such\",\"like\",\"our\",\"over\",\"man\",\"me\",\"even\",\"most\",\"made\",\"also\",\"after\",\"did\",\"many\",\"before\",\"must\",\"af\",\"through\",\"back\",\"years\",\"much\",\"where\",\"your\",\"way\",\"well\",\"down\",\"should\",\"because\",\"each\",\"just\",\"those\",\"people\",\"mr.\",\"too\",\"how\",\"little\",\"state\",\"good\",\"very\",\"make\",\"world\",\"still\",\"see\",\"own\",\"men\",\"work\",\"long\",\"here\",\"get\",\"between\",\"both\",\"life\",\"being\",\"under\",\"never\",\"day\",\"same\",\"another\",\"know\",\"while\",\"last\",\"us\",\"might\",\"great\",\"old\",\"year\",\"off\",\"come\",\"since\",\"against\",\"go\",\"DGDGDG\",\"came\",\"right\",\"used\",\"take\",\"three\",\"states\",\"himself\",\"few\",\"use\",\"house\",\"during\",\"without\",\"again\",\"place\",\"american\",\"around\",\"however\",\"home\",\"small\",\"found\",\"mrs.\",\"thought\",\"went\",\"say\",\"part\",\"once\",\"general\",\"high\",\"upon\",\"school\",\"every\",\"don't\",\"does\",\"got\",\"united\",\"left\",\"number\",\"course\",\"war\",\"until\",\"always\",\"away\",\"something\",\"fact\",\"water\",\"though\",\"public\",\"put\",\"less\",\"think\",\"almost\",\"hand\",\"enough\",\"took\",\"far\",\"head\",\"yet\",\"government\",\"system\",\"set\",\"better\",\"told\",\"night\",\"nothing\",\"end\",\"why\",\"didn't\",\"eyes\",\"called\",\"find\",\"look\",\"going\",\"asked\",\"later\",\"point\",\"knew\",\"next\",\"program\",\"city\",\"business\",\"group\",\"give\",\"toward\",\"young\",\"room\",\"days\",\"let\",\"president\",\"side\",\"social\",\"several\",\"given\",\"present\",\"order\",\"national\",\"possible\",\"rather\",\"second\",\"per\",\"face\",\"among\",\"form\",\"important\",\"often\",\"things\",\"looked\",\"early\",\"white\",\"john\",\"case\",\"large\",\"four\",\"need\",\"big\",\"become\",\"within\",\"felt\",\"along\",\"children\",\"saw\",\"best\",\"church\",\"ever\",\"least\",\"power\",\"development\",\"seemed\",\"thing\",\"light\",\"family\",\"interest\",\"want\",\"mind\",\"members\",\"country\",\"area\",\"others\",\"although\",\"turned\",\"done\",\"open\",\"'\",\"god\",\"service\",\"problem\",\"kind\",\"certain\",\"door\",\"different\",\"thus\",\"began\",\"sense\",\"help\",\"means\",\"whole\",\"matter\",\"perhaps\",\"itself\",\"it's\",\"york\",\"times\",\"law\",\"human\",\"line\",\"above\",\"name\",\"example\",\"action\",\"company\",\"hands\",\"local\",\"show\",\"history\",\"whether\",\"five\",\"gave\",\"today\",\"either\",\"feet\",\"act\",\"across\",\"past\",\"taken\",\"quite\",\"anything\",\"having\",\"seen\",\"death\",\"experience\",\"body\",\"week\",\"half\",\"really\",\"field\",\"car\",\"word\",\"words\",\"already\",\"themselves\",\"i'm\",\"information\",\"tell\",\"shall\",\"together\",\"college\",\"period\",\"money\",\"keep\",\"held\",\"sure\",\"probably\",\"seems\",\"free\",\"real\",\"behind\",\"cannot\",\"political\",\"question\",\"air\",\"making\",\"office\",\"brought\",\"miss\",\"whose\",\"special\",\"heard\",\"problems\",\"major\",\"study\",\"moment\",\"federal\",\"ago\",\"became\",\"available\",\"known\",\"street\",\"result\",\"economic\",\"boy\",\"reason\",\"position\",\"change\",\"south\",\"individual\",\"board\",\"job\",\"am\",\"society\",\"areas\",\"west\",\"close\",\"turn\",\"love\",\"community\",\"true\",\"full\",\"court\",\"force\",\"cost\",\"seem\",\"wife\",\"future\",\"age\",\"voice\",\"wanted\",\"department\",\"center\",\"woman\",\"common\",\"control\",\"necessary\",\"policy\",\"following\",\"sometimes\",\"front\",\"six\",\"girl\",\"clear\",\"land\",\"further\",\"music\",\"provide\",\"party\",\"mother\",\"feel\",\"able\",\"university\",\"education\",\"level\",\"child\",\"students\",\"effect\",\"short\",\"military\",\"run\",\"stood\",\"town\",\"total\",\"morning\",\"outside\",\"figure\",\"rate\",\"art\",\"century\",\"class\",\"usually\",\"washington\",\"north\",\"therefore\",\"plan\",\"leave\",\"sound\",\"million\",\"evidence\",\"top\",\"black\",\"strong\",\"hard\",\"various\",\"tax\",\"surface\",\"play\",\"type\",\"value\",\"believe\",\"says\",\"soon\",\"mean\",\"peace\",\"near\",\"modern\",\"lines\",\"table\",\"red\",\"road\",\"book\",\"situation\",\"process\",\"personal\",\"minutes\",\"nor\",\"gone\",\"idea\",\"schools\",\"increase\",\"alone\",\"women\",\"english\",\"america\",\"started\",\"living\",\"longer\",\"cut\",\"dr.\",\"nature\",\"secretary\",\"private\",\"finally\",\"third\",\"section\",\"months\",\"call\",\"greater\",\"needed\",\"fire\",\"that's\",\"expected\",\"ground\",\"values\",\"kept\",\"view\",\"pressure\",\"dark\",\"everything\",\"basis\",\"space\",\"father\",\"east\",\"union\",\"spirit\",\"required\",\"complete\",\"wrote\",\"moved\",\"except\",\"i'll\",\"support\",\"conditions\",\"return\",\"recent\",\"late\",\"attention\",\"particular\",\"hope\",\"live\",\"costs\",\"else\",\"brown\",\"couldn't\",\"stage\",\"taking\",\"nations\",\"forces\",\"beyond\",\"coming\",\"person\",\"hours\",\"read\",\"inside\",\"report\",\"material\",\"dead\",\"lost\",\"miles\",\"data\",\"looking\",\"heart\",\"low\",\"instead\",\"feeling\",\"followed\",\"makes\",\"single\",\"amount\",\"added\",\"pay\",\"research\",\"hundred\",\"basic\",\"industry\",\"cold\",\"move\",\"simply\",\"including\",\"developed\",\"tried\",\"can't\",\"reached\",\"hold\",\"committee\",\"equipment\",\"defense\",\"island\",\"shown\",\"actually\",\"religious\",\"central\",\"son\",\"river\",\"beginning\",\"ten\",\"sort\",\"st.\",\"getting\",\"trying\",\"&\",\"rest\",\"terms\",\"doing\",\"received\",\"u.s.\",\"picture\",\"indeed\",\"medical\",\"care\",\"friends\",\"especially\",\"difficult\",\"subject\",\"fine\",\"administration\",\"higher\",\"wall\",\"simple\",\"building\",\"walked\",\"meeting\",\"foreign\",\"bring\",\"floor\",\"paper\",\"similar\",\"range\",\"passed\",\"natural\",\"property\",\"training\",\"final\",\"cent\",\"international\",\"police\",\"county\",\"growth\",\"market\",\"start\",\"written\",\"wasn't\",\"talk\",\"england\",\"story\",\"hear\",\"suddenly\",\"needs\",\"congress\",\"hall\",\"issue\",\"answer\",\"working\",\"you're\",\"likely\",\"countries\",\"considered\",\"sat\",\"earth\",\"entire\",\"results\",\"purpose\",\"meet\",\"happened\",\"labor\",\"production\",\"hair\",\"cases\",\"difference\",\"stand\",\"william\",\"food\",\"fall\",\"involved\",\"stock\",\"earlier\",\"increased\",\"particularly\",\"whom\",\"hour\",\"knowledge\",\"letter\",\"sent\",\"effort\",\"paid\",\"using\",\"below\",\"club\",\"thinking\",\"yes\",\"christian\",\"deal\",\"blue\",\"points\",\"bill\",\"square\",\"certainly\",\"ready\",\"boys\",\"ideas\",\"trade\",\"industrial\",\"methods\",\"addition\",\"girls\",\"due\",\"method\",\"moral\",\"bad\",\"neither\",\"reading\",\"throughout\",\"showed\",\"directly\",\"weeks\",\"decided\",\"nearly\",\"statement\",\"questions\",\"try\",\"according\",\"color\",\"anyone\",\"kennedy\",\"programs\",\"services\",\"DG.DG\",\"nation\",\"lay\",\"french\",\"physical\",\"remember\",\"size\",\"strength\",\"comes\",\"understand\",\"western\",\"record\",\"southern\",\"member\",\"population\",\"normal\",\"merely\",\"volume\",\"appeared\",\"temperature\",\"district\",\"concerned\",\"direction\",\"trial\",\"aid\",\"summer\",\"trouble\",\"ran\",\"evening\",\"list\",\"friend\",\"sales\",\"maybe\",\"literature\",\"continued\",\"met\",\"influence\",\"led\",\"association\",\"provided\",\"army\",\"generally\",\"former\",\"science\",\"opened\",\"husband\",\"step\",\"student\",\"chance\",\"changes\",\"month\",\"works\",\"series\",\"average\",\"cause\",\"hot\",\"wrong\",\"systems\",\"wouldn't\",\"direct\",\"effective\",\"theory\",\"planning\",\"stopped\",\"soviet\",\"myself\",\"piece\",\"george\",\"lead\",\"ask\",\"clearly\",\"worked\",\"freedom\",\"movement\",\"organization\",\"ways\",\"meaning\",\"fear\",\"press\",\"beautiful\",\"treatment\",\"bed\",\"spring\",\"forms\",\"lot\",\"note\",\"consider\",\"somewhat\",\"efforts\",\"placed\",\"truth\",\"hotel\",\"numbers\",\"degree\",\"carried\",\"herself\",\"groups\",\"respect\",\"apparently\",\"man's\",\"plant\",\"he's\",\"wide\",\"i've\",\"farm\",\"manner\",\"easy\",\"$DGDGDG\",\"reaction\",\"larger\",\"recently\",\"lower\",\"game\",\"immediately\",\"approach\",\"running\",\"couple\",\"performance\",\"de\",\"oh\",\"eye\",\"charge\",\"feed\",\"daily\",\"march\",\"blood\",\"understanding\",\"opportunity\",\"persons\",\"arms\",\"c\",\"additional\",\"described\",\"stop\",\"j.\",\"technical\",\"fiscal\",\"radio\",\"progress\",\"test\",\"decision\",\"steps\",\"image\",\"determined\",\"window\",\"based\",\"served\",\"reported\",\"religion\",\"main\",\"chief\",\"gun\",\"aj\",\"middle\",\"british\",\"character\",\"responsibility\",\"europe\",\"learned\",\"horse\",\"s.\",\"appear\",\"account\",\"writing\",\"length\",\"green\",\"activity\",\"types\",\"serious\",\"ones\",\"nuclear\",\"letters\",\"obtained\",\"lived\",\"audience\",\"forward\",\"specific\",\"returned\",\"slowly\",\"corner\",\"activities\",\"justice\",\"obviously\",\"doubt\",\"design\",\"straight\",\"latter\",\"gives\",\"plane\",\"quality\",\"hit\",\"moving\",\"saying\",\"choice\",\"operation\",\"born\",\"pattern\",\"poor\",\"stay\",\"seven\",\"include\",\"a.\",\"figures\",\"function\",\"shot\",\"staff\",\"parts\",\"plans\",\"sun\",\"cars\",\"whatever\",\"pool\",\"DG:DGDG\",\"faith\",\"extent\",\"corps\",\"heavy\",\"hospital\",\"ball\",\"wish\",\"standard\",\"completely\",\"speak\",\"lack\",\"waiting\",\"visit\",\"firm\",\"ahead\",\"there's\",\"language\",\"income\",\"principle\",\"deep\",\"democratic\",\"effects\",\"indicated\",\"established\",\"products\",\"growing\",\"designed\",\"none\",\"price\",\"distance\",\"expect\",\"importance\",\"analysis\",\"pretty\",\"existence\",\"leaders\",\"serve\",\"attitude\",\"continue\",\"division\",\"stress\",\"cities\",\"elements\",\"easily\",\"negro\"],\"x\":[0.6182948904194171,0.5432820387161605,0.6244114952329747,0.6099270186781174,0.5976795196695646,0.5521704457726844,0.5926270698178809,0.659540604217281,0.6222800937194998,0.5634429064653301,0.5522196028142166,0.48135452422447866,0.5945733509152892,0.46658786380053213,0.44386723790917754,0.6210241965096788,0.5273535965082748,0.609382188216699,0.47393341145926904,0.5338044059621494,0.47240040264971256,0.5350514035074276,0.4679045958789559,0.47572476161718874,0.5125495327533959,0.559357288431829,0.47788533790839177,0.4675954562641089,0.5858205054449817,0.5080068849595186,0.587062805976345,0.4651678803795145,0.4765185974077096,0.5462772503307187,0.3963829307247875,0.6123573515843226,0.5334826711621448,0.5397209341118929,0.6072878946606981,0.5042464609438553,0.4891503266676949,0.4593024099753631,0.5850786107544965,0.4782279701816125,0.6909673652760102,0.5330471006544704,0.43568423630728526,0.594593655031346,0.48147185451068614,0.43176643022958067,0.40746841262603195,0.4584730984151445,0.35934300410660397,0.5489893777185111,0.4361343739278357,0.5020069041936797,0.4580745373525745,0.6192760566759563,0.5272840321481869,0.48212323038866783,0.37478675640701803,0.54791161215144,0.2947065160135992,0.4626386830183339,0.3432314938672699,0.5652268313814655,0.45537132256595375,0.38594926124025253,0.4711502969678685,0.43111694159476255,0.3596423650103768,0.4152896117730509,0.5529886754080504,0.4788296939532023,0.5567371665818028,0.49284527544224116,0.4836214020532958,0.4932151682846571,0.49085364284162497,0.6387647228128054,0.4180738873269277,0.44213076760306935,0.45093415519341035,0.5222463454855338,0.4980772406696707,0.5773615808476463,0.5467756909883443,0.4975968633667018,0.44487001358192835,0.6098305323162896,0.402950648653812,0.45709996231592837,0.41281832259221285,0.3985237913997588,0.5550784709281216,0.5083140404285673,0.554119344711994,0.38659932860223095,0.5229234962735579,0.48736528464143564,0.4186464285924555,0.4920048502973388,0.4584531791021148,0.47869061530559354,0.4959153772302309,0.3452936898046386,0.34149608104887386,0.44324094925743207,0.40253649487199816,0.5606956672671545,0.4643710647035145,0.4283838466755674,0.6067228413596449,0.602611063624205,0.37522855653012527,0.5319011527779969,0.5357682082859087,0.4153744861945973,0.58063767669495,0.5075446601096787,0.6049339073526043,0.3644306036601332,0.5182515933990874,0.5116689929179581,0.5300948954732927,0.4492673886557017,0.5770265534941174,0.509604399450521,0.5233091088509042,0.6080231482606266,0.5103465764760271,0.5537804915593196,0.5170430986037327,0.5383876791164219,0.6150348761604223,0.5285107958624773,0.6614067390838844,0.501210437917062,0.299979586456089,0.4235253284923705,0.5493846763182436,0.4251468898571707,0.35491656072775174,0.5380247464649515,0.5178544146540398,0.5546360824673503,0.5284517637252741,0.4880152357612761,0.42743456578745437,0.43076226199698175,0.5691529632312903,0.5511475852398471,0.45868101956311624,0.44480421493903594,0.4817005706335531,0.3944759951128356,0.609758248932247,0.43313017864573294,0.2850211060673112,0.5536926381155591,0.3608338242220644,0.5000960239969665,0.6100446309386842,0.48319546285601445,0.5337108065171524,0.41969531991936965,0.5016375727539518,0.4677965480529748,0.4749535692695272,0.522226139095157,0.5320904255507548,0.4180450850886814,0.33924115162205704,0.518485257640754,0.6198338684683788,0.4256296940268517,0.43140111466685666,0.590221585756337,0.5649324339835267,0.4041386115500583,0.5197754239957154,0.28395546744834776,0.5163383270087885,0.48754858108340077,0.5286738590149331,0.5708093967434525,0.5877785988581223,0.4508970021428967,0.3916128636359686,0.3172238780996007,0.4591791493108837,0.4214202013332219,0.4422361260492567,0.4755352534653007,0.5087176925992032,0.43142547723250907,0.604954913303166,0.4475001011083373,0.7216270207600434,0.5317376017281606,0.4299215497215119,0.617211527137262,0.4280089214137871,0.5318630578830894,0.6240908137647269,0.43371922472278235,0.6512603086311524,0.523425207387096,0.5763443191678369,0.44955812224769615,0.4691811072452875,0.49938964136409836,0.5326870673384385,0.5003076471566733,0.4797797830752896,0.5575814799701319,0.4409021652750088,0.6277366587011779,0.5261935846986598,0.415526074107298,0.5665028704132147,0.5952496159907058,0.36417637570252526,0.4371671719131559,0.5655345175119381,0.6121691225638652,0.5191998117395559,0.4553210340995254,0.4269492246927967,0.5404683832177737,0.5351685917131466,0.5725487313505555,0.5165428459988518,0.38461033366355096,0.47913367299122844,0.521283588111287,0.43795598297887484,0.4672164083079379,0.42472874632926017,0.4910369972153043,0.5203709653508444,0.5229673230977359,0.5384570426467987,0.3249166089600457,0.39936951729592346,0.5225883139057527,0.4306119447366504,0.5220785403009535,0.45444769005331,0.5064974004855786,0.40884512495413594,0.3851136948746374,0.56568212498023,0.5606119589068507,0.51290295653146,0.39904400110748955,0.577084006951493,0.4563224023543689,0.4598029658835656,0.2687531163741114,0.46047234026202,0.4228087835339186,0.5369176741119566,0.5269321719037724,0.516846526272608,0.6022795212188047,0.4378776155809349,0.4098458238904173,0.3922974641146902,0.35553642021285475,0.5827015366978853,0.4079115370420891,0.4126939911730621,0.6033028430785764,0.494589635192131,0.43780271196488063,0.4216198546588695,0.5320537664969861,0.4400392929686394,0.5208005407128987,0.5097346812824788,0.60671873184172,0.5597805603405811,0.5217967703942027,0.5472315302127514,0.4512130174919572,0.4419748218844088,0.5809200666110373,0.5532506508426781,0.5101746188581345,0.5483618315871103,0.5471016200891458,0.4925716587501289,0.5912355972004352,0.5356391087851802,0.6006621189531627,0.47882186046528946,0.640403666931843,0.5737840765339086,0.46959424904366553,0.5877508576464469,0.5209781430796828,0.48151687385308783,0.5227619740981575,0.4195321787311153,0.507811711719832,0.5736501925707345,0.43640577999012525,0.41052934072608777,0.43765596099413656,0.5099882108705547,0.3911143813003629,0.5202858205183042,0.5682427196458708,0.5343487348700218,0.547888276486839,0.6488629798012766,0.6861758575603728,0.49430337895105336,0.5000790518589905,0.42311683772029746,0.5199238767409253,0.5087357448508673,0.43656782880944056,0.5293362326838371,0.44436705490233513,0.5339404493203046,0.5655459022332062,0.5579746898889875,0.4622993780848045,0.49793610354566986,0.4228393066375191,0.5962562700528588,0.48644963901828886,0.5089316321077949,0.40517077972301985,0.4950138879814404,0.6027306590704612,0.5780357379955982,0.3780559541151245,0.5479566981229703,0.3037114836059645,0.4840166518482265,0.580589445115667,0.5161104860355834,0.5318829287930815,0.47878648115308686,0.5524868843677582,0.5404107836173473,0.5326409475456421,0.5213228448668469,0.47251441402414907,0.5466796051458865,0.5428018087813253,0.5291545723895725,0.5257582447300517,0.583462580364404,0.6070394135224502,0.5416127538207162,0.5461517166263886,0.4302854867211249,0.4763960046579499,0.42737574561744957,0.4708987399467379,0.5241972268393372,0.4643485114759906,0.47178211089022043,0.5381365661678503,0.5249847247292642,0.5338281252558473,0.4802747117559803,0.6193272442852286,0.5444819169033853,0.521422138474601,0.5675114102804829,0.4539456837205877,0.4575677204469068,0.40711215010171836,0.5556075277321081,0.41665786156583245,0.4253498445203366,0.4879570855397362,0.5514997939753431,0.46185710406321157,0.354442882994443,0.4552485753806214,0.5073582533014606,0.45699029541705033,0.4565843935658715,0.46377204671806166,0.5826377885879916,0.39422144057571373,0.3440832142316735,0.4135283053408734,0.4962650588464812,0.612112483876831,0.40000628049491027,0.5804701086438072,0.4127562638339994,0.5028797766514255,0.5515141015476129,0.5289005588219846,0.5528938643168745,0.4053293978890733,0.5101882694142332,0.4432570979850607,0.5895587647499906,0.4615324756510107,0.5234600602219771,0.4582638081218562,0.4150461841147142,0.5495568094481957,0.5989741899562233,0.5747522831915107,0.4944576257361844,0.6310799255627662,0.517348072405078,0.457084066828628,0.49051992793448884,0.42724361030713737,0.5556099090320772,0.5213520673317988,0.5224484071555394,0.4842545960382105,0.45210992060843824,0.4961854572829841,0.45513708084272503,0.5233850252988603,0.510057840881799,0.5144233715617405,0.5600434711884644,0.48357442181975635,0.47888383416813063,0.4231513144131221,0.5807194437738451,0.45089783453387505,0.42742777689214967,0.5031906139980755,0.5738269925259212,0.549844152422613,0.5066667376563704,0.49874707012384767,0.45695995355223284,0.5082687115096316,0.5369254078249519,0.5477935217158387,0.4133447575760503,0.3695615792399164,0.4762480568157823,0.4728243099342395,0.550010230449781,0.5052637991530358,0.5366796465357898,0.5266017393814867,0.4279703529232117,0.5499612586701148,0.47934002579432733,0.5075834635760427,0.391712306687414,0.3996465667693349,0.4980212383729237,0.5193514363057468,0.385982947684956,0.492664785879102,0.35696548055377153,0.5338846814271891,0.5444806764855092,0.4899880322238174,0.39239215719875037,0.6053810555619011,0.5376315543476138,0.5415236431597881,0.5389876072729118,0.3310691189225247,0.5478317237370735,0.4885468092649806,0.36316534165529024,0.5126656010609087,0.5195032081822774,0.34730567717139926,0.36228629097155246,0.47731801701780036,0.5548834676921125,0.534620490357784,0.5002757161480761,0.5451622428791383,0.4350223674169165,0.5711670639096649,0.5882236171915196,0.5140475878122527,0.37194851219289493,0.46408276361976153,0.5147692647999613,0.5110167344151794,0.39412099351347735,0.44444132516396956,0.5673055205329365,0.5545458201086173,0.4301883336569448,0.4268276688811485,0.40328891298023495,0.4445181275754692,0.5352175366797205,0.5896251234211656,0.46306588384165676,0.3944052164099586,0.6132725653917293,0.566673788136705,0.4482898679048506,0.5675428236536136,0.5265079369990461,0.5732026632213036,0.5860519918942563,0.44685275434831273,0.2587715472618608,0.5533539311353193,0.4366123495029404,0.4694705231914833,0.5327562346228343,0.4510645057384668,0.4617568837833758,0.4149283440824019,0.5395051507298839,0.40622406036038144,0.544683718960854,0.558334307426307,0.4936818330905828,0.5537764466710854,0.548765427446392,0.49491792336717394,0.5193377341182429,0.596030516017184,0.4859535270108845,0.4272400509344487,0.5374506967184932,0.4993380030753917,0.4553748440685707,0.5166853894156609,0.37481832908461166,0.5181460269374258,0.5484191698876766,0.47982750415577097,0.4418813855354466,0.39820571981984315,0.4712427439374619,0.6059732544229722,0.43015039300322105,0.5180688623644116,0.4506333529107316,0.5543689670111794,0.469099288547626,0.38049777377686217,0.5347061592983087,0.5322865026416753,0.5699858897617806,0.5905323533128589,0.4148165259990948,0.4851455836069317,0.3508624598731491,0.4408020770623672,0.5667750272522822,0.5127660479037697,0.48257271247103045,0.43343563656851847,0.44558002552446735,0.5465366083251502,0.5618308629900054,0.4222815923902769,0.591059752970541,0.5212510167046102,0.543957642989124,0.49357161043328307,0.5717485431187839,0.592924835123876,0.3231574087471277,0.4095938943049278,0.5330804315187463,0.5541333941656555,0.356454023841267,0.4870467190219082,0.5559485854942582,0.5252836984592668,0.5247308102681508,0.4534146753259211,0.391844249562677,0.5565694290805885,0.49995288058053083,0.4433403480741285,0.29501796015294585,0.42933197743943124,0.5177526746261072,0.406740559792264,0.5154319261825457,0.6002676481524079,0.391815242797322,0.5571705909155039,0.47238376391457504,0.3977871999187646,0.5395853736649219,0.5566111002104281,0.4249552855092114,0.3582942827028672,0.4563897937603671,0.4011098060285341,0.4868446270012366,0.6480861559223151,0.4690848760752454,0.44242431004736904,0.4469066363676432,0.4043613074833598,0.5542566885503302,0.3845440411777879,0.5655763361351459,0.4087969827013038,0.5412955335899629,0.42658242648037037,0.3037726461676917,0.6283284704273432,0.5642116421477588,0.5908855207144966,0.49186046003788536,0.4222283334088816,0.575215251359499,0.6354846586298667,0.3765246936423075,0.5245006789047528,0.5544278771134893,0.5644053090320101,0.459803480081363,0.5943068696260141,0.5083160191128141,0.5170950803541472,0.3720927567223458,0.45354038677544406,0.48624132022438765,0.4617198411325462,0.39186985649253214,0.5027787683219822,0.45194772774590236,0.49041853263164065,0.4794469284803074,0.5251983067842949,0.45564857854537666,0.46925183225956396,0.5304442321401216,0.5412180531557282,0.5040281819814586,0.4587032256295699,0.46755550767218557,0.30006706141898104,0.4019849675406802,0.4696229006676532,0.38357776317444275,0.4681230749731916,0.5165553331954076,0.5979477741115177,0.5477434482850811,0.5229133968219818,0.50470334609996,0.45979575939994105,0.5260094286423078,0.5241712517025657,0.47585446537492593,0.4785950736577656,0.5510366756167877,0.4805547027301714,0.536199017370703,0.5926625064363548,0.6004900920600663,0.44028446201526034,0.5022160522433449,0.48466312500186814,0.6247318451934295,0.43776416310937083,0.5459075355187762,0.4692050394142847,0.5081381008810226,0.5212726089583266,0.5301957614814965,0.5215426991023652,0.45753063612581407,0.4339848003260226,0.3787038426775739,0.4913214425062738,0.43773400987861527,0.605531817577078,0.2749213534040101,0.4865112841278863,0.5384624219942356,0.5122563605916566,0.429662110076933,0.4967049188042508,0.39017525208998194,0.5595332162274209,0.556274772103644,0.45563756517101667,0.5011914270879871,0.4977418592947985,0.5127960382909,0.4728700483134663,0.4955923076525748,0.46198985126947795,0.4254658219341288,0.40979563552578213,0.6141009771122439,0.4257121412756205,0.45356165786221436,0.6167425154878569,0.37438964032931904,0.4848325864381051,0.5225879282088348,0.49361496561862506,0.6298885560366547,0.543706603779837,0.5429791392926467,0.5564179638059452,0.4675912097949294,0.3944375161306955,0.42362163038626305,0.5546684402366032,0.5031509970759007,0.49182575152876135,0.45264701111150085,0.4499905668509761,0.5848216401644372,0.4977696177478706,0.5172244028904555,0.4211551074434491,0.478811712576111,0.5413533734086033,0.4212430558979474,0.5033408222095072,0.48333506798572545,0.5228992896728788,0.5441221610865205,0.5086286035947005,0.5040313371280186,0.5149674094470537,0.529084276329916,0.4588719178621483,0.42061484311676556,0.4603278879655677,0.24610254511402893,0.5504393588993808,0.5284887849617927,0.48764919306219756,0.45729147328385034,0.5097442213574758,0.5169920344996762,0.504669337841937,0.5497080778015591,0.510589038734667,0.43856114096192045,0.5657085459731199,0.40891801156513,0.4879845355839812,0.47166824475394786,0.4247726826266938,0.5774693911605359,0.44682709854885055,0.5836750620573912,0.41989622613673927,0.37698790007807337,0.5136180077563024,0.5246984719101596,0.5062179072364669,0.49284415455699326,0.47094589050370966,0.5581927289691581,0.46497636648264945,0.43156047481790816,0.5641365523411435,0.4842913436068771,0.417874006989789,0.4711252463045652,0.4799739145455074,0.5566036494584071,0.5715574663208451,0.539663724348319,0.5185158230564891,0.40086332954301174,0.5342554807403148,0.44593307540718097,0.5361899564326623,0.4320471892907872,0.5266271876616647,0.4705544014130631,0.5389156941088871,0.45535239272812017,0.47056343349501756,0.5742161328016455,0.5001423765334907,0.390581425240589,0.5202565549137144,0.492330542050155,0.4277066002960453,0.5563098488026889,0.372431964985896,0.5283957653825466,0.41239925173064446,0.4547021159292479,0.5033807391655583,0.5297885056619819,0.49416936874161294,0.46460030892835663,0.5268757906698731,0.4508995577290055,0.5456796729114317,0.36580675405401386,0.3322429206261288,0.5709732775805133,0.47584786961606645,0.5509601488674911,0.5566077803484537,0.5311929534536274,0.5009265629837776,0.47344588227400275,0.5011027931626734,0.49461811997310673,0.5663944694691372,0.4874416583761978,0.46619234858828024,0.49935448268669985,0.5756334289488994,0.5143083382703273,0.4772908707756893,0.5897483195500884,0.6082506420003874,0.5350407061168495,0.5517650464274118,0.43550576820332715,0.5401582059441195,0.5927312071117752,0.46106880440722403,0.4832341528545623,0.4771819359989793,0.5210536458263417,0.4623516713432237,0.4771451717173681,0.5662953809306327,0.6106885831271018,0.42938298240566614,0.4037995601567535,0.48088135074983657,0.45246593482132585,0.4800591243361982,0.44939250885156473,0.5539270531912549,0.5513041540783141,0.3681378200292343,0.4303202769255283,0.42342128415482666,0.4638964548120323,0.4288734269358447,0.4502935165233984,0.480765475420396,0.4994959567799365,0.5510057421526897,0.4667413251305038,0.5715084596705662,0.4092483759774316,0.34024602904664225,0.5586656590836125,0.5654518899330604,0.37839138513543497,0.36790956245593337,0.45238922177942964,0.5107577072077597,0.47526643500264154,0.4483548188289266,0.49282316536650883,0.5413375192974882,0.379136428165887,0.4410937865569552,0.5057846360550375,0.47758808179279194,0.16196457885099708,0.44509112535014306,0.42774502412374443,0.43815842150020723,0.4660188869632602,0.4820807990491028,0.5280195404303398,0.48977790156401746,0.4736119214625317,0.5539728859475733,0.4601050424495262,0.463009705724883,0.5734182479038238,0.4929123815935788,0.5565000153892042,0.468533373777583,0.4382497748658044,0.4861906189385041,0.3807033550154233,0.48456323848620564,0.4426789162292555,0.5178379338509849,0.4377505947529081,0.4504380833850996,0.5401824637031482,0.4907179315720276,0.21762729336073158,0.5323728917054228,0.6173077329214413,0.5596076001267202,0.4811211841089816,0.32996760465601915,0.5138522744332649,0.4268341945322875,0.5270492197894491,0.5466424437834452,0.38646446175291194,0.5394826702528414,0.46690846642267386,0.5234672351312564,0.5526998623920967,0.4501059989587464,0.465603644302863,0.48797770102719057,0.4633199322399293,0.4992922733295447,0.4357644027925842,0.5391354513748747,0.5872678955608546,0.5457695512095732,0.48660060522612947,0.48181214688689306,0.5741712074903198,0.5584767036794375,0.5379238591758415,0.5322028387863553,0.5643215513929761,0.5451659615923765,0.5172459217070043,0.5851819213192645,0.5424317215684032,0.47414930796997967,0.4200528153673629,0.5372915375791919,0.5089807136711655,0.4163309787152188,0.4715914656789966,0.15465625864532972,0.5391295920242163,0.4256256488775224,0.5453252751630165,0.460307938356575,0.4846499329300599,0.5447006041965782,0.4681591910044522,0.5757237164298789,0.6113047257182608,0.576683390058632,0.3606409736133132,0.5276752749011562,0.48146117750624573,0.48052166095209464,0.4577558282885202,0.4553034363757553,0.5002137069274053,0.5000270091193821,0.4636624769671708,0.5232807073221996,0.4924932709652161,0.5421372905335584,0.512637906834033,0.53219110732133,0.5183916565456741,0.479674481598152,0.5401178234920823,0.5464364832278302,0.372165605165644,0.4924701138702083,0.42937728622413723,0.4021485580276082,0.48277339444622247,0.513250832487925,0.5116558102044474,0.4417720320095539,0.5293206989875878,0.45326375382248035,0.5965374753618464,0.4268671340252851,0.47425922601647286,0.49445941750581063,0.45195348839050564,0.4680063956647524,0.5863263801365796,0.5235834889428453,0.45343335691112846,0.543959119140417,0.4627198189822936,0.5032951299971494,0.4733384317781731,0.5235679309194916,0.4654602892479683,0.5282489476029509,0.5451377803130546,0.43522559853828435],\"y\":[0.49099164782683974,0.45646955471385736,0.48761637281500375,0.4580167133474879,0.5479863245138394,0.4067787933163747,0.45673485917508544,0.509664516546115,0.5069193258491498,0.4200710664946784,0.45365638758335025,0.3592514945682341,0.47627468212809276,0.41908904586162465,0.4109798027660324,0.3937023225179089,0.4819324615928098,0.5228189895425654,0.4388271014567993,0.46671416986702025,0.36893287216014925,0.4601745077194468,0.40270676355564333,0.42279890211332966,0.29433190120496566,0.44388710857527974,0.37776732335101215,0.3375929246445843,0.394118991656534,0.38316797446613965,0.4831357617122604,0.40016329047026755,0.4032505050655265,0.38206320293666024,0.3239868072096004,0.37309848538450263,0.42135150105498875,0.41097856616459355,0.41291870879979153,0.2357680585290256,0.38331598547744616,0.35080700522740715,0.43937181126831637,0.2917417381252933,0.3090868439546057,0.3545433292617248,0.36353858964790725,0.29215987641845864,0.3134361277322711,0.3031665927396148,0.2991671470898786,0.30953930812080266,0.27532686395060274,0.4238498060159041,0.3088424611599457,0.32499476164786817,0.2945097191549584,0.3922449560173518,0.3262089608610613,0.32147922621191466,0.1993003577407424,0.3607451905096071,0.19166562572251522,0.2673867643535802,0.19214523700008368,0.3032383474631146,0.299366590416638,0.29282671582471564,0.31458391195385516,0.29212384152251647,0.27758273087836555,0.2715655570701613,0.2798781303859832,0.29097900171338326,0.36101584755668686,0.2977467357771819,0.3314794597242317,0.3271274656283929,0.2681740630871592,0.23099803054339985,0.23922785458002263,0.31178343475228976,0.27748253750517116,0.3039931702735947,0.325409064951565,0.1827603747414002,0.29099276207587865,0.2704411074613936,0.29842951789316063,0.3307294094595608,0.28663857752747846,0.2991965943521884,0.2740564679289634,0.2619921860103247,0.22646494277389653,0.22743604136357692,0.3052351557511834,0.2637031546344875,0.2529676255941478,0.2812164224410941,0.24091016908204999,0.20489525267445596,0.2722788659309576,0.25461888787562426,0.26521436106887636,0.12129259122308224,0.23444879721377654,0.20983501475977664,0.05033847925900816,0.22945769248728035,0.2535926209326658,0.2356227338089421,0.1333779937443745,0.2729523389124635,0.2124142712063331,0.25928059445709006,0.24988652024577424,0.23205264916682847,0.22558650760987112,0.26018303248386204,0.12935094935407937,0.20888616444673733,0.21874598854164456,0.22837779383824064,0.23805175040480225,0.1754071253877473,0.23235945868604752,0.2016801983670342,0.19055682825463616,0.16788175683182813,0.22559569027447196,0.15269913971881283,0.21033351355324856,0.17071397088041493,0.156329880890964,0.22383006637501462,0.21511575862727292,0.11814668103103033,0.18263772256201874,0.2426768825721004,0.15781874098268472,0.22527919985314868,0.173923073345288,0.1667458484140456,0.1071705894876424,0.1981611022424329,0.2306387653564973,-0.024872767930627305,0.22785298607727242,0.19928606259983514,0.14870510373936735,0.22766867023510218,0.23659747863408512,0.2208216303698778,0.06772932465805458,0.2186594637555472,0.027560226968295465,0.1952727068778825,0.17504162831764547,0.024018894137270267,0.13399849085788607,0.14382227466616448,0.15084433757706076,0.1461320359025312,0.12363305264170889,0.16677706975364356,0.1355825696586393,0.20694436654387616,0.1559607704129901,0.15415189269572205,0.13096740175049826,0.1942696798672871,0.17963356924052526,0.20188793401178462,0.13747106730637831,0.178628686010533,0.21707374845061125,0.2915870036084755,0.13407780702798136,0.17169191308562315,0.14253420234850883,0.16112875978723007,0.07838067606588246,0.05233361963685608,0.025616334526966086,0.040083129107008376,0.18547644451701942,0.16172884111216418,0.1495074776569099,0.17066042323412683,0.09455918968101598,0.1740784276674984,0.05602711337860068,0.14996843702509063,0.10831190161678426,0.08587895469779624,0.08273475839331317,0.16996355303293662,0.04844839843759104,0.0960205123390169,0.15754738527810766,0.15659434366181768,0.1479128643736065,0.145860318622298,0.11150556757143626,0.11248519803767972,0.187135136210612,0.16091281657911607,0.059638909072025396,0.1410384784732394,0.0062663956429317574,0.17203165750181007,0.08698084893235024,0.13054964396651278,0.14086421817902395,0.0720518689786427,0.05695314773498208,0.15962904084887589,0.09296778585355264,0.11184756692598379,0.12755660982540235,0.13335984516319613,0.05603965658345029,0.11869002366645656,0.08662788871637386,0.028485658270350298,0.05926494791428735,0.024885618780145616,0.022281836944932146,0.12147571648821315,0.07497557567195999,-0.008705563741932775,0.008613546660194314,0.05097479113980584,0.1495904075289348,-0.0018375273896301919,-0.004340775241094421,0.14010687213545261,0.0905038006599288,0.11957312582572716,0.1180914450873915,0.11280651706079708,0.08617757232401255,0.1410941731636063,0.14168766498920413,0.06687485634936757,0.0028773550182739555,0.13362239544254867,0.1102587904496039,0.007734057704424696,0.12539058636571554,0.1672580240559012,0.0740707322158526,0.1207511176130523,0.15067221210305412,0.13577743214186416,0.11600341731436913,0.17621039699349045,0.1252727644162501,0.04560954981196021,0.08581496316409827,0.15006289843995047,0.0854536078259154,0.05777068420380152,0.1626990516442007,-0.02567732008561596,0.0054340813978497665,0.11343733551252136,0.11128780967599253,0.09811089689840895,0.03585191577333759,0.12278427706748343,0.13389953865520576,0.06174779426877816,0.15059741358103146,0.1259533590222305,0.15777939761716273,0.06976488503526626,0.14185296692000215,0.051863432429190205,0.07919270038569548,0.11153923687079359,0.034601338869691786,0.11273839258722923,0.1160861386293682,0.10469291334764215,0.050388488463737516,0.10806013874023045,-0.03133667323926323,0.10414306538743996,0.09965149208532381,0.0510530363815312,0.0008139417381266209,0.01740680678941041,0.039788862796242136,-0.01585987164336354,0.038230986334857726,0.06467777735683161,0.16416257519376387,0.043641673571971885,-0.15199430879392428,0.11758731092405107,0.14446719234959496,0.045108969334502785,0.10131795840212393,0.028336010184620123,0.09239310198894858,0.13490359504098143,0.04586188063421308,0.11068146531232818,0.19268652752146073,0.16738470300497624,0.07432269815824126,0.04077421636444084,0.08230985131188917,0.11071317633256045,0.00963013468755232,0.04122142147265551,0.12420372704817097,0.011694500447785637,0.050099311473293745,-0.009380737824261545,0.03111739764562506,0.11525791985510461,0.04024148121857686,0.14291218203282613,-0.019407394198712444,-0.04785592034665328,0.009071141181081765,0.08647281157155365,-0.02970686915588706,0.1342669915177086,0.043644941618171514,0.03023335720250987,0.12331795693317432,0.10090144806554514,0.07928618433361644,0.11344898073243587,0.13763962829041193,-0.018481487725567028,0.04440311331975446,0.14950559340628392,0.07168369771176994,-0.06935098250044075,0.1016481160134402,0.01949046921280924,0.13055011322827528,-0.0731946077875794,0.07527064509864913,0.004199976870034506,0.05591219543722059,0.01571973408086918,0.03971615381613323,0.059491579105429834,0.08472694812512412,0.02055086855895918,0.03715707113541669,-0.029320303114303416,0.11125078298841921,0.08551492246700781,0.07091098416753945,0.016927721236411508,-0.04592507233442225,0.07844009015174383,0.11535339385686398,0.011919919410960354,-0.01595255438945566,0.014291986005592944,0.06837039517221878,0.020265290796287624,-0.06864528550415833,0.04068643455035497,0.06869845944787804,0.13102435749598923,0.08751221160974669,0.12509353456827646,0.1235982841056404,0.10304731505024606,-0.05067328945725073,0.09293652493855686,0.13016742167772155,0.04001739758954297,-0.00042464594398119196,0.1354387013712363,0.13660457565186054,0.10403098653759796,0.012461696154577115,0.013280840957960739,0.07943462056466526,0.04567609023024469,-0.041257990577919255,0.08878083087657887,-0.022044418755721034,0.1187557574478775,0.0026376634606566176,-0.06927199875535475,0.03920038255647291,-0.08987053904068458,0.07444258969717595,0.032844170680061034,-0.06434118592832094,0.0170612270493991,0.013621805350322555,0.03134098701118487,0.07707445036677713,0.07654185004329954,-0.036107934612036936,0.05677054366898264,0.003311978447518881,-0.005354776752766579,0.06542012070923313,0.0442754071244119,-0.07693803041276695,0.012175790598230254,0.008636514189348521,-0.019047300624676546,0.11297195303809135,0.039993586588866155,0.041574500590391986,0.030338520690517554,0.034593755324334244,-0.0442127347349513,0.11057828695667819,0.0076283057587060036,0.03297235502751753,-0.008812971748572183,0.07133260816089909,0.000974550066864306,-0.04236700354267996,0.027148501288597787,0.03732638872168057,0.04849058417989948,-0.020664908293918982,0.12831675277946097,0.11522993427001932,0.0021309095503318103,0.03371880426723544,0.012049741382010707,-0.020221183367930107,-0.014629958482470899,0.1032286145685339,0.05834119418275215,0.0474631146756636,0.027691931898747073,-0.11710527826955779,-0.03381774388965084,-0.002660369660450877,0.023956160254334943,-0.015485063079005329,-0.016033620268160423,-0.034037535383768566,0.019252149537314838,-0.006686478802411971,0.09249346094392588,0.08388288069057871,-0.038315468197878295,-0.04451429411133133,-0.04918191323096759,0.06658070516089569,0.010853830746047602,0.12808574055306388,0.02933298692109578,0.021362553276205176,0.07483931648093743,0.0344527607944031,0.003142251750707573,0.11365627297098102,0.09150038959124875,0.06846776708513751,0.09106785795897378,0.037463459479309895,-0.012613444226838645,0.04422718438309298,-0.01706833664088533,-0.05174568758192961,-0.005145773479686326,0.06098909064160598,0.08348322325843253,0.05134734905261402,0.12985487903192613,0.05186711309111498,0.03612692071104566,-0.02131112471357717,0.06870494688638341,-0.01627699665286154,-0.13222746381851153,-0.007811355801801525,0.00017067163838932887,-0.07578070038793668,0.01532845286001982,0.13611807304777715,0.06327214225250598,-0.04360022414229598,-0.029874948972224546,0.0871672167188911,0.006576402580864121,-0.020048181587005703,-0.07494377827304483,0.03881182057281845,0.07364026172901841,-0.09031522433370713,0.09459478814443296,-0.11480608743635017,-0.08203296525315476,-0.06707846784148791,0.06391685766345066,-0.008094188675426375,-0.107399500742063,0.07221733681087351,-0.0035408194955674622,0.045001773205303165,0.0007198938488898861,-0.012585058306693132,-0.0022611335264827643,0.07508362273721514,-0.038980656541502616,-0.008427027278479639,0.07207642644983742,0.10651100988192899,0.04184011115773834,0.01245252344134349,-0.08131880891159114,-0.024264894448101215,0.027037316367447117,0.008460182915996005,0.004739256731248672,-0.035633959548190146,0.009583411920670519,-0.0538757367775823,-0.021212932578776867,0.0039612435815610655,-0.058783774484521364,-0.04337800560007663,0.015855059637289292,0.022264494820585852,-0.023473377642594218,0.044756438673033784,-0.07621616980545722,0.03865367214492012,0.03067184445361658,-0.003366037715109436,0.042500244313235715,0.051062101968987236,0.017359603743398542,-0.05970717575306099,0.04235082376875229,-0.011899804294569738,-0.04021502060596597,-0.01179718618388835,-0.08634847216046665,0.06317164566346237,0.028917345766767473,-0.016979076325347953,0.0258927035007481,-0.059672135543059265,-0.07099327410901203,-0.019281508843769907,-0.12345145062474533,0.047957852180347996,-0.003599335812655501,-0.08569822807757588,0.03640244277589333,-0.04875658991283614,-0.027970767247615408,0.09617822178055516,-0.08892557361309168,-0.08458217257976029,-0.06494476884102479,-0.06513244526993756,0.06928143959241394,-0.018584491207766278,-0.005307768471697421,0.01190173469985982,-0.026658314126975426,-0.045619550841092614,-0.02213184530367082,-0.060067238247364214,-0.10097867849418159,0.05723780374090529,0.11190878809096454,-0.027265928995437404,-0.021584967620029597,0.02459228337164843,0.06990475888881952,0.012083479433691924,-0.03293608322658733,-0.03374562579634304,0.031679332674187946,-0.01851397385494042,0.07098410290567156,-0.01842606416067086,0.038204624226915784,-0.08384288346858106,0.04649370998041028,0.10247004373153609,-0.03508252595555669,-0.02249794847266287,-0.03458840378988694,-0.07580777022228101,-0.029528865215991,0.03713703959553316,0.039014820702335744,-0.0020518138280859483,0.021590545646960453,-0.06417238166052602,-0.006672641809549949,0.03030224422642128,0.027953028913550396,-0.09067997495197916,-0.05786390056405464,-0.05517703683443651,-0.01808030575216451,-0.024992330526176144,0.041758448468021486,-0.08513276177146226,0.05939901104668695,0.07970683831207935,-0.17534635996453649,-0.028304815090228617,-0.17161324667464914,-0.004769693743662991,0.056677215158018365,-0.005982713629569511,-0.0719279351855733,0.06905765639616988,-0.11349633952311615,-0.08149637777849852,0.0976423225353194,-0.0177111694308563,-0.08089696757488991,0.01867045207720555,-0.028517974167528742,0.05804460754364675,-0.05285422054320686,0.0565742403574849,0.014901135934178607,-0.13848535363220285,-0.036547704134127466,0.055854923045546505,-0.04049640030988137,-1.208484514594376e-05,-0.00926862109605791,0.08557238024027553,-0.0005814627195769647,-0.16650384900583703,-0.01193879269086028,-0.026266828792804606,-0.00986304772335338,0.06179553753257023,-0.0628706478315076,0.07880789730079771,0.02917615836922825,0.04397599567712183,-0.004302266243195027,0.007107061464434338,-0.09241329878861539,-0.11473002590364247,-0.07582719631714797,-0.10600547265990998,0.004711487952778004,-0.05518666407056378,-0.08386460383681682,0.05227781470626194,-0.011578683807397579,-0.014078710931659058,-0.04855371609764244,-0.07652813531347046,-0.1343024154216828,-0.08845319885083668,-0.03937074502576603,-0.030597000573244538,-0.15652752393488606,-0.13421367963017633,-0.09083122013230921,-0.07532110737885438,0.034478015723759275,-0.06316683317754146,-0.0938893172671828,-0.004367738234717009,-0.21580051863015223,0.04039521068857139,-0.002782848068287611,-0.05744317210022291,-0.07359811459037635,-0.06894549910850006,-0.10457572062711942,0.05283886213253102,0.016047844724230195,-0.10173030676212744,0.004963673472715624,0.03360553653133941,0.006269304268474736,0.030362258044750186,0.012955693503910305,-0.06315147084352667,-0.11037791530007782,-0.05454000068425638,-0.034996704013646136,-0.055036677531004136,-0.002690595994840936,-0.10592342582851096,0.046040576294415624,0.07389378296826031,0.027617047115638164,-0.1442487796544891,-0.06528508854323795,0.07765294606428869,-0.13261535047336606,0.09597064153084729,-0.06511314924558957,0.003320706830262978,-0.069970353961585,-0.03151750522712772,-0.00889704917495904,-0.1292468808987958,-0.10584442271432858,-0.011851729556645617,0.04552416089462472,0.012769256430752404,-0.09920850891906223,-0.0874208012364681,0.026807757652268897,-0.04030512981543855,0.028000064739197437,-0.10324116261320575,-0.016984890131016728,0.006768529721920624,0.08825392475317917,-0.01034758303756323,-0.030876844131206744,-0.10215628287591677,-0.034105669847677,0.07166530081591259,-0.10889375030881407,-0.13154044962689548,-0.04354110294849754,0.15293154629596448,-0.02344043152976867,-0.04318914206002682,-0.0457372784548167,-0.01690377825162485,-0.035487262864960796,0.013889285822020411,-0.2360647864612647,-0.040594435898994294,0.013283702645683581,0.04544782761598363,-0.1796632864494732,-0.09006858252123104,-0.05820207102718381,-0.09318874401887459,-0.13627909450615622,0.04439633890464061,-0.0575249792077002,0.06888972991798324,-0.13544201534608022,-0.05805920397844424,0.005827780906834616,-0.010824549229277081,-0.027976584868934666,-0.07206603562672326,-0.050226413987288894,0.0005421114198647566,-0.09852219632360176,-0.11354238562454724,-0.040698087917937505,-0.08740733083431404,-0.09911787970640917,-0.13857110120063554,-0.1164460246430548,-0.09051684729534429,-0.07609645250181643,-0.06960176969743384,-0.006261420456108023,-0.10089058141624656,-0.07167885865242042,0.02592030634079583,-0.14143454223868468,-0.08500370136941711,-0.07044381686478135,0.025685222861691812,-0.08355426716709692,-0.0026150909763564107,0.05938197829228882,0.047495357128621574,-0.007264724503323969,0.023068017750820357,-0.12393022554928132,-0.11490719051924335,0.02176935581719026,-0.10908555673641437,-0.0016036526335212072,-0.0908976474449743,-0.10877655138833034,0.027123489252303595,-0.04316730817798208,-0.062348556117916315,0.021053939262111285,-0.1452063327007401,-0.027290271013287525,-0.0194575974471298,0.035372503580230426,-0.057929969519048476,-0.06482608928642956,-0.04135060021311812,-0.0451594133862074,0.04725528437986307,-0.11434240418527444,-0.008492843572172176,0.02848867139588793,-0.11895482936285151,-0.08530842830737514,-0.02971695543717387,-0.193335609886162,-0.06526972504942055,-0.057268575572513615,-0.10626072795574266,-0.15226771313290088,-0.08093233991453233,-0.09513113854125888,-0.029570222110211677,-0.03573834833759702,-0.06499932030924903,-0.12651386959435512,-0.11472517560451091,-0.08433233070487131,-0.05696890251149997,-0.12347363356317033,-0.0639264266077881,0.003328580887066014,-0.044436996858150765,-0.11848329732142189,-0.11570190775635399,0.005265754820548076,-0.0658514645869662,-0.06006328933761849,-0.187711237341749,0.015573332394498467,-0.11176849657170179,-0.06162656945625525,-0.012848875430070838,0.061547571584200045,-0.010504109240004953,-0.06760080894896114,-0.006061869865976373,-0.04091765928086642,0.012626374338750197,-0.18777758414182089,-0.09240492732014698,-0.043700144146778114,-0.051991160073455576,0.031167922903608248,0.01150641791581797,0.02379346030470443,-0.014349514428581931,0.043014707647272554,-0.09974212326898693,-0.13799392246290096,-0.040484345093439185,-0.14468390983154714,0.031346107732351816,-0.09554733318412037,-0.14893215008034658,-0.07912199742015652,-0.032919663904471715,0.05215288510605165,-0.07057941626235174,-0.07463253347993497,-0.07806094220194099,0.0286627741001226,-0.11391133355394735,-0.08852825064394575,-0.05910469828221976,0.06279726448792763,-0.09346729755057887,-0.04988918326611338,0.01028881657811992,0.025367738905486298,-0.06505483609556367,0.03593282234351029,-0.0929980724272697,-0.004127023925023391,-0.1340859640028657,-0.10807144312923458,-0.14251078984527546,-0.0680955950500746,-0.15099936659525903,-0.026349617539322752,-0.19351664865540905,-0.035069623372254194,-0.06079331283063064,0.016152005229301124,0.04335110127750573,-0.08613305288192942,-0.031565432538452155,-0.10562446805118712,0.02183094879974395,-0.05113177832923698,-0.06773583304492688,-0.07693174668713111,-0.20729193654319378,0.01083192506922614,0.0217119470047802,-0.09472469144598156,-0.20159026678645706,-0.10025370318036757,-0.07237041220403911,0.05443113300218311,-0.09756484618719645,-0.04438524883616965,-0.03755642677112984,-0.13203783638774655,0.01188833259690982,-0.11866344618192931,-0.12421758085019881,-0.22103637444103358,-0.0944127061165915,0.015212065060487985,0.048694628190596626,-0.1428829578694803,-0.009566010908490116,-0.1709128748566782,-0.08837149242869151,-0.09673269833406178,-0.017178462808360814,-0.17831821002990697,-0.014140667356086083,-0.008997616815708048,-0.10712973474839402,-0.025377669221932825,-0.15801241334198277,-0.02826542728232774,-0.09813101685718788,-0.08513968629425601,-0.1602745467942999,-0.1306658171477713,-0.08812421475166725,-0.13189200085934097,-0.008774354236413715,0.019556026085354453,-0.1685263492708088,0.034980641914735364,0.00662863965565386,0.006025889144415983,-0.0922727002449538,-0.054576558240131044,-0.23275075592211544,-0.021809691454879317,-0.12962165118676117,-0.11025331801334397,-0.051534963259100695,-0.1358975284023934,0.00523524446295586,-0.11793040841826595,-0.06928955708004815,-0.12629110776215705,-0.17832430554062453,-0.06389518337694806,0.018181580729860355,-0.03235494224849178,-0.0740564411580267,-0.17214610811299486,0.005185573242633187,0.0142851659469663,-0.17269315092982163,-0.034530637663400955,-0.11550589456370111,-0.09443321658227936,-0.02067204146617436,-0.03511031122780929,-0.12863851322170636,-0.0991436111749386,-0.02748751153086825,-0.06354054453055404,-0.011240191933309425,0.02929327496633371,-0.06834694831928122,-0.022184909602201777,-0.0784066346333259,-0.07910891886616564,-0.06042240486485043,0.014423895187263336,-0.22538503647875144,-0.014617688863066178,-0.1883845588197131,-0.16034331951442043,-0.08668647808810248,-0.07405703696030744,-0.052002212213707995,-0.17853918916354175,-0.12539826927608036,-0.032543324490620695,-0.11467630023346251,-0.046712102952734126,-0.08118945043433629,-0.08936034940355898,-0.16900914567172995,-0.08680500865331318,-0.07248543069163786,0.04495285746009229]}},\"id\":\"207cf2d8-c8f5-47b1-b30f-11f719f0c6ea\",\"type\":\"ColumnDataSource\"},{\"attributes\":{\"active_drag\":\"auto\",\"active_scroll\":{\"id\":\"62e857b8-cf35-4a86-a8c7-ca2c5f7bcc5f\",\"type\":\"WheelZoomTool\"},\"active_tap\":\"auto\",\"tools\":[{\"id\":\"14a9699f-81f4-4c73-9887-945a61e80e7d\",\"type\":\"ResetTool\"},{\"id\":\"05f8df3a-5449-4bd4-b308-2b3fcec8cea3\",\"type\":\"PanTool\"},{\"id\":\"62e857b8-cf35-4a86-a8c7-ca2c5f7bcc5f\",\"type\":\"WheelZoomTool\"},{\"id\":\"80858eae-a081-4630-84f6-9b52f0649d67\",\"type\":\"BoxZoomTool\"}]},\"id\":\"67879404-35d6-4070-94a1-22493b2f666e\",\"type\":\"Toolbar\"},{\"attributes\":{\"plot\":{\"id\":\"62a0d839-2398-42d5-81b5-151b2eb296ef\",\"subtype\":\"Figure\",\"type\":\"Plot\"},\"ticker\":{\"id\":\"3eaef4d5-4130-4717-96b0-87fe38c01f3a\",\"type\":\"BasicTicker\"}},\"id\":\"b7143370-8920-4010-8927-55e624485fcf\",\"type\":\"Grid\"},{\"attributes\":{\"data_source\":{\"id\":\"207cf2d8-c8f5-47b1-b30f-11f719f0c6ea\",\"type\":\"ColumnDataSource\"},\"glyph\":{\"id\":\"d54de5a2-62a8-453b-b600-5f09156bf1b1\",\"type\":\"Text\"},\"hover_glyph\":null,\"nonselection_glyph\":{\"id\":\"32d2131b-4627-4bec-a2c2-940e9289492e\",\"type\":\"Text\"},\"selection_glyph\":null},\"id\":\"0d463857-793f-47ba-ba41-294edef161a8\",\"type\":\"GlyphRenderer\"},{\"attributes\":{},\"id\":\"0d981a37-b1d3-4f38-894e-4bf1bd196a61\",\"type\":\"ToolEvents\"},{\"attributes\":{\"text_align\":\"center\",\"text_alpha\":{\"value\":0.1},\"text_baseline\":\"middle\",\"text_color\":{\"value\":\"black\"},\"x\":{\"field\":\"x\"},\"y\":{\"field\":\"y\"}},\"id\":\"32d2131b-4627-4bec-a2c2-940e9289492e\",\"type\":\"Text\"},{\"attributes\":{\"callback\":null},\"id\":\"250b15db-af59-42b8-a738-6df4bdc5ff5d\",\"type\":\"DataRange1d\"},{\"attributes\":{\"plot\":null,\"text\":\"Word Vectors\"},\"id\":\"d7731a2e-0ba0-4dae-97ce-3f8a63dcec30\",\"type\":\"Title\"},{\"attributes\":{\"text_align\":\"center\",\"text_baseline\":\"middle\",\"text_color\":{\"value\":\"black\"},\"x\":{\"field\":\"x\"},\"y\":{\"field\":\"y\"}},\"id\":\"d54de5a2-62a8-453b-b600-5f09156bf1b1\",\"type\":\"Text\"},{\"attributes\":{\"bottom_units\":\"screen\",\"fill_alpha\":{\"value\":0.5},\"fill_color\":{\"value\":\"lightgrey\"},\"left_units\":\"screen\",\"level\":\"overlay\",\"line_alpha\":{\"value\":1.0},\"line_color\":{\"value\":\"black\"},\"line_dash\":[4,4],\"line_width\":{\"value\":2},\"plot\":null,\"render_mode\":\"css\",\"right_units\":\"screen\",\"top_units\":\"screen\"},\"id\":\"e131a388-7fe2-42c3-ace2-1cffe1702c25\",\"type\":\"BoxAnnotation\"},{\"attributes\":{\"below\":[{\"id\":\"f4273efe-0a39-4d7a-95ea-d50f5438542e\",\"type\":\"LinearAxis\"}],\"left\":[{\"id\":\"eb8e362d-6b84-4231-a55a-ed41498e6565\",\"type\":\"LinearAxis\"}],\"renderers\":[{\"id\":\"f4273efe-0a39-4d7a-95ea-d50f5438542e\",\"type\":\"LinearAxis\"},{\"id\":\"b7143370-8920-4010-8927-55e624485fcf\",\"type\":\"Grid\"},{\"id\":\"eb8e362d-6b84-4231-a55a-ed41498e6565\",\"type\":\"LinearAxis\"},{\"id\":\"05cbee06-160c-49b9-99e8-12e68e566042\",\"type\":\"Grid\"},{\"id\":\"e131a388-7fe2-42c3-ace2-1cffe1702c25\",\"type\":\"BoxAnnotation\"},{\"id\":\"0d463857-793f-47ba-ba41-294edef161a8\",\"type\":\"GlyphRenderer\"}],\"title\":{\"id\":\"d7731a2e-0ba0-4dae-97ce-3f8a63dcec30\",\"type\":\"Title\"},\"tool_events\":{\"id\":\"0d981a37-b1d3-4f38-894e-4bf1bd196a61\",\"type\":\"ToolEvents\"},\"toolbar\":{\"id\":\"67879404-35d6-4070-94a1-22493b2f666e\",\"type\":\"Toolbar\"},\"x_range\":{\"id\":\"250b15db-af59-42b8-a738-6df4bdc5ff5d\",\"type\":\"DataRange1d\"},\"y_range\":{\"id\":\"21a6d319-e5b7-4b38-97d4-ab60cce3387b\",\"type\":\"DataRange1d\"}},\"id\":\"62a0d839-2398-42d5-81b5-151b2eb296ef\",\"subtype\":\"Figure\",\"type\":\"Plot\"},{\"attributes\":{},\"id\":\"d56c32ee-df03-4092-8ca7-b4c18e4bd6e8\",\"type\":\"BasicTickFormatter\"},{\"attributes\":{},\"id\":\"3eaef4d5-4130-4717-96b0-87fe38c01f3a\",\"type\":\"BasicTicker\"},{\"attributes\":{\"dimension\":1,\"plot\":{\"id\":\"62a0d839-2398-42d5-81b5-151b2eb296ef\",\"subtype\":\"Figure\",\"type\":\"Plot\"},\"ticker\":{\"id\":\"fe67196d-2e81-4a62-a1b0-94a7eed1132f\",\"type\":\"BasicTicker\"}},\"id\":\"05cbee06-160c-49b9-99e8-12e68e566042\",\"type\":\"Grid\"},{\"attributes\":{\"plot\":{\"id\":\"62a0d839-2398-42d5-81b5-151b2eb296ef\",\"subtype\":\"Figure\",\"type\":\"Plot\"}},\"id\":\"62e857b8-cf35-4a86-a8c7-ca2c5f7bcc5f\",\"type\":\"WheelZoomTool\"},{\"attributes\":{},\"id\":\"fe67196d-2e81-4a62-a1b0-94a7eed1132f\",\"type\":\"BasicTicker\"},{\"attributes\":{\"overlay\":{\"id\":\"e131a388-7fe2-42c3-ace2-1cffe1702c25\",\"type\":\"BoxAnnotation\"},\"plot\":{\"id\":\"62a0d839-2398-42d5-81b5-151b2eb296ef\",\"subtype\":\"Figure\",\"type\":\"Plot\"}},\"id\":\"80858eae-a081-4630-84f6-9b52f0649d67\",\"type\":\"BoxZoomTool\"}],\"root_ids\":[\"62a0d839-2398-42d5-81b5-151b2eb296ef\"]},\"title\":\"Bokeh Application\",\"version\":\"0.12.0\"}};\n",
       "            var render_items = [{\"docid\":\"8f2552cd-d518-439a-b025-99a225b2dac1\",\"elementid\":\"31d489a1-2465-400d-bac4-c9268b9eeeb8\",\"modelid\":\"62a0d839-2398-42d5-81b5-151b2eb296ef\",\"notebook_comms_target\":\"32e0ba90-17ca-4a51-8ea6-a9eb9b1c3b12\"}];\n",
       "            \n",
       "            Bokeh.embed.embed_items(docs_json, render_items);\n",
       "        });\n",
       "      },\n",
       "      function(Bokeh) {\n",
       "      }\n",
       "    ];\n",
       "  \n",
       "    function run_inline_js() {\n",
       "      for (var i = 0; i < inline_js.length; i++) {\n",
       "        inline_js[i](window.Bokeh);\n",
       "      }\n",
       "    }\n",
       "  \n",
       "    if (window._bokeh_is_loading === 0) {\n",
       "      console.log(\"Bokeh: BokehJS loaded, going straight to plotting\");\n",
       "      run_inline_js();\n",
       "    } else {\n",
       "      load_libs(js_urls, function() {\n",
       "        console.log(\"Bokeh: BokehJS plotting callback run at\", now());\n",
       "        run_inline_js();\n",
       "      });\n",
       "    }\n",
       "  }(this));\n",
       "</script>"
      ]
     },
     "metadata": {},
     "output_type": "display_data"
    }
   ],
   "source": [
    "# Plot the top 1000 words\n",
    "plot_wv.plot_wv(Wv, vocab, num_words=1000)"
   ]
  },
  {
   "cell_type": "code",
   "execution_count": 16,
   "metadata": {
    "collapsed": false
   },
   "outputs": [
    {
     "data": {
      "text/html": [
       "<a href=\"plots/wordvectors.html\" target='_blank'>View plot \"plots/wordvectors.html\" in a new tab</a>"
      ],
      "text/plain": [
       "<IPython.core.display.HTML object>"
      ]
     },
     "metadata": {},
     "output_type": "display_data"
    }
   ],
   "source": [
    "# Plot all the word vectors in a separate window.\n",
    "# The page might load slowly on older machines.\n",
    "plot_wv.plot_wv(Wv, vocab, num_words=vocab_size, inline=False, \n",
    "                filename=\"plots/wordvectors.html\")"
   ]
  },
  {
   "cell_type": "markdown",
   "metadata": {},
   "source": [
    "We can also highlight specific words by passing a color dict:"
   ]
  },
  {
   "cell_type": "code",
   "execution_count": 17,
   "metadata": {
    "collapsed": false
   },
   "outputs": [
    {
     "data": {
      "text/html": [
       "\n",
       "\n",
       "    <div class=\"bk-root\">\n",
       "        <div class=\"plotdiv\" id=\"8eb421c7-cccd-419b-a3ac-26bd2792b4ba\"></div>\n",
       "    </div>\n",
       "<script type=\"text/javascript\">\n",
       "  \n",
       "  (function(global) {\n",
       "    function now() {\n",
       "      return new Date();\n",
       "    }\n",
       "  \n",
       "    if (typeof (window._bokeh_onload_callbacks) === \"undefined\") {\n",
       "      window._bokeh_onload_callbacks = [];\n",
       "    }\n",
       "  \n",
       "    function run_callbacks() {\n",
       "      window._bokeh_onload_callbacks.forEach(function(callback) { callback() });\n",
       "      delete window._bokeh_onload_callbacks\n",
       "      console.info(\"Bokeh: all callbacks have finished\");\n",
       "    }\n",
       "  \n",
       "    function load_libs(js_urls, callback) {\n",
       "      window._bokeh_onload_callbacks.push(callback);\n",
       "      if (window._bokeh_is_loading > 0) {\n",
       "        console.log(\"Bokeh: BokehJS is being loaded, scheduling callback at\", now());\n",
       "        return null;\n",
       "      }\n",
       "      if (js_urls == null || js_urls.length === 0) {\n",
       "        run_callbacks();\n",
       "        return null;\n",
       "      }\n",
       "      console.log(\"Bokeh: BokehJS not loaded, scheduling load and callback at\", now());\n",
       "      window._bokeh_is_loading = js_urls.length;\n",
       "      for (var i = 0; i < js_urls.length; i++) {\n",
       "        var url = js_urls[i];\n",
       "        var s = document.createElement('script');\n",
       "        s.src = url;\n",
       "        s.async = false;\n",
       "        s.onreadystatechange = s.onload = function() {\n",
       "          window._bokeh_is_loading--;\n",
       "          if (window._bokeh_is_loading === 0) {\n",
       "            console.log(\"Bokeh: all BokehJS libraries loaded\");\n",
       "            run_callbacks()\n",
       "          }\n",
       "        };\n",
       "        s.onerror = function() {\n",
       "          console.warn(\"failed to load library \" + url);\n",
       "        };\n",
       "        console.log(\"Bokeh: injecting script tag for BokehJS library: \", url);\n",
       "        document.getElementsByTagName(\"head\")[0].appendChild(s);\n",
       "      }\n",
       "    };var element = document.getElementById(\"8eb421c7-cccd-419b-a3ac-26bd2792b4ba\");\n",
       "    if (element == null) {\n",
       "      console.log(\"Bokeh: ERROR: autoload.js configured with elementid '8eb421c7-cccd-419b-a3ac-26bd2792b4ba' but no matching script tag was found. \")\n",
       "      return false;\n",
       "    }\n",
       "  \n",
       "    var js_urls = [];\n",
       "  \n",
       "    var inline_js = [\n",
       "      function(Bokeh) {\n",
       "        Bokeh.$(function() {\n",
       "            var docs_json = {\"e2ed03a6-92f1-4712-ab21-ce9fabf12d6d\":{\"roots\":{\"references\":[{\"attributes\":{\"plot\":{\"id\":\"c41775ce-7bd5-49b3-8f5e-4673e3565682\",\"subtype\":\"Figure\",\"type\":\"Plot\"}},\"id\":\"06791f4b-f41f-4555-88d3-f7e2ff39892f\",\"type\":\"WheelZoomTool\"},{\"attributes\":{\"formatter\":{\"id\":\"a9ab7e84-c86e-49df-a157-fa210609a033\",\"type\":\"BasicTickFormatter\"},\"plot\":{\"id\":\"c41775ce-7bd5-49b3-8f5e-4673e3565682\",\"subtype\":\"Figure\",\"type\":\"Plot\"},\"ticker\":{\"id\":\"43202c7d-ca9e-4f1e-9395-1c2b36eddd1d\",\"type\":\"BasicTicker\"}},\"id\":\"16df0e1b-4701-43d8-b75c-f149a6cbdd04\",\"type\":\"LinearAxis\"},{\"attributes\":{\"overlay\":{\"id\":\"68e94041-15fb-4994-a859-dbb9dba608cd\",\"type\":\"BoxAnnotation\"},\"plot\":{\"id\":\"c41775ce-7bd5-49b3-8f5e-4673e3565682\",\"subtype\":\"Figure\",\"type\":\"Plot\"}},\"id\":\"b3a011b1-1c0f-41f5-b39f-3dc19f0643b6\",\"type\":\"BoxZoomTool\"},{\"attributes\":{\"callback\":null},\"id\":\"9f7997cc-6a46-4e6d-a9ae-0e541d323ac3\",\"type\":\"DataRange1d\"},{\"attributes\":{},\"id\":\"6ef95c01-e360-46b9-91b0-1e266333ec1f\",\"type\":\"BasicTicker\"},{\"attributes\":{\"plot\":{\"id\":\"c41775ce-7bd5-49b3-8f5e-4673e3565682\",\"subtype\":\"Figure\",\"type\":\"Plot\"}},\"id\":\"9ff73659-d721-4f6a-b7ae-ae73063c8dd1\",\"type\":\"ResetTool\"},{\"attributes\":{\"dimension\":1,\"plot\":{\"id\":\"c41775ce-7bd5-49b3-8f5e-4673e3565682\",\"subtype\":\"Figure\",\"type\":\"Plot\"},\"ticker\":{\"id\":\"43202c7d-ca9e-4f1e-9395-1c2b36eddd1d\",\"type\":\"BasicTicker\"}},\"id\":\"f663ecf9-6bb3-4e6c-83b9-ce77a7045c40\",\"type\":\"Grid\"},{\"attributes\":{\"data_source\":{\"id\":\"a614c44a-f27e-4c15-b760-541a22649382\",\"type\":\"ColumnDataSource\"},\"glyph\":{\"id\":\"7450e1b0-cad6-4b1f-a1a1-e1bd83e79959\",\"type\":\"Text\"},\"hover_glyph\":null,\"nonselection_glyph\":{\"id\":\"eee91407-b465-4235-a669-64358c07ad12\",\"type\":\"Text\"},\"selection_glyph\":null},\"id\":\"694c2d29-4c8a-40ee-ae5b-2aaec9b7da93\",\"type\":\"GlyphRenderer\"},{\"attributes\":{},\"id\":\"a9ab7e84-c86e-49df-a157-fa210609a033\",\"type\":\"BasicTickFormatter\"},{\"attributes\":{\"plot\":{\"id\":\"c41775ce-7bd5-49b3-8f5e-4673e3565682\",\"subtype\":\"Figure\",\"type\":\"Plot\"}},\"id\":\"59abe7c4-f27a-4808-a704-094fc4aabc01\",\"type\":\"PanTool\"},{\"attributes\":{},\"id\":\"11a69140-e108-4eaa-88de-133320359dc9\",\"type\":\"BasicTickFormatter\"},{\"attributes\":{},\"id\":\"43202c7d-ca9e-4f1e-9395-1c2b36eddd1d\",\"type\":\"BasicTicker\"},{\"attributes\":{\"bottom_units\":\"screen\",\"fill_alpha\":{\"value\":0.5},\"fill_color\":{\"value\":\"lightgrey\"},\"left_units\":\"screen\",\"level\":\"overlay\",\"line_alpha\":{\"value\":1.0},\"line_color\":{\"value\":\"black\"},\"line_dash\":[4,4],\"line_width\":{\"value\":2},\"plot\":null,\"render_mode\":\"css\",\"right_units\":\"screen\",\"top_units\":\"screen\"},\"id\":\"68e94041-15fb-4994-a859-dbb9dba608cd\",\"type\":\"BoxAnnotation\"},{\"attributes\":{},\"id\":\"13d40a81-b653-4746-96d2-75f4b14848d4\",\"type\":\"ToolEvents\"},{\"attributes\":{\"text_align\":\"center\",\"text_baseline\":\"middle\",\"text_color\":{\"field\":\"text_color\"},\"x\":{\"field\":\"x\"},\"y\":{\"field\":\"y\"}},\"id\":\"7450e1b0-cad6-4b1f-a1a1-e1bd83e79959\",\"type\":\"Text\"},{\"attributes\":{\"plot\":{\"id\":\"c41775ce-7bd5-49b3-8f5e-4673e3565682\",\"subtype\":\"Figure\",\"type\":\"Plot\"},\"ticker\":{\"id\":\"6ef95c01-e360-46b9-91b0-1e266333ec1f\",\"type\":\"BasicTicker\"}},\"id\":\"77ce6dc1-c804-49b1-ab26-6001bab04e20\",\"type\":\"Grid\"},{\"attributes\":{\"active_drag\":\"auto\",\"active_scroll\":{\"id\":\"06791f4b-f41f-4555-88d3-f7e2ff39892f\",\"type\":\"WheelZoomTool\"},\"active_tap\":\"auto\",\"tools\":[{\"id\":\"9ff73659-d721-4f6a-b7ae-ae73063c8dd1\",\"type\":\"ResetTool\"},{\"id\":\"59abe7c4-f27a-4808-a704-094fc4aabc01\",\"type\":\"PanTool\"},{\"id\":\"06791f4b-f41f-4555-88d3-f7e2ff39892f\",\"type\":\"WheelZoomTool\"},{\"id\":\"b3a011b1-1c0f-41f5-b39f-3dc19f0643b6\",\"type\":\"BoxZoomTool\"}]},\"id\":\"6426014a-3acb-45d6-acee-4f0773d09aa9\",\"type\":\"Toolbar\"},{\"attributes\":{\"callback\":null,\"column_names\":[\"y\",\"x\",\"text\",\"text_color\"],\"data\":{\"text\":[\"the\",\",\",\".\",\"of\",\"and\",\"to\",\"a\",\"in\",\"that\",\"is\",\"was\",\"he\",\"for\",\"``\",\"''\",\"it\",\"with\",\"as\",\"his\",\"on\",\"be\",\";\",\"at\",\"by\",\"i\",\"this\",\"had\",\"?\",\"not\",\"are\",\"but\",\"from\",\"or\",\"have\",\"an\",\"they\",\"which\",\"--\",\"one\",\"you\",\"were\",\"her\",\"all\",\"she\",\"there\",\"would\",\"their\",\"we\",\"him\",\"been\",\")\",\"has\",\"(\",\"when\",\"who\",\"will\",\"more\",\"if\",\"no\",\"out\",\"DG\",\"so\",\"said\",\"DGDGDGDG\",\"DGDG\",\"what\",\"up\",\"its\",\"about\",\":\",\"into\",\"than\",\"them\",\"can\",\"only\",\"other\",\"new\",\"some\",\"could\",\"time\",\"!\",\"these\",\"two\",\"may\",\"then\",\"do\",\"first\",\"any\",\"my\",\"now\",\"such\",\"like\",\"our\",\"over\",\"man\",\"me\",\"even\",\"most\",\"made\",\"also\",\"after\",\"did\",\"many\",\"before\",\"must\",\"af\",\"through\",\"back\",\"years\",\"much\",\"where\",\"your\",\"way\",\"well\",\"down\",\"should\",\"because\",\"each\",\"just\",\"those\",\"people\",\"mr.\",\"too\",\"how\",\"little\",\"state\",\"good\",\"very\",\"make\",\"world\",\"still\",\"see\",\"own\",\"men\",\"work\",\"long\",\"here\",\"get\",\"between\",\"both\",\"life\",\"being\",\"under\",\"never\",\"day\",\"same\",\"another\",\"know\",\"while\",\"last\",\"us\",\"might\",\"great\",\"old\",\"year\",\"off\",\"come\",\"since\",\"against\",\"go\",\"DGDGDG\",\"came\",\"right\",\"used\",\"take\",\"three\",\"states\",\"himself\",\"few\",\"use\",\"house\",\"during\",\"without\",\"again\",\"place\",\"american\",\"around\",\"however\",\"home\",\"small\",\"found\",\"mrs.\",\"thought\",\"went\",\"say\",\"part\",\"once\",\"general\",\"high\",\"upon\",\"school\",\"every\",\"don't\",\"does\",\"got\",\"united\",\"left\",\"number\",\"course\",\"war\",\"until\",\"always\",\"away\",\"something\",\"fact\",\"water\",\"though\",\"public\",\"put\",\"less\",\"think\",\"almost\",\"hand\",\"enough\",\"took\",\"far\",\"head\",\"yet\",\"government\",\"system\",\"set\",\"better\",\"told\",\"night\",\"nothing\",\"end\",\"why\",\"didn't\",\"eyes\",\"called\",\"find\",\"look\",\"going\",\"asked\",\"later\",\"point\",\"knew\",\"next\",\"program\",\"city\",\"business\",\"group\",\"give\",\"toward\",\"young\",\"room\",\"days\",\"let\",\"president\",\"side\",\"social\",\"several\",\"given\",\"present\",\"order\",\"national\",\"possible\",\"rather\",\"second\",\"per\",\"face\",\"among\",\"form\",\"important\",\"often\",\"things\",\"looked\",\"early\",\"white\",\"john\",\"case\",\"large\",\"four\",\"need\",\"big\",\"become\",\"within\",\"felt\",\"along\",\"children\",\"saw\",\"best\",\"church\",\"ever\",\"least\",\"power\",\"development\",\"seemed\",\"thing\",\"light\",\"family\",\"interest\",\"want\",\"mind\",\"members\",\"country\",\"area\",\"others\",\"although\",\"turned\",\"done\",\"open\",\"'\",\"god\",\"service\",\"problem\",\"kind\",\"certain\",\"door\",\"different\",\"thus\",\"began\",\"sense\",\"help\",\"means\",\"whole\",\"matter\",\"perhaps\",\"itself\",\"it's\",\"york\",\"times\",\"law\",\"human\",\"line\",\"above\",\"name\",\"example\",\"action\",\"company\",\"hands\",\"local\",\"show\",\"history\",\"whether\",\"five\",\"gave\",\"today\",\"either\",\"feet\",\"act\",\"across\",\"past\",\"taken\",\"quite\",\"anything\",\"having\",\"seen\",\"death\",\"experience\",\"body\",\"week\",\"half\",\"really\",\"field\",\"car\",\"word\",\"words\",\"already\",\"themselves\",\"i'm\",\"information\",\"tell\",\"shall\",\"together\",\"college\",\"period\",\"money\",\"keep\",\"held\",\"sure\",\"probably\",\"seems\",\"free\",\"real\",\"behind\",\"cannot\",\"political\",\"question\",\"air\",\"making\",\"office\",\"brought\",\"miss\",\"whose\",\"special\",\"heard\",\"problems\",\"major\",\"study\",\"moment\",\"federal\",\"ago\",\"became\",\"available\",\"known\",\"street\",\"result\",\"economic\",\"boy\",\"reason\",\"position\",\"change\",\"south\",\"individual\",\"board\",\"job\",\"am\",\"society\",\"areas\",\"west\",\"close\",\"turn\",\"love\",\"community\",\"true\",\"full\",\"court\",\"force\",\"cost\",\"seem\",\"wife\",\"future\",\"age\",\"voice\",\"wanted\",\"department\",\"center\",\"woman\",\"common\",\"control\",\"necessary\",\"policy\",\"following\",\"sometimes\",\"front\",\"six\",\"girl\",\"clear\",\"land\",\"further\",\"music\",\"provide\",\"party\",\"mother\",\"feel\",\"able\",\"university\",\"education\",\"level\",\"child\",\"students\",\"effect\",\"short\",\"military\",\"run\",\"stood\",\"town\",\"total\",\"morning\",\"outside\",\"figure\",\"rate\",\"art\",\"century\",\"class\",\"usually\",\"washington\",\"north\",\"therefore\",\"plan\",\"leave\",\"sound\",\"million\",\"evidence\",\"top\",\"black\",\"strong\",\"hard\",\"various\",\"tax\",\"surface\",\"play\",\"type\",\"value\",\"believe\",\"says\",\"soon\",\"mean\",\"peace\",\"near\",\"modern\",\"lines\",\"table\",\"red\",\"road\",\"book\",\"situation\",\"process\",\"personal\",\"minutes\",\"nor\",\"gone\",\"idea\",\"schools\",\"increase\",\"alone\",\"women\",\"english\",\"america\",\"started\",\"living\",\"longer\",\"cut\",\"dr.\",\"nature\",\"secretary\",\"private\",\"finally\",\"third\",\"section\",\"months\",\"call\",\"greater\",\"needed\",\"fire\",\"that's\",\"expected\",\"ground\",\"values\",\"kept\",\"view\",\"pressure\",\"dark\",\"everything\",\"basis\",\"space\",\"father\",\"east\",\"union\",\"spirit\",\"required\",\"complete\",\"wrote\",\"moved\",\"except\",\"i'll\",\"support\",\"conditions\",\"return\",\"recent\",\"late\",\"attention\",\"particular\",\"hope\",\"live\",\"costs\",\"else\",\"brown\",\"couldn't\",\"stage\",\"taking\",\"nations\",\"forces\",\"beyond\",\"coming\",\"person\",\"hours\",\"read\",\"inside\",\"report\",\"material\",\"dead\",\"lost\",\"miles\",\"data\",\"looking\",\"heart\",\"low\",\"instead\",\"feeling\",\"followed\",\"makes\",\"single\",\"amount\",\"added\",\"pay\",\"research\",\"hundred\",\"basic\",\"industry\",\"cold\",\"move\",\"simply\",\"including\",\"developed\",\"tried\",\"can't\",\"reached\",\"hold\",\"committee\",\"equipment\",\"defense\",\"island\",\"shown\",\"actually\",\"religious\",\"central\",\"son\",\"river\",\"beginning\",\"ten\",\"sort\",\"st.\",\"getting\",\"trying\",\"&\",\"rest\",\"terms\",\"doing\",\"received\",\"u.s.\",\"picture\",\"indeed\",\"medical\",\"care\",\"friends\",\"especially\",\"difficult\",\"subject\",\"fine\",\"administration\",\"higher\",\"wall\",\"simple\",\"building\",\"walked\",\"meeting\",\"foreign\",\"bring\",\"floor\",\"paper\",\"similar\",\"range\",\"passed\",\"natural\",\"property\",\"training\",\"final\",\"cent\",\"international\",\"police\",\"county\",\"growth\",\"market\",\"start\",\"written\",\"wasn't\",\"talk\",\"england\",\"story\",\"hear\",\"suddenly\",\"needs\",\"congress\",\"hall\",\"issue\",\"answer\",\"working\",\"you're\",\"likely\",\"countries\",\"considered\",\"sat\",\"earth\",\"entire\",\"results\",\"purpose\",\"meet\",\"happened\",\"labor\",\"production\",\"hair\",\"cases\",\"difference\",\"stand\",\"william\",\"food\",\"fall\",\"involved\",\"stock\",\"earlier\",\"increased\",\"particularly\",\"whom\",\"hour\",\"knowledge\",\"letter\",\"sent\",\"effort\",\"paid\",\"using\",\"below\",\"club\",\"thinking\",\"yes\",\"christian\",\"deal\",\"blue\",\"points\",\"bill\",\"square\",\"certainly\",\"ready\",\"boys\",\"ideas\",\"trade\",\"industrial\",\"methods\",\"addition\",\"girls\",\"due\",\"method\",\"moral\",\"bad\",\"neither\",\"reading\",\"throughout\",\"showed\",\"directly\",\"weeks\",\"decided\",\"nearly\",\"statement\",\"questions\",\"try\",\"according\",\"color\",\"anyone\",\"kennedy\",\"programs\",\"services\",\"DG.DG\",\"nation\",\"lay\",\"french\",\"physical\",\"remember\",\"size\",\"strength\",\"comes\",\"understand\",\"western\",\"record\",\"southern\",\"member\",\"population\",\"normal\",\"merely\",\"volume\",\"appeared\",\"temperature\",\"district\",\"concerned\",\"direction\",\"trial\",\"aid\",\"summer\",\"trouble\",\"ran\",\"evening\",\"list\",\"friend\",\"sales\",\"maybe\",\"literature\",\"continued\",\"met\",\"influence\",\"led\",\"association\",\"provided\",\"army\",\"generally\",\"former\",\"science\",\"opened\",\"husband\",\"step\",\"student\",\"chance\",\"changes\",\"month\",\"works\",\"series\",\"average\",\"cause\",\"hot\",\"wrong\",\"systems\",\"wouldn't\",\"direct\",\"effective\",\"theory\",\"planning\",\"stopped\",\"soviet\",\"myself\",\"piece\",\"george\",\"lead\",\"ask\",\"clearly\",\"worked\",\"freedom\",\"movement\",\"organization\",\"ways\",\"meaning\",\"fear\",\"press\",\"beautiful\",\"treatment\",\"bed\",\"spring\",\"forms\",\"lot\",\"note\",\"consider\",\"somewhat\",\"efforts\",\"placed\",\"truth\",\"hotel\",\"numbers\",\"degree\",\"carried\",\"herself\",\"groups\",\"respect\",\"apparently\",\"man's\",\"plant\",\"he's\",\"wide\",\"i've\",\"farm\",\"manner\",\"easy\",\"$DGDGDG\",\"reaction\",\"larger\",\"recently\",\"lower\",\"game\",\"immediately\",\"approach\",\"running\",\"couple\",\"performance\",\"de\",\"oh\",\"eye\",\"charge\",\"feed\",\"daily\",\"march\",\"blood\",\"understanding\",\"opportunity\",\"persons\",\"arms\",\"c\",\"additional\",\"described\",\"stop\",\"j.\",\"technical\",\"fiscal\",\"radio\",\"progress\",\"test\",\"decision\",\"steps\",\"image\",\"determined\",\"window\",\"based\",\"served\",\"reported\",\"religion\",\"main\",\"chief\",\"gun\",\"aj\",\"middle\",\"british\",\"character\",\"responsibility\",\"europe\",\"learned\",\"horse\",\"s.\",\"appear\",\"account\",\"writing\",\"length\",\"green\",\"activity\",\"types\",\"serious\",\"ones\",\"nuclear\",\"letters\",\"obtained\",\"lived\",\"audience\",\"forward\",\"specific\",\"returned\",\"slowly\",\"corner\",\"activities\",\"justice\",\"obviously\",\"doubt\",\"design\",\"straight\",\"latter\",\"gives\",\"plane\",\"quality\",\"hit\",\"moving\",\"saying\",\"choice\",\"operation\",\"born\",\"pattern\",\"poor\",\"stay\",\"seven\",\"include\",\"a.\",\"figures\",\"function\",\"shot\",\"staff\",\"parts\",\"plans\",\"sun\",\"cars\",\"whatever\",\"pool\",\"DG:DGDG\",\"faith\",\"extent\",\"corps\",\"heavy\",\"hospital\",\"ball\",\"wish\",\"standard\",\"completely\",\"speak\",\"lack\",\"waiting\",\"visit\",\"firm\",\"ahead\",\"there's\",\"language\",\"income\",\"principle\",\"deep\",\"democratic\",\"effects\",\"indicated\",\"established\",\"products\",\"growing\",\"designed\",\"none\",\"price\",\"distance\",\"expect\",\"importance\",\"analysis\",\"pretty\",\"existence\",\"leaders\",\"serve\",\"attitude\",\"continue\",\"division\",\"stress\",\"cities\",\"elements\",\"easily\",\"negro\"],\"text_color\":[\"blue\",\"black\",\"black\",\"black\",\"black\",\"black\",\"black\",\"black\",\"black\",\"black\",\"black\",\"black\",\"black\",\"black\",\"black\",\"black\",\"black\",\"black\",\"black\",\"black\",\"black\",\"black\",\"black\",\"black\",\"black\",\"black\",\"black\",\"black\",\"black\",\"black\",\"black\",\"black\",\"black\",\"black\",\"black\",\"black\",\"black\",\"black\",\"black\",\"black\",\"black\",\"black\",\"black\",\"black\",\"black\",\"black\",\"black\",\"black\",\"black\",\"black\",\"black\",\"black\",\"black\",\"black\",\"black\",\"black\",\"black\",\"black\",\"black\",\"black\",\"black\",\"black\",\"black\",\"black\",\"black\",\"black\",\"black\",\"black\",\"black\",\"black\",\"black\",\"black\",\"black\",\"black\",\"black\",\"black\",\"black\",\"black\",\"black\",\"black\",\"black\",\"black\",\"black\",\"black\",\"black\",\"black\",\"black\",\"black\",\"black\",\"black\",\"black\",\"black\",\"black\",\"black\",\"black\",\"black\",\"black\",\"black\",\"black\",\"black\",\"black\",\"black\",\"black\",\"black\",\"black\",\"black\",\"black\",\"black\",\"black\",\"black\",\"black\",\"black\",\"black\",\"black\",\"black\",\"black\",\"black\",\"black\",\"black\",\"black\",\"black\",\"black\",\"black\",\"black\",\"black\",\"black\",\"black\",\"black\",\"black\",\"black\",\"black\",\"black\",\"black\",\"black\",\"black\",\"black\",\"black\",\"black\",\"black\",\"black\",\"black\",\"black\",\"black\",\"black\",\"black\",\"black\",\"black\",\"black\",\"black\",\"black\",\"black\",\"black\",\"black\",\"black\",\"black\",\"black\",\"black\",\"black\",\"black\",\"black\",\"black\",\"black\",\"black\",\"black\",\"black\",\"black\",\"black\",\"black\",\"black\",\"black\",\"black\",\"black\",\"black\",\"black\",\"black\",\"black\",\"black\",\"black\",\"black\",\"black\",\"black\",\"black\",\"black\",\"black\",\"black\",\"black\",\"black\",\"black\",\"black\",\"black\",\"black\",\"black\",\"black\",\"black\",\"black\",\"black\",\"black\",\"black\",\"black\",\"black\",\"black\",\"black\",\"black\",\"black\",\"black\",\"black\",\"black\",\"black\",\"black\",\"black\",\"black\",\"black\",\"black\",\"black\",\"black\",\"black\",\"black\",\"black\",\"black\",\"black\",\"black\",\"black\",\"black\",\"black\",\"black\",\"black\",\"black\",\"black\",\"black\",\"black\",\"black\",\"black\",\"black\",\"black\",\"black\",\"black\",\"black\",\"black\",\"black\",\"black\",\"black\",\"black\",\"black\",\"black\",\"black\",\"black\",\"black\",\"black\",\"black\",\"black\",\"black\",\"black\",\"black\",\"black\",\"black\",\"black\",\"black\",\"black\",\"black\",\"black\",\"black\",\"black\",\"black\",\"black\",\"black\",\"black\",\"black\",\"black\",\"black\",\"black\",\"black\",\"black\",\"black\",\"black\",\"black\",\"black\",\"black\",\"black\",\"black\",\"black\",\"black\",\"black\",\"black\",\"black\",\"black\",\"black\",\"black\",\"black\",\"black\",\"black\",\"black\",\"black\",\"black\",\"black\",\"black\",\"black\",\"black\",\"black\",\"black\",\"black\",\"black\",\"black\",\"black\",\"black\",\"black\",\"black\",\"black\",\"black\",\"black\",\"black\",\"black\",\"black\",\"black\",\"black\",\"black\",\"black\",\"black\",\"black\",\"black\",\"black\",\"black\",\"black\",\"black\",\"black\",\"black\",\"black\",\"black\",\"black\",\"black\",\"black\",\"black\",\"black\",\"black\",\"black\",\"black\",\"black\",\"black\",\"black\",\"black\",\"black\",\"black\",\"black\",\"black\",\"black\",\"black\",\"black\",\"black\",\"black\",\"black\",\"black\",\"black\",\"black\",\"black\",\"black\",\"black\",\"black\",\"black\",\"black\",\"black\",\"black\",\"black\",\"black\",\"black\",\"black\",\"black\",\"black\",\"black\",\"black\",\"black\",\"black\",\"black\",\"black\",\"black\",\"black\",\"black\",\"black\",\"black\",\"black\",\"black\",\"black\",\"black\",\"black\",\"black\",\"black\",\"black\",\"black\",\"black\",\"black\",\"black\",\"black\",\"black\",\"black\",\"black\",\"black\",\"black\",\"black\",\"black\",\"black\",\"black\",\"black\",\"black\",\"black\",\"black\",\"black\",\"black\",\"black\",\"black\",\"black\",\"black\",\"black\",\"black\",\"black\",\"black\",\"black\",\"black\",\"black\",\"black\",\"black\",\"black\",\"black\",\"black\",\"black\",\"black\",\"black\",\"black\",\"black\",\"black\",\"black\",\"black\",\"black\",\"black\",\"black\",\"black\",\"black\",\"black\",\"black\",\"black\",\"black\",\"black\",\"black\",\"black\",\"black\",\"black\",\"black\",\"black\",\"black\",\"black\",\"black\",\"black\",\"black\",\"black\",\"black\",\"black\",\"black\",\"black\",\"black\",\"black\",\"black\",\"black\",\"black\",\"black\",\"black\",\"black\",\"black\",\"black\",\"black\",\"black\",\"black\",\"black\",\"black\",\"black\",\"black\",\"black\",\"black\",\"black\",\"black\",\"black\",\"black\",\"black\",\"black\",\"black\",\"black\",\"black\",\"black\",\"black\",\"black\",\"black\",\"black\",\"black\",\"black\",\"black\",\"black\",\"black\",\"black\",\"black\",\"black\",\"black\",\"black\",\"black\",\"black\",\"black\",\"black\",\"black\",\"black\",\"black\",\"black\",\"black\",\"black\",\"black\",\"black\",\"black\",\"black\",\"black\",\"black\",\"black\",\"black\",\"black\",\"black\",\"black\",\"black\",\"black\",\"black\",\"black\",\"black\",\"black\",\"black\",\"black\",\"black\",\"black\",\"black\",\"black\",\"black\",\"black\",\"black\",\"black\",\"black\",\"black\",\"black\",\"black\",\"black\",\"black\",\"black\",\"black\",\"black\",\"black\",\"black\",\"black\",\"black\",\"black\",\"black\",\"black\",\"black\",\"black\",\"black\",\"black\",\"black\",\"black\",\"black\",\"black\",\"black\",\"black\",\"black\",\"black\",\"black\",\"black\",\"black\",\"black\",\"black\",\"black\",\"black\",\"black\",\"black\",\"black\",\"black\",\"black\",\"black\",\"black\",\"black\",\"black\",\"black\",\"black\",\"black\",\"black\",\"black\",\"black\",\"black\",\"black\",\"black\",\"black\",\"black\",\"black\",\"black\",\"black\",\"black\",\"black\",\"black\",\"black\",\"black\",\"black\",\"black\",\"black\",\"black\",\"black\",\"black\",\"black\",\"black\",\"black\",\"black\",\"black\",\"black\",\"black\",\"black\",\"black\",\"black\",\"black\",\"black\",\"black\",\"black\",\"black\",\"black\",\"black\",\"black\",\"black\",\"black\",\"black\",\"black\",\"black\",\"black\",\"black\",\"black\",\"black\",\"black\",\"black\",\"black\",\"black\",\"black\",\"black\",\"black\",\"black\",\"black\",\"black\",\"black\",\"black\",\"black\",\"black\",\"black\",\"black\",\"black\",\"black\",\"black\",\"black\",\"black\",\"black\",\"black\",\"black\",\"black\",\"black\",\"black\",\"black\",\"red\",\"black\",\"black\",\"black\",\"black\",\"black\",\"black\",\"black\",\"black\",\"black\",\"black\",\"black\",\"black\",\"black\",\"black\",\"black\",\"black\",\"black\",\"black\",\"black\",\"black\",\"black\",\"black\",\"black\",\"black\",\"black\",\"black\",\"black\",\"black\",\"black\",\"black\",\"black\",\"black\",\"black\",\"black\",\"black\",\"black\",\"black\",\"black\",\"black\",\"black\",\"black\",\"black\",\"black\",\"black\",\"black\",\"black\",\"black\",\"black\",\"black\",\"black\",\"black\",\"black\",\"black\",\"black\",\"black\",\"black\",\"black\",\"black\",\"black\",\"black\",\"black\",\"black\",\"black\",\"black\",\"black\",\"black\",\"black\",\"black\",\"black\",\"black\",\"black\",\"black\",\"black\",\"black\",\"black\",\"black\",\"black\",\"black\",\"black\",\"black\",\"black\",\"black\",\"black\",\"black\",\"black\",\"black\",\"black\",\"black\",\"black\",\"black\",\"black\",\"black\",\"black\",\"black\",\"black\",\"black\",\"black\",\"black\",\"black\",\"black\",\"black\",\"black\",\"black\",\"black\",\"black\",\"black\",\"black\",\"black\",\"black\",\"black\",\"black\",\"black\",\"black\",\"black\",\"black\",\"black\",\"black\",\"black\",\"black\",\"black\",\"black\",\"black\",\"black\",\"black\",\"black\",\"black\",\"black\",\"black\",\"black\",\"black\",\"black\",\"black\",\"black\",\"black\",\"black\",\"black\",\"black\",\"black\",\"black\",\"black\",\"black\",\"black\",\"black\",\"black\",\"black\",\"black\",\"red\",\"black\",\"black\",\"black\",\"black\",\"black\",\"black\",\"black\",\"black\",\"black\",\"black\",\"black\",\"black\",\"black\",\"black\",\"black\",\"black\",\"black\",\"black\",\"black\",\"black\",\"black\",\"black\",\"black\",\"black\",\"black\",\"black\",\"black\",\"black\",\"black\",\"black\",\"black\",\"black\",\"black\",\"black\",\"black\",\"black\",\"black\",\"black\",\"black\",\"black\",\"black\",\"black\",\"black\",\"black\",\"black\",\"black\",\"black\",\"black\",\"black\",\"black\",\"black\",\"black\",\"black\",\"black\",\"black\",\"black\",\"black\",\"black\",\"black\",\"black\",\"black\",\"black\",\"black\",\"black\",\"black\",\"black\",\"black\",\"black\",\"black\",\"black\",\"black\",\"black\",\"black\",\"black\",\"black\",\"black\",\"black\",\"black\",\"black\",\"black\",\"black\",\"black\",\"black\",\"black\",\"black\",\"black\",\"black\",\"black\",\"black\",\"black\",\"black\",\"black\",\"black\",\"black\",\"black\",\"black\",\"black\",\"black\",\"black\",\"black\",\"black\",\"black\",\"black\",\"black\",\"black\",\"black\",\"black\",\"black\",\"black\",\"black\",\"black\",\"black\",\"black\",\"black\",\"black\",\"black\",\"black\",\"black\",\"black\",\"black\",\"black\",\"black\",\"black\",\"black\",\"black\",\"black\",\"black\",\"black\",\"black\",\"black\",\"black\",\"black\",\"black\",\"black\",\"black\",\"black\",\"black\",\"black\",\"black\",\"black\",\"black\",\"black\",\"black\",\"black\",\"black\",\"black\",\"black\",\"black\",\"black\",\"black\",\"black\",\"black\",\"black\",\"black\",\"black\",\"black\",\"black\",\"black\",\"black\",\"black\",\"black\",\"black\",\"black\",\"black\",\"black\",\"black\",\"black\",\"black\",\"black\",\"black\",\"black\",\"black\",\"black\",\"black\",\"black\",\"black\",\"black\",\"black\",\"black\",\"black\",\"black\",\"black\",\"black\",\"black\",\"black\",\"black\",\"black\",\"black\",\"black\",\"black\",\"black\",\"black\",\"black\"],\"x\":[0.6182948904194171,0.5432820387161605,0.6244114952329747,0.6099270186781174,0.5976795196695646,0.5521704457726844,0.5926270698178809,0.659540604217281,0.6222800937194998,0.5634429064653301,0.5522196028142166,0.48135452422447866,0.5945733509152892,0.46658786380053213,0.44386723790917754,0.6210241965096788,0.5273535965082748,0.609382188216699,0.47393341145926904,0.5338044059621494,0.47240040264971256,0.5350514035074276,0.4679045958789559,0.47572476161718874,0.5125495327533959,0.559357288431829,0.47788533790839177,0.4675954562641089,0.5858205054449817,0.5080068849595186,0.587062805976345,0.4651678803795145,0.4765185974077096,0.5462772503307187,0.3963829307247875,0.6123573515843226,0.5334826711621448,0.5397209341118929,0.6072878946606981,0.5042464609438553,0.4891503266676949,0.4593024099753631,0.5850786107544965,0.4782279701816125,0.6909673652760102,0.5330471006544704,0.43568423630728526,0.594593655031346,0.48147185451068614,0.43176643022958067,0.40746841262603195,0.4584730984151445,0.35934300410660397,0.5489893777185111,0.4361343739278357,0.5020069041936797,0.4580745373525745,0.6192760566759563,0.5272840321481869,0.48212323038866783,0.37478675640701803,0.54791161215144,0.2947065160135992,0.4626386830183339,0.3432314938672699,0.5652268313814655,0.45537132256595375,0.38594926124025253,0.4711502969678685,0.43111694159476255,0.3596423650103768,0.4152896117730509,0.5529886754080504,0.4788296939532023,0.5567371665818028,0.49284527544224116,0.4836214020532958,0.4932151682846571,0.49085364284162497,0.6387647228128054,0.4180738873269277,0.44213076760306935,0.45093415519341035,0.5222463454855338,0.4980772406696707,0.5773615808476463,0.5467756909883443,0.4975968633667018,0.44487001358192835,0.6098305323162896,0.402950648653812,0.45709996231592837,0.41281832259221285,0.3985237913997588,0.5550784709281216,0.5083140404285673,0.554119344711994,0.38659932860223095,0.5229234962735579,0.48736528464143564,0.4186464285924555,0.4920048502973388,0.4584531791021148,0.47869061530559354,0.4959153772302309,0.3452936898046386,0.34149608104887386,0.44324094925743207,0.40253649487199816,0.5606956672671545,0.4643710647035145,0.4283838466755674,0.6067228413596449,0.602611063624205,0.37522855653012527,0.5319011527779969,0.5357682082859087,0.4153744861945973,0.58063767669495,0.5075446601096787,0.6049339073526043,0.3644306036601332,0.5182515933990874,0.5116689929179581,0.5300948954732927,0.4492673886557017,0.5770265534941174,0.509604399450521,0.5233091088509042,0.6080231482606266,0.5103465764760271,0.5537804915593196,0.5170430986037327,0.5383876791164219,0.6150348761604223,0.5285107958624773,0.6614067390838844,0.501210437917062,0.299979586456089,0.4235253284923705,0.5493846763182436,0.4251468898571707,0.35491656072775174,0.5380247464649515,0.5178544146540398,0.5546360824673503,0.5284517637252741,0.4880152357612761,0.42743456578745437,0.43076226199698175,0.5691529632312903,0.5511475852398471,0.45868101956311624,0.44480421493903594,0.4817005706335531,0.3944759951128356,0.609758248932247,0.43313017864573294,0.2850211060673112,0.5536926381155591,0.3608338242220644,0.5000960239969665,0.6100446309386842,0.48319546285601445,0.5337108065171524,0.41969531991936965,0.5016375727539518,0.4677965480529748,0.4749535692695272,0.522226139095157,0.5320904255507548,0.4180450850886814,0.33924115162205704,0.518485257640754,0.6198338684683788,0.4256296940268517,0.43140111466685666,0.590221585756337,0.5649324339835267,0.4041386115500583,0.5197754239957154,0.28395546744834776,0.5163383270087885,0.48754858108340077,0.5286738590149331,0.5708093967434525,0.5877785988581223,0.4508970021428967,0.3916128636359686,0.3172238780996007,0.4591791493108837,0.4214202013332219,0.4422361260492567,0.4755352534653007,0.5087176925992032,0.43142547723250907,0.604954913303166,0.4475001011083373,0.7216270207600434,0.5317376017281606,0.4299215497215119,0.617211527137262,0.4280089214137871,0.5318630578830894,0.6240908137647269,0.43371922472278235,0.6512603086311524,0.523425207387096,0.5763443191678369,0.44955812224769615,0.4691811072452875,0.49938964136409836,0.5326870673384385,0.5003076471566733,0.4797797830752896,0.5575814799701319,0.4409021652750088,0.6277366587011779,0.5261935846986598,0.415526074107298,0.5665028704132147,0.5952496159907058,0.36417637570252526,0.4371671719131559,0.5655345175119381,0.6121691225638652,0.5191998117395559,0.4553210340995254,0.4269492246927967,0.5404683832177737,0.5351685917131466,0.5725487313505555,0.5165428459988518,0.38461033366355096,0.47913367299122844,0.521283588111287,0.43795598297887484,0.4672164083079379,0.42472874632926017,0.4910369972153043,0.5203709653508444,0.5229673230977359,0.5384570426467987,0.3249166089600457,0.39936951729592346,0.5225883139057527,0.4306119447366504,0.5220785403009535,0.45444769005331,0.5064974004855786,0.40884512495413594,0.3851136948746374,0.56568212498023,0.5606119589068507,0.51290295653146,0.39904400110748955,0.577084006951493,0.4563224023543689,0.4598029658835656,0.2687531163741114,0.46047234026202,0.4228087835339186,0.5369176741119566,0.5269321719037724,0.516846526272608,0.6022795212188047,0.4378776155809349,0.4098458238904173,0.3922974641146902,0.35553642021285475,0.5827015366978853,0.4079115370420891,0.4126939911730621,0.6033028430785764,0.494589635192131,0.43780271196488063,0.4216198546588695,0.5320537664969861,0.4400392929686394,0.5208005407128987,0.5097346812824788,0.60671873184172,0.5597805603405811,0.5217967703942027,0.5472315302127514,0.4512130174919572,0.4419748218844088,0.5809200666110373,0.5532506508426781,0.5101746188581345,0.5483618315871103,0.5471016200891458,0.4925716587501289,0.5912355972004352,0.5356391087851802,0.6006621189531627,0.47882186046528946,0.640403666931843,0.5737840765339086,0.46959424904366553,0.5877508576464469,0.5209781430796828,0.48151687385308783,0.5227619740981575,0.4195321787311153,0.507811711719832,0.5736501925707345,0.43640577999012525,0.41052934072608777,0.43765596099413656,0.5099882108705547,0.3911143813003629,0.5202858205183042,0.5682427196458708,0.5343487348700218,0.547888276486839,0.6488629798012766,0.6861758575603728,0.49430337895105336,0.5000790518589905,0.42311683772029746,0.5199238767409253,0.5087357448508673,0.43656782880944056,0.5293362326838371,0.44436705490233513,0.5339404493203046,0.5655459022332062,0.5579746898889875,0.4622993780848045,0.49793610354566986,0.4228393066375191,0.5962562700528588,0.48644963901828886,0.5089316321077949,0.40517077972301985,0.4950138879814404,0.6027306590704612,0.5780357379955982,0.3780559541151245,0.5479566981229703,0.3037114836059645,0.4840166518482265,0.580589445115667,0.5161104860355834,0.5318829287930815,0.47878648115308686,0.5524868843677582,0.5404107836173473,0.5326409475456421,0.5213228448668469,0.47251441402414907,0.5466796051458865,0.5428018087813253,0.5291545723895725,0.5257582447300517,0.583462580364404,0.6070394135224502,0.5416127538207162,0.5461517166263886,0.4302854867211249,0.4763960046579499,0.42737574561744957,0.4708987399467379,0.5241972268393372,0.4643485114759906,0.47178211089022043,0.5381365661678503,0.5249847247292642,0.5338281252558473,0.4802747117559803,0.6193272442852286,0.5444819169033853,0.521422138474601,0.5675114102804829,0.4539456837205877,0.4575677204469068,0.40711215010171836,0.5556075277321081,0.41665786156583245,0.4253498445203366,0.4879570855397362,0.5514997939753431,0.46185710406321157,0.354442882994443,0.4552485753806214,0.5073582533014606,0.45699029541705033,0.4565843935658715,0.46377204671806166,0.5826377885879916,0.39422144057571373,0.3440832142316735,0.4135283053408734,0.4962650588464812,0.612112483876831,0.40000628049491027,0.5804701086438072,0.4127562638339994,0.5028797766514255,0.5515141015476129,0.5289005588219846,0.5528938643168745,0.4053293978890733,0.5101882694142332,0.4432570979850607,0.5895587647499906,0.4615324756510107,0.5234600602219771,0.4582638081218562,0.4150461841147142,0.5495568094481957,0.5989741899562233,0.5747522831915107,0.4944576257361844,0.6310799255627662,0.517348072405078,0.457084066828628,0.49051992793448884,0.42724361030713737,0.5556099090320772,0.5213520673317988,0.5224484071555394,0.4842545960382105,0.45210992060843824,0.4961854572829841,0.45513708084272503,0.5233850252988603,0.510057840881799,0.5144233715617405,0.5600434711884644,0.48357442181975635,0.47888383416813063,0.4231513144131221,0.5807194437738451,0.45089783453387505,0.42742777689214967,0.5031906139980755,0.5738269925259212,0.549844152422613,0.5066667376563704,0.49874707012384767,0.45695995355223284,0.5082687115096316,0.5369254078249519,0.5477935217158387,0.4133447575760503,0.3695615792399164,0.4762480568157823,0.4728243099342395,0.550010230449781,0.5052637991530358,0.5366796465357898,0.5266017393814867,0.4279703529232117,0.5499612586701148,0.47934002579432733,0.5075834635760427,0.391712306687414,0.3996465667693349,0.4980212383729237,0.5193514363057468,0.385982947684956,0.492664785879102,0.35696548055377153,0.5338846814271891,0.5444806764855092,0.4899880322238174,0.39239215719875037,0.6053810555619011,0.5376315543476138,0.5415236431597881,0.5389876072729118,0.3310691189225247,0.5478317237370735,0.4885468092649806,0.36316534165529024,0.5126656010609087,0.5195032081822774,0.34730567717139926,0.36228629097155246,0.47731801701780036,0.5548834676921125,0.534620490357784,0.5002757161480761,0.5451622428791383,0.4350223674169165,0.5711670639096649,0.5882236171915196,0.5140475878122527,0.37194851219289493,0.46408276361976153,0.5147692647999613,0.5110167344151794,0.39412099351347735,0.44444132516396956,0.5673055205329365,0.5545458201086173,0.4301883336569448,0.4268276688811485,0.40328891298023495,0.4445181275754692,0.5352175366797205,0.5896251234211656,0.46306588384165676,0.3944052164099586,0.6132725653917293,0.566673788136705,0.4482898679048506,0.5675428236536136,0.5265079369990461,0.5732026632213036,0.5860519918942563,0.44685275434831273,0.2587715472618608,0.5533539311353193,0.4366123495029404,0.4694705231914833,0.5327562346228343,0.4510645057384668,0.4617568837833758,0.4149283440824019,0.5395051507298839,0.40622406036038144,0.544683718960854,0.558334307426307,0.4936818330905828,0.5537764466710854,0.548765427446392,0.49491792336717394,0.5193377341182429,0.596030516017184,0.4859535270108845,0.4272400509344487,0.5374506967184932,0.4993380030753917,0.4553748440685707,0.5166853894156609,0.37481832908461166,0.5181460269374258,0.5484191698876766,0.47982750415577097,0.4418813855354466,0.39820571981984315,0.4712427439374619,0.6059732544229722,0.43015039300322105,0.5180688623644116,0.4506333529107316,0.5543689670111794,0.469099288547626,0.38049777377686217,0.5347061592983087,0.5322865026416753,0.5699858897617806,0.5905323533128589,0.4148165259990948,0.4851455836069317,0.3508624598731491,0.4408020770623672,0.5667750272522822,0.5127660479037697,0.48257271247103045,0.43343563656851847,0.44558002552446735,0.5465366083251502,0.5618308629900054,0.4222815923902769,0.591059752970541,0.5212510167046102,0.543957642989124,0.49357161043328307,0.5717485431187839,0.592924835123876,0.3231574087471277,0.4095938943049278,0.5330804315187463,0.5541333941656555,0.356454023841267,0.4870467190219082,0.5559485854942582,0.5252836984592668,0.5247308102681508,0.4534146753259211,0.391844249562677,0.5565694290805885,0.49995288058053083,0.4433403480741285,0.29501796015294585,0.42933197743943124,0.5177526746261072,0.406740559792264,0.5154319261825457,0.6002676481524079,0.391815242797322,0.5571705909155039,0.47238376391457504,0.3977871999187646,0.5395853736649219,0.5566111002104281,0.4249552855092114,0.3582942827028672,0.4563897937603671,0.4011098060285341,0.4868446270012366,0.6480861559223151,0.4690848760752454,0.44242431004736904,0.4469066363676432,0.4043613074833598,0.5542566885503302,0.3845440411777879,0.5655763361351459,0.4087969827013038,0.5412955335899629,0.42658242648037037,0.3037726461676917,0.6283284704273432,0.5642116421477588,0.5908855207144966,0.49186046003788536,0.4222283334088816,0.575215251359499,0.6354846586298667,0.3765246936423075,0.5245006789047528,0.5544278771134893,0.5644053090320101,0.459803480081363,0.5943068696260141,0.5083160191128141,0.5170950803541472,0.3720927567223458,0.45354038677544406,0.48624132022438765,0.4617198411325462,0.39186985649253214,0.5027787683219822,0.45194772774590236,0.49041853263164065,0.4794469284803074,0.5251983067842949,0.45564857854537666,0.46925183225956396,0.5304442321401216,0.5412180531557282,0.5040281819814586,0.4587032256295699,0.46755550767218557,0.30006706141898104,0.4019849675406802,0.4696229006676532,0.38357776317444275,0.4681230749731916,0.5165553331954076,0.5979477741115177,0.5477434482850811,0.5229133968219818,0.50470334609996,0.45979575939994105,0.5260094286423078,0.5241712517025657,0.47585446537492593,0.4785950736577656,0.5510366756167877,0.4805547027301714,0.536199017370703,0.5926625064363548,0.6004900920600663,0.44028446201526034,0.5022160522433449,0.48466312500186814,0.6247318451934295,0.43776416310937083,0.5459075355187762,0.4692050394142847,0.5081381008810226,0.5212726089583266,0.5301957614814965,0.5215426991023652,0.45753063612581407,0.4339848003260226,0.3787038426775739,0.4913214425062738,0.43773400987861527,0.605531817577078,0.2749213534040101,0.4865112841278863,0.5384624219942356,0.5122563605916566,0.429662110076933,0.4967049188042508,0.39017525208998194,0.5595332162274209,0.556274772103644,0.45563756517101667,0.5011914270879871,0.4977418592947985,0.5127960382909,0.4728700483134663,0.4955923076525748,0.46198985126947795,0.4254658219341288,0.40979563552578213,0.6141009771122439,0.4257121412756205,0.45356165786221436,0.6167425154878569,0.37438964032931904,0.4848325864381051,0.5225879282088348,0.49361496561862506,0.6298885560366547,0.543706603779837,0.5429791392926467,0.5564179638059452,0.4675912097949294,0.3944375161306955,0.42362163038626305,0.5546684402366032,0.5031509970759007,0.49182575152876135,0.45264701111150085,0.4499905668509761,0.5848216401644372,0.4977696177478706,0.5172244028904555,0.4211551074434491,0.478811712576111,0.5413533734086033,0.4212430558979474,0.5033408222095072,0.48333506798572545,0.5228992896728788,0.5441221610865205,0.5086286035947005,0.5040313371280186,0.5149674094470537,0.529084276329916,0.4588719178621483,0.42061484311676556,0.4603278879655677,0.24610254511402893,0.5504393588993808,0.5284887849617927,0.48764919306219756,0.45729147328385034,0.5097442213574758,0.5169920344996762,0.504669337841937,0.5497080778015591,0.510589038734667,0.43856114096192045,0.5657085459731199,0.40891801156513,0.4879845355839812,0.47166824475394786,0.4247726826266938,0.5774693911605359,0.44682709854885055,0.5836750620573912,0.41989622613673927,0.37698790007807337,0.5136180077563024,0.5246984719101596,0.5062179072364669,0.49284415455699326,0.47094589050370966,0.5581927289691581,0.46497636648264945,0.43156047481790816,0.5641365523411435,0.4842913436068771,0.417874006989789,0.4711252463045652,0.4799739145455074,0.5566036494584071,0.5715574663208451,0.539663724348319,0.5185158230564891,0.40086332954301174,0.5342554807403148,0.44593307540718097,0.5361899564326623,0.4320471892907872,0.5266271876616647,0.4705544014130631,0.5389156941088871,0.45535239272812017,0.47056343349501756,0.5742161328016455,0.5001423765334907,0.390581425240589,0.5202565549137144,0.492330542050155,0.4277066002960453,0.5563098488026889,0.372431964985896,0.5283957653825466,0.41239925173064446,0.4547021159292479,0.5033807391655583,0.5297885056619819,0.49416936874161294,0.46460030892835663,0.5268757906698731,0.4508995577290055,0.5456796729114317,0.36580675405401386,0.3322429206261288,0.5709732775805133,0.47584786961606645,0.5509601488674911,0.5566077803484537,0.5311929534536274,0.5009265629837776,0.47344588227400275,0.5011027931626734,0.49461811997310673,0.5663944694691372,0.4874416583761978,0.46619234858828024,0.49935448268669985,0.5756334289488994,0.5143083382703273,0.4772908707756893,0.5897483195500884,0.6082506420003874,0.5350407061168495,0.5517650464274118,0.43550576820332715,0.5401582059441195,0.5927312071117752,0.46106880440722403,0.4832341528545623,0.4771819359989793,0.5210536458263417,0.4623516713432237,0.4771451717173681,0.5662953809306327,0.6106885831271018,0.42938298240566614,0.4037995601567535,0.48088135074983657,0.45246593482132585,0.4800591243361982,0.44939250885156473,0.5539270531912549,0.5513041540783141,0.3681378200292343,0.4303202769255283,0.42342128415482666,0.4638964548120323,0.4288734269358447,0.4502935165233984,0.480765475420396,0.4994959567799365,0.5510057421526897,0.4667413251305038,0.5715084596705662,0.4092483759774316,0.34024602904664225,0.5586656590836125,0.5654518899330604,0.37839138513543497,0.36790956245593337,0.45238922177942964,0.5107577072077597,0.47526643500264154,0.4483548188289266,0.49282316536650883,0.5413375192974882,0.379136428165887,0.4410937865569552,0.5057846360550375,0.47758808179279194,0.16196457885099708,0.44509112535014306,0.42774502412374443,0.43815842150020723,0.4660188869632602,0.4820807990491028,0.5280195404303398,0.48977790156401746,0.4736119214625317,0.5539728859475733,0.4601050424495262,0.463009705724883,0.5734182479038238,0.4929123815935788,0.5565000153892042,0.468533373777583,0.4382497748658044,0.4861906189385041,0.3807033550154233,0.48456323848620564,0.4426789162292555,0.5178379338509849,0.4377505947529081,0.4504380833850996,0.5401824637031482,0.4907179315720276,0.21762729336073158,0.5323728917054228,0.6173077329214413,0.5596076001267202,0.4811211841089816,0.32996760465601915,0.5138522744332649,0.4268341945322875,0.5270492197894491,0.5466424437834452,0.38646446175291194,0.5394826702528414,0.46690846642267386,0.5234672351312564,0.5526998623920967,0.4501059989587464,0.465603644302863,0.48797770102719057,0.4633199322399293,0.4992922733295447,0.4357644027925842,0.5391354513748747,0.5872678955608546,0.5457695512095732,0.48660060522612947,0.48181214688689306,0.5741712074903198,0.5584767036794375,0.5379238591758415,0.5322028387863553,0.5643215513929761,0.5451659615923765,0.5172459217070043,0.5851819213192645,0.5424317215684032,0.47414930796997967,0.4200528153673629,0.5372915375791919,0.5089807136711655,0.4163309787152188,0.4715914656789966,0.15465625864532972,0.5391295920242163,0.4256256488775224,0.5453252751630165,0.460307938356575,0.4846499329300599,0.5447006041965782,0.4681591910044522,0.5757237164298789,0.6113047257182608,0.576683390058632,0.3606409736133132,0.5276752749011562,0.48146117750624573,0.48052166095209464,0.4577558282885202,0.4553034363757553,0.5002137069274053,0.5000270091193821,0.4636624769671708,0.5232807073221996,0.4924932709652161,0.5421372905335584,0.512637906834033,0.53219110732133,0.5183916565456741,0.479674481598152,0.5401178234920823,0.5464364832278302,0.372165605165644,0.4924701138702083,0.42937728622413723,0.4021485580276082,0.48277339444622247,0.513250832487925,0.5116558102044474,0.4417720320095539,0.5293206989875878,0.45326375382248035,0.5965374753618464,0.4268671340252851,0.47425922601647286,0.49445941750581063,0.45195348839050564,0.4680063956647524,0.5863263801365796,0.5235834889428453,0.45343335691112846,0.543959119140417,0.4627198189822936,0.5032951299971494,0.4733384317781731,0.5235679309194916,0.4654602892479683,0.5282489476029509,0.5451377803130546,0.43522559853828435],\"y\":[0.49099164782683974,0.45646955471385736,0.48761637281500375,0.4580167133474879,0.5479863245138394,0.4067787933163747,0.45673485917508544,0.509664516546115,0.5069193258491498,0.4200710664946784,0.45365638758335025,0.3592514945682341,0.47627468212809276,0.41908904586162465,0.4109798027660324,0.3937023225179089,0.4819324615928098,0.5228189895425654,0.4388271014567993,0.46671416986702025,0.36893287216014925,0.4601745077194468,0.40270676355564333,0.42279890211332966,0.29433190120496566,0.44388710857527974,0.37776732335101215,0.3375929246445843,0.394118991656534,0.38316797446613965,0.4831357617122604,0.40016329047026755,0.4032505050655265,0.38206320293666024,0.3239868072096004,0.37309848538450263,0.42135150105498875,0.41097856616459355,0.41291870879979153,0.2357680585290256,0.38331598547744616,0.35080700522740715,0.43937181126831637,0.2917417381252933,0.3090868439546057,0.3545433292617248,0.36353858964790725,0.29215987641845864,0.3134361277322711,0.3031665927396148,0.2991671470898786,0.30953930812080266,0.27532686395060274,0.4238498060159041,0.3088424611599457,0.32499476164786817,0.2945097191549584,0.3922449560173518,0.3262089608610613,0.32147922621191466,0.1993003577407424,0.3607451905096071,0.19166562572251522,0.2673867643535802,0.19214523700008368,0.3032383474631146,0.299366590416638,0.29282671582471564,0.31458391195385516,0.29212384152251647,0.27758273087836555,0.2715655570701613,0.2798781303859832,0.29097900171338326,0.36101584755668686,0.2977467357771819,0.3314794597242317,0.3271274656283929,0.2681740630871592,0.23099803054339985,0.23922785458002263,0.31178343475228976,0.27748253750517116,0.3039931702735947,0.325409064951565,0.1827603747414002,0.29099276207587865,0.2704411074613936,0.29842951789316063,0.3307294094595608,0.28663857752747846,0.2991965943521884,0.2740564679289634,0.2619921860103247,0.22646494277389653,0.22743604136357692,0.3052351557511834,0.2637031546344875,0.2529676255941478,0.2812164224410941,0.24091016908204999,0.20489525267445596,0.2722788659309576,0.25461888787562426,0.26521436106887636,0.12129259122308224,0.23444879721377654,0.20983501475977664,0.05033847925900816,0.22945769248728035,0.2535926209326658,0.2356227338089421,0.1333779937443745,0.2729523389124635,0.2124142712063331,0.25928059445709006,0.24988652024577424,0.23205264916682847,0.22558650760987112,0.26018303248386204,0.12935094935407937,0.20888616444673733,0.21874598854164456,0.22837779383824064,0.23805175040480225,0.1754071253877473,0.23235945868604752,0.2016801983670342,0.19055682825463616,0.16788175683182813,0.22559569027447196,0.15269913971881283,0.21033351355324856,0.17071397088041493,0.156329880890964,0.22383006637501462,0.21511575862727292,0.11814668103103033,0.18263772256201874,0.2426768825721004,0.15781874098268472,0.22527919985314868,0.173923073345288,0.1667458484140456,0.1071705894876424,0.1981611022424329,0.2306387653564973,-0.024872767930627305,0.22785298607727242,0.19928606259983514,0.14870510373936735,0.22766867023510218,0.23659747863408512,0.2208216303698778,0.06772932465805458,0.2186594637555472,0.027560226968295465,0.1952727068778825,0.17504162831764547,0.024018894137270267,0.13399849085788607,0.14382227466616448,0.15084433757706076,0.1461320359025312,0.12363305264170889,0.16677706975364356,0.1355825696586393,0.20694436654387616,0.1559607704129901,0.15415189269572205,0.13096740175049826,0.1942696798672871,0.17963356924052526,0.20188793401178462,0.13747106730637831,0.178628686010533,0.21707374845061125,0.2915870036084755,0.13407780702798136,0.17169191308562315,0.14253420234850883,0.16112875978723007,0.07838067606588246,0.05233361963685608,0.025616334526966086,0.040083129107008376,0.18547644451701942,0.16172884111216418,0.1495074776569099,0.17066042323412683,0.09455918968101598,0.1740784276674984,0.05602711337860068,0.14996843702509063,0.10831190161678426,0.08587895469779624,0.08273475839331317,0.16996355303293662,0.04844839843759104,0.0960205123390169,0.15754738527810766,0.15659434366181768,0.1479128643736065,0.145860318622298,0.11150556757143626,0.11248519803767972,0.187135136210612,0.16091281657911607,0.059638909072025396,0.1410384784732394,0.0062663956429317574,0.17203165750181007,0.08698084893235024,0.13054964396651278,0.14086421817902395,0.0720518689786427,0.05695314773498208,0.15962904084887589,0.09296778585355264,0.11184756692598379,0.12755660982540235,0.13335984516319613,0.05603965658345029,0.11869002366645656,0.08662788871637386,0.028485658270350298,0.05926494791428735,0.024885618780145616,0.022281836944932146,0.12147571648821315,0.07497557567195999,-0.008705563741932775,0.008613546660194314,0.05097479113980584,0.1495904075289348,-0.0018375273896301919,-0.004340775241094421,0.14010687213545261,0.0905038006599288,0.11957312582572716,0.1180914450873915,0.11280651706079708,0.08617757232401255,0.1410941731636063,0.14168766498920413,0.06687485634936757,0.0028773550182739555,0.13362239544254867,0.1102587904496039,0.007734057704424696,0.12539058636571554,0.1672580240559012,0.0740707322158526,0.1207511176130523,0.15067221210305412,0.13577743214186416,0.11600341731436913,0.17621039699349045,0.1252727644162501,0.04560954981196021,0.08581496316409827,0.15006289843995047,0.0854536078259154,0.05777068420380152,0.1626990516442007,-0.02567732008561596,0.0054340813978497665,0.11343733551252136,0.11128780967599253,0.09811089689840895,0.03585191577333759,0.12278427706748343,0.13389953865520576,0.06174779426877816,0.15059741358103146,0.1259533590222305,0.15777939761716273,0.06976488503526626,0.14185296692000215,0.051863432429190205,0.07919270038569548,0.11153923687079359,0.034601338869691786,0.11273839258722923,0.1160861386293682,0.10469291334764215,0.050388488463737516,0.10806013874023045,-0.03133667323926323,0.10414306538743996,0.09965149208532381,0.0510530363815312,0.0008139417381266209,0.01740680678941041,0.039788862796242136,-0.01585987164336354,0.038230986334857726,0.06467777735683161,0.16416257519376387,0.043641673571971885,-0.15199430879392428,0.11758731092405107,0.14446719234959496,0.045108969334502785,0.10131795840212393,0.028336010184620123,0.09239310198894858,0.13490359504098143,0.04586188063421308,0.11068146531232818,0.19268652752146073,0.16738470300497624,0.07432269815824126,0.04077421636444084,0.08230985131188917,0.11071317633256045,0.00963013468755232,0.04122142147265551,0.12420372704817097,0.011694500447785637,0.050099311473293745,-0.009380737824261545,0.03111739764562506,0.11525791985510461,0.04024148121857686,0.14291218203282613,-0.019407394198712444,-0.04785592034665328,0.009071141181081765,0.08647281157155365,-0.02970686915588706,0.1342669915177086,0.043644941618171514,0.03023335720250987,0.12331795693317432,0.10090144806554514,0.07928618433361644,0.11344898073243587,0.13763962829041193,-0.018481487725567028,0.04440311331975446,0.14950559340628392,0.07168369771176994,-0.06935098250044075,0.1016481160134402,0.01949046921280924,0.13055011322827528,-0.0731946077875794,0.07527064509864913,0.004199976870034506,0.05591219543722059,0.01571973408086918,0.03971615381613323,0.059491579105429834,0.08472694812512412,0.02055086855895918,0.03715707113541669,-0.029320303114303416,0.11125078298841921,0.08551492246700781,0.07091098416753945,0.016927721236411508,-0.04592507233442225,0.07844009015174383,0.11535339385686398,0.011919919410960354,-0.01595255438945566,0.014291986005592944,0.06837039517221878,0.020265290796287624,-0.06864528550415833,0.04068643455035497,0.06869845944787804,0.13102435749598923,0.08751221160974669,0.12509353456827646,0.1235982841056404,0.10304731505024606,-0.05067328945725073,0.09293652493855686,0.13016742167772155,0.04001739758954297,-0.00042464594398119196,0.1354387013712363,0.13660457565186054,0.10403098653759796,0.012461696154577115,0.013280840957960739,0.07943462056466526,0.04567609023024469,-0.041257990577919255,0.08878083087657887,-0.022044418755721034,0.1187557574478775,0.0026376634606566176,-0.06927199875535475,0.03920038255647291,-0.08987053904068458,0.07444258969717595,0.032844170680061034,-0.06434118592832094,0.0170612270493991,0.013621805350322555,0.03134098701118487,0.07707445036677713,0.07654185004329954,-0.036107934612036936,0.05677054366898264,0.003311978447518881,-0.005354776752766579,0.06542012070923313,0.0442754071244119,-0.07693803041276695,0.012175790598230254,0.008636514189348521,-0.019047300624676546,0.11297195303809135,0.039993586588866155,0.041574500590391986,0.030338520690517554,0.034593755324334244,-0.0442127347349513,0.11057828695667819,0.0076283057587060036,0.03297235502751753,-0.008812971748572183,0.07133260816089909,0.000974550066864306,-0.04236700354267996,0.027148501288597787,0.03732638872168057,0.04849058417989948,-0.020664908293918982,0.12831675277946097,0.11522993427001932,0.0021309095503318103,0.03371880426723544,0.012049741382010707,-0.020221183367930107,-0.014629958482470899,0.1032286145685339,0.05834119418275215,0.0474631146756636,0.027691931898747073,-0.11710527826955779,-0.03381774388965084,-0.002660369660450877,0.023956160254334943,-0.015485063079005329,-0.016033620268160423,-0.034037535383768566,0.019252149537314838,-0.006686478802411971,0.09249346094392588,0.08388288069057871,-0.038315468197878295,-0.04451429411133133,-0.04918191323096759,0.06658070516089569,0.010853830746047602,0.12808574055306388,0.02933298692109578,0.021362553276205176,0.07483931648093743,0.0344527607944031,0.003142251750707573,0.11365627297098102,0.09150038959124875,0.06846776708513751,0.09106785795897378,0.037463459479309895,-0.012613444226838645,0.04422718438309298,-0.01706833664088533,-0.05174568758192961,-0.005145773479686326,0.06098909064160598,0.08348322325843253,0.05134734905261402,0.12985487903192613,0.05186711309111498,0.03612692071104566,-0.02131112471357717,0.06870494688638341,-0.01627699665286154,-0.13222746381851153,-0.007811355801801525,0.00017067163838932887,-0.07578070038793668,0.01532845286001982,0.13611807304777715,0.06327214225250598,-0.04360022414229598,-0.029874948972224546,0.0871672167188911,0.006576402580864121,-0.020048181587005703,-0.07494377827304483,0.03881182057281845,0.07364026172901841,-0.09031522433370713,0.09459478814443296,-0.11480608743635017,-0.08203296525315476,-0.06707846784148791,0.06391685766345066,-0.008094188675426375,-0.107399500742063,0.07221733681087351,-0.0035408194955674622,0.045001773205303165,0.0007198938488898861,-0.012585058306693132,-0.0022611335264827643,0.07508362273721514,-0.038980656541502616,-0.008427027278479639,0.07207642644983742,0.10651100988192899,0.04184011115773834,0.01245252344134349,-0.08131880891159114,-0.024264894448101215,0.027037316367447117,0.008460182915996005,0.004739256731248672,-0.035633959548190146,0.009583411920670519,-0.0538757367775823,-0.021212932578776867,0.0039612435815610655,-0.058783774484521364,-0.04337800560007663,0.015855059637289292,0.022264494820585852,-0.023473377642594218,0.044756438673033784,-0.07621616980545722,0.03865367214492012,0.03067184445361658,-0.003366037715109436,0.042500244313235715,0.051062101968987236,0.017359603743398542,-0.05970717575306099,0.04235082376875229,-0.011899804294569738,-0.04021502060596597,-0.01179718618388835,-0.08634847216046665,0.06317164566346237,0.028917345766767473,-0.016979076325347953,0.0258927035007481,-0.059672135543059265,-0.07099327410901203,-0.019281508843769907,-0.12345145062474533,0.047957852180347996,-0.003599335812655501,-0.08569822807757588,0.03640244277589333,-0.04875658991283614,-0.027970767247615408,0.09617822178055516,-0.08892557361309168,-0.08458217257976029,-0.06494476884102479,-0.06513244526993756,0.06928143959241394,-0.018584491207766278,-0.005307768471697421,0.01190173469985982,-0.026658314126975426,-0.045619550841092614,-0.02213184530367082,-0.060067238247364214,-0.10097867849418159,0.05723780374090529,0.11190878809096454,-0.027265928995437404,-0.021584967620029597,0.02459228337164843,0.06990475888881952,0.012083479433691924,-0.03293608322658733,-0.03374562579634304,0.031679332674187946,-0.01851397385494042,0.07098410290567156,-0.01842606416067086,0.038204624226915784,-0.08384288346858106,0.04649370998041028,0.10247004373153609,-0.03508252595555669,-0.02249794847266287,-0.03458840378988694,-0.07580777022228101,-0.029528865215991,0.03713703959553316,0.039014820702335744,-0.0020518138280859483,0.021590545646960453,-0.06417238166052602,-0.006672641809549949,0.03030224422642128,0.027953028913550396,-0.09067997495197916,-0.05786390056405464,-0.05517703683443651,-0.01808030575216451,-0.024992330526176144,0.041758448468021486,-0.08513276177146226,0.05939901104668695,0.07970683831207935,-0.17534635996453649,-0.028304815090228617,-0.17161324667464914,-0.004769693743662991,0.056677215158018365,-0.005982713629569511,-0.0719279351855733,0.06905765639616988,-0.11349633952311615,-0.08149637777849852,0.0976423225353194,-0.0177111694308563,-0.08089696757488991,0.01867045207720555,-0.028517974167528742,0.05804460754364675,-0.05285422054320686,0.0565742403574849,0.014901135934178607,-0.13848535363220285,-0.036547704134127466,0.055854923045546505,-0.04049640030988137,-1.208484514594376e-05,-0.00926862109605791,0.08557238024027553,-0.0005814627195769647,-0.16650384900583703,-0.01193879269086028,-0.026266828792804606,-0.00986304772335338,0.06179553753257023,-0.0628706478315076,0.07880789730079771,0.02917615836922825,0.04397599567712183,-0.004302266243195027,0.007107061464434338,-0.09241329878861539,-0.11473002590364247,-0.07582719631714797,-0.10600547265990998,0.004711487952778004,-0.05518666407056378,-0.08386460383681682,0.05227781470626194,-0.011578683807397579,-0.014078710931659058,-0.04855371609764244,-0.07652813531347046,-0.1343024154216828,-0.08845319885083668,-0.03937074502576603,-0.030597000573244538,-0.15652752393488606,-0.13421367963017633,-0.09083122013230921,-0.07532110737885438,0.034478015723759275,-0.06316683317754146,-0.0938893172671828,-0.004367738234717009,-0.21580051863015223,0.04039521068857139,-0.002782848068287611,-0.05744317210022291,-0.07359811459037635,-0.06894549910850006,-0.10457572062711942,0.05283886213253102,0.016047844724230195,-0.10173030676212744,0.004963673472715624,0.03360553653133941,0.006269304268474736,0.030362258044750186,0.012955693503910305,-0.06315147084352667,-0.11037791530007782,-0.05454000068425638,-0.034996704013646136,-0.055036677531004136,-0.002690595994840936,-0.10592342582851096,0.046040576294415624,0.07389378296826031,0.027617047115638164,-0.1442487796544891,-0.06528508854323795,0.07765294606428869,-0.13261535047336606,0.09597064153084729,-0.06511314924558957,0.003320706830262978,-0.069970353961585,-0.03151750522712772,-0.00889704917495904,-0.1292468808987958,-0.10584442271432858,-0.011851729556645617,0.04552416089462472,0.012769256430752404,-0.09920850891906223,-0.0874208012364681,0.026807757652268897,-0.04030512981543855,0.028000064739197437,-0.10324116261320575,-0.016984890131016728,0.006768529721920624,0.08825392475317917,-0.01034758303756323,-0.030876844131206744,-0.10215628287591677,-0.034105669847677,0.07166530081591259,-0.10889375030881407,-0.13154044962689548,-0.04354110294849754,0.15293154629596448,-0.02344043152976867,-0.04318914206002682,-0.0457372784548167,-0.01690377825162485,-0.035487262864960796,0.013889285822020411,-0.2360647864612647,-0.040594435898994294,0.013283702645683581,0.04544782761598363,-0.1796632864494732,-0.09006858252123104,-0.05820207102718381,-0.09318874401887459,-0.13627909450615622,0.04439633890464061,-0.0575249792077002,0.06888972991798324,-0.13544201534608022,-0.05805920397844424,0.005827780906834616,-0.010824549229277081,-0.027976584868934666,-0.07206603562672326,-0.050226413987288894,0.0005421114198647566,-0.09852219632360176,-0.11354238562454724,-0.040698087917937505,-0.08740733083431404,-0.09911787970640917,-0.13857110120063554,-0.1164460246430548,-0.09051684729534429,-0.07609645250181643,-0.06960176969743384,-0.006261420456108023,-0.10089058141624656,-0.07167885865242042,0.02592030634079583,-0.14143454223868468,-0.08500370136941711,-0.07044381686478135,0.025685222861691812,-0.08355426716709692,-0.0026150909763564107,0.05938197829228882,0.047495357128621574,-0.007264724503323969,0.023068017750820357,-0.12393022554928132,-0.11490719051924335,0.02176935581719026,-0.10908555673641437,-0.0016036526335212072,-0.0908976474449743,-0.10877655138833034,0.027123489252303595,-0.04316730817798208,-0.062348556117916315,0.021053939262111285,-0.1452063327007401,-0.027290271013287525,-0.0194575974471298,0.035372503580230426,-0.057929969519048476,-0.06482608928642956,-0.04135060021311812,-0.0451594133862074,0.04725528437986307,-0.11434240418527444,-0.008492843572172176,0.02848867139588793,-0.11895482936285151,-0.08530842830737514,-0.02971695543717387,-0.193335609886162,-0.06526972504942055,-0.057268575572513615,-0.10626072795574266,-0.15226771313290088,-0.08093233991453233,-0.09513113854125888,-0.029570222110211677,-0.03573834833759702,-0.06499932030924903,-0.12651386959435512,-0.11472517560451091,-0.08433233070487131,-0.05696890251149997,-0.12347363356317033,-0.0639264266077881,0.003328580887066014,-0.044436996858150765,-0.11848329732142189,-0.11570190775635399,0.005265754820548076,-0.0658514645869662,-0.06006328933761849,-0.187711237341749,0.015573332394498467,-0.11176849657170179,-0.06162656945625525,-0.012848875430070838,0.061547571584200045,-0.010504109240004953,-0.06760080894896114,-0.006061869865976373,-0.04091765928086642,0.012626374338750197,-0.18777758414182089,-0.09240492732014698,-0.043700144146778114,-0.051991160073455576,0.031167922903608248,0.01150641791581797,0.02379346030470443,-0.014349514428581931,0.043014707647272554,-0.09974212326898693,-0.13799392246290096,-0.040484345093439185,-0.14468390983154714,0.031346107732351816,-0.09554733318412037,-0.14893215008034658,-0.07912199742015652,-0.032919663904471715,0.05215288510605165,-0.07057941626235174,-0.07463253347993497,-0.07806094220194099,0.0286627741001226,-0.11391133355394735,-0.08852825064394575,-0.05910469828221976,0.06279726448792763,-0.09346729755057887,-0.04988918326611338,0.01028881657811992,0.025367738905486298,-0.06505483609556367,0.03593282234351029,-0.0929980724272697,-0.004127023925023391,-0.1340859640028657,-0.10807144312923458,-0.14251078984527546,-0.0680955950500746,-0.15099936659525903,-0.026349617539322752,-0.19351664865540905,-0.035069623372254194,-0.06079331283063064,0.016152005229301124,0.04335110127750573,-0.08613305288192942,-0.031565432538452155,-0.10562446805118712,0.02183094879974395,-0.05113177832923698,-0.06773583304492688,-0.07693174668713111,-0.20729193654319378,0.01083192506922614,0.0217119470047802,-0.09472469144598156,-0.20159026678645706,-0.10025370318036757,-0.07237041220403911,0.05443113300218311,-0.09756484618719645,-0.04438524883616965,-0.03755642677112984,-0.13203783638774655,0.01188833259690982,-0.11866344618192931,-0.12421758085019881,-0.22103637444103358,-0.0944127061165915,0.015212065060487985,0.048694628190596626,-0.1428829578694803,-0.009566010908490116,-0.1709128748566782,-0.08837149242869151,-0.09673269833406178,-0.017178462808360814,-0.17831821002990697,-0.014140667356086083,-0.008997616815708048,-0.10712973474839402,-0.025377669221932825,-0.15801241334198277,-0.02826542728232774,-0.09813101685718788,-0.08513968629425601,-0.1602745467942999,-0.1306658171477713,-0.08812421475166725,-0.13189200085934097,-0.008774354236413715,0.019556026085354453,-0.1685263492708088,0.034980641914735364,0.00662863965565386,0.006025889144415983,-0.0922727002449538,-0.054576558240131044,-0.23275075592211544,-0.021809691454879317,-0.12962165118676117,-0.11025331801334397,-0.051534963259100695,-0.1358975284023934,0.00523524446295586,-0.11793040841826595,-0.06928955708004815,-0.12629110776215705,-0.17832430554062453,-0.06389518337694806,0.018181580729860355,-0.03235494224849178,-0.0740564411580267,-0.17214610811299486,0.005185573242633187,0.0142851659469663,-0.17269315092982163,-0.034530637663400955,-0.11550589456370111,-0.09443321658227936,-0.02067204146617436,-0.03511031122780929,-0.12863851322170636,-0.0991436111749386,-0.02748751153086825,-0.06354054453055404,-0.011240191933309425,0.02929327496633371,-0.06834694831928122,-0.022184909602201777,-0.0784066346333259,-0.07910891886616564,-0.06042240486485043,0.014423895187263336,-0.22538503647875144,-0.014617688863066178,-0.1883845588197131,-0.16034331951442043,-0.08668647808810248,-0.07405703696030744,-0.052002212213707995,-0.17853918916354175,-0.12539826927608036,-0.032543324490620695,-0.11467630023346251,-0.046712102952734126,-0.08118945043433629,-0.08936034940355898,-0.16900914567172995,-0.08680500865331318,-0.07248543069163786,0.04495285746009229]}},\"id\":\"a614c44a-f27e-4c15-b760-541a22649382\",\"type\":\"ColumnDataSource\"},{\"attributes\":{\"callback\":null},\"id\":\"430d19a5-f469-488a-a3ec-fb8f79e7c3f2\",\"type\":\"DataRange1d\"},{\"attributes\":{\"formatter\":{\"id\":\"11a69140-e108-4eaa-88de-133320359dc9\",\"type\":\"BasicTickFormatter\"},\"plot\":{\"id\":\"c41775ce-7bd5-49b3-8f5e-4673e3565682\",\"subtype\":\"Figure\",\"type\":\"Plot\"},\"ticker\":{\"id\":\"6ef95c01-e360-46b9-91b0-1e266333ec1f\",\"type\":\"BasicTicker\"}},\"id\":\"12a688f2-dddb-4d10-a633-13a8abdff038\",\"type\":\"LinearAxis\"},{\"attributes\":{\"text_align\":\"center\",\"text_alpha\":{\"value\":0.1},\"text_baseline\":\"middle\",\"text_color\":{\"value\":\"black\"},\"x\":{\"field\":\"x\"},\"y\":{\"field\":\"y\"}},\"id\":\"eee91407-b465-4235-a669-64358c07ad12\",\"type\":\"Text\"},{\"attributes\":{\"below\":[{\"id\":\"12a688f2-dddb-4d10-a633-13a8abdff038\",\"type\":\"LinearAxis\"}],\"left\":[{\"id\":\"16df0e1b-4701-43d8-b75c-f149a6cbdd04\",\"type\":\"LinearAxis\"}],\"renderers\":[{\"id\":\"12a688f2-dddb-4d10-a633-13a8abdff038\",\"type\":\"LinearAxis\"},{\"id\":\"77ce6dc1-c804-49b1-ab26-6001bab04e20\",\"type\":\"Grid\"},{\"id\":\"16df0e1b-4701-43d8-b75c-f149a6cbdd04\",\"type\":\"LinearAxis\"},{\"id\":\"f663ecf9-6bb3-4e6c-83b9-ce77a7045c40\",\"type\":\"Grid\"},{\"id\":\"68e94041-15fb-4994-a859-dbb9dba608cd\",\"type\":\"BoxAnnotation\"},{\"id\":\"694c2d29-4c8a-40ee-ae5b-2aaec9b7da93\",\"type\":\"GlyphRenderer\"}],\"title\":{\"id\":\"b1c8ba32-a9fe-4e31-ab48-39dbc515860c\",\"type\":\"Title\"},\"tool_events\":{\"id\":\"13d40a81-b653-4746-96d2-75f4b14848d4\",\"type\":\"ToolEvents\"},\"toolbar\":{\"id\":\"6426014a-3acb-45d6-acee-4f0773d09aa9\",\"type\":\"Toolbar\"},\"x_range\":{\"id\":\"9f7997cc-6a46-4e6d-a9ae-0e541d323ac3\",\"type\":\"DataRange1d\"},\"y_range\":{\"id\":\"430d19a5-f469-488a-a3ec-fb8f79e7c3f2\",\"type\":\"DataRange1d\"}},\"id\":\"c41775ce-7bd5-49b3-8f5e-4673e3565682\",\"subtype\":\"Figure\",\"type\":\"Plot\"},{\"attributes\":{\"plot\":null,\"text\":\"Word Vectors\"},\"id\":\"b1c8ba32-a9fe-4e31-ab48-39dbc515860c\",\"type\":\"Title\"}],\"root_ids\":[\"c41775ce-7bd5-49b3-8f5e-4673e3565682\"]},\"title\":\"Bokeh Application\",\"version\":\"0.12.0\"}};\n",
       "            var render_items = [{\"docid\":\"e2ed03a6-92f1-4712-ab21-ce9fabf12d6d\",\"elementid\":\"8eb421c7-cccd-419b-a3ac-26bd2792b4ba\",\"modelid\":\"c41775ce-7bd5-49b3-8f5e-4673e3565682\",\"notebook_comms_target\":\"a4117678-3504-4531-a75c-ce4b5ef89843\"}];\n",
       "            \n",
       "            Bokeh.embed.embed_items(docs_json, render_items);\n",
       "        });\n",
       "      },\n",
       "      function(Bokeh) {\n",
       "      }\n",
       "    ];\n",
       "  \n",
       "    function run_inline_js() {\n",
       "      for (var i = 0; i < inline_js.length; i++) {\n",
       "        inline_js[i](window.Bokeh);\n",
       "      }\n",
       "    }\n",
       "  \n",
       "    if (window._bokeh_is_loading === 0) {\n",
       "      console.log(\"Bokeh: BokehJS loaded, going straight to plotting\");\n",
       "      run_inline_js();\n",
       "    } else {\n",
       "      load_libs(js_urls, function() {\n",
       "        console.log(\"Bokeh: BokehJS plotting callback run at\", now());\n",
       "        run_inline_js();\n",
       "      });\n",
       "    }\n",
       "  }(this));\n",
       "</script>"
      ]
     },
     "metadata": {},
     "output_type": "display_data"
    }
   ],
   "source": [
    "word_colors = collections.defaultdict(lambda: \"black\")\n",
    "word_colors[\"the\"] = \"blue\"\n",
    "word_colors[\"england\"] = \"red\"\n",
    "word_colors[\"soviet\"] = \"red\"\n",
    "plot_wv.plot_wv(Wv, vocab, num_words=1000, word_colors=word_colors)"
   ]
  },
  {
   "cell_type": "markdown",
   "metadata": {},
   "source": [
    "## t-SNE\n",
    "\n",
    "The above visualization just plots the first two dimensions. This is equivalent to doing a TruncatedSVD with k=2, which doesn't always give the most meaningful representation.\n",
    "\n",
    "We can get more intuition by projecting down with [t-SNE](https://en.wikipedia.org/wiki/T-distributed_stochastic_neighbor_embedding). This is a *non*-linear way of embedding high-dimensional data (like our embedding vectors) into a low dimensional space. It works by preserving local distances (like nearby neighbors), at the expense of some global distortion.\n",
    "\n",
    "t-SNE won't be very good if we want to check analogy relationships, but it will help us visualize clusters."
   ]
  },
  {
   "cell_type": "markdown",
   "metadata": {},
   "source": [
    "Scikit-learn includes a t-SNE implementation in [`sklearn.manifold.TSNE`](http://scikit-learn.org/stable/modules/generated/sklearn.manifold.TSNE.html), but the implementation is slow and tends to crash by using too much (>4 GB) memory.\n",
    "\n",
    "Instead, we'll use the excellent [`bhtsne`](https://github.com/dominiek/python-bhtsne) package. Install with:\n",
    "```\n",
    "sudo apt-get install gcc g++\n",
    "pip install bhtsne\n",
    "```\n",
    "\n",
    "The cell below will take around 2 minutes to run on a 2 CPU Cloud Compute instance."
   ]
  },
  {
   "cell_type": "code",
   "execution_count": 18,
   "metadata": {
    "collapsed": false
   },
   "outputs": [
    {
     "name": "stdout",
     "output_type": "stream",
     "text": [
      "Running Barnes-Hut t-SNE on word vectors; matrix shape = (10000, 100)\n",
      "Transformed in 0:01:49\n"
     ]
    }
   ],
   "source": [
    "import bhtsne\n",
    "\n",
    "t0 = time.time()\n",
    "print \"Running Barnes-Hut t-SNE on word vectors; matrix shape = %s\" % str(Wv.shape)\n",
    "Wv2 = bhtsne.tsne(Wv)\n",
    "print \"Transformed in %s\" % data_utils.pretty_timedelta(since=t0)\n",
    "\n",
    "## Uncomment below if you need to use sklearn implementation\n",
    "## (not recommended)\n",
    "# from sklearn.manifold import TSNE\n",
    "# transformer = TSNE(n_components=2, verbose=2)\n",
    "# Wv2 = transformer.fit_transform(Wv)"
   ]
  },
  {
   "cell_type": "code",
   "execution_count": 19,
   "metadata": {
    "collapsed": false
   },
   "outputs": [
    {
     "data": {
      "text/html": [
       "\n",
       "\n",
       "    <div class=\"bk-root\">\n",
       "        <div class=\"plotdiv\" id=\"572a3f2f-c4e8-4754-9f56-b35b9bc6374c\"></div>\n",
       "    </div>\n",
       "<script type=\"text/javascript\">\n",
       "  \n",
       "  (function(global) {\n",
       "    function now() {\n",
       "      return new Date();\n",
       "    }\n",
       "  \n",
       "    if (typeof (window._bokeh_onload_callbacks) === \"undefined\") {\n",
       "      window._bokeh_onload_callbacks = [];\n",
       "    }\n",
       "  \n",
       "    function run_callbacks() {\n",
       "      window._bokeh_onload_callbacks.forEach(function(callback) { callback() });\n",
       "      delete window._bokeh_onload_callbacks\n",
       "      console.info(\"Bokeh: all callbacks have finished\");\n",
       "    }\n",
       "  \n",
       "    function load_libs(js_urls, callback) {\n",
       "      window._bokeh_onload_callbacks.push(callback);\n",
       "      if (window._bokeh_is_loading > 0) {\n",
       "        console.log(\"Bokeh: BokehJS is being loaded, scheduling callback at\", now());\n",
       "        return null;\n",
       "      }\n",
       "      if (js_urls == null || js_urls.length === 0) {\n",
       "        run_callbacks();\n",
       "        return null;\n",
       "      }\n",
       "      console.log(\"Bokeh: BokehJS not loaded, scheduling load and callback at\", now());\n",
       "      window._bokeh_is_loading = js_urls.length;\n",
       "      for (var i = 0; i < js_urls.length; i++) {\n",
       "        var url = js_urls[i];\n",
       "        var s = document.createElement('script');\n",
       "        s.src = url;\n",
       "        s.async = false;\n",
       "        s.onreadystatechange = s.onload = function() {\n",
       "          window._bokeh_is_loading--;\n",
       "          if (window._bokeh_is_loading === 0) {\n",
       "            console.log(\"Bokeh: all BokehJS libraries loaded\");\n",
       "            run_callbacks()\n",
       "          }\n",
       "        };\n",
       "        s.onerror = function() {\n",
       "          console.warn(\"failed to load library \" + url);\n",
       "        };\n",
       "        console.log(\"Bokeh: injecting script tag for BokehJS library: \", url);\n",
       "        document.getElementsByTagName(\"head\")[0].appendChild(s);\n",
       "      }\n",
       "    };var element = document.getElementById(\"572a3f2f-c4e8-4754-9f56-b35b9bc6374c\");\n",
       "    if (element == null) {\n",
       "      console.log(\"Bokeh: ERROR: autoload.js configured with elementid '572a3f2f-c4e8-4754-9f56-b35b9bc6374c' but no matching script tag was found. \")\n",
       "      return false;\n",
       "    }\n",
       "  \n",
       "    var js_urls = [];\n",
       "  \n",
       "    var inline_js = [\n",
       "      function(Bokeh) {\n",
       "        Bokeh.$(function() {\n",
       "            var docs_json = {\"847871b5-4e2d-4a35-9009-430002038a85\":{\"roots\":{\"references\":[{\"attributes\":{},\"id\":\"0109cbd1-883f-480b-a3a1-2c4dba6fbb54\",\"type\":\"BasicTickFormatter\"},{\"attributes\":{},\"id\":\"89d7a2b5-a914-4300-838f-4157b0d83b69\",\"type\":\"ToolEvents\"},{\"attributes\":{\"callback\":null},\"id\":\"7bdba199-a010-4b2d-89ca-b546092334b2\",\"type\":\"DataRange1d\"},{\"attributes\":{\"plot\":{\"id\":\"3792c857-008b-4b05-934c-dacc0164d9f6\",\"subtype\":\"Figure\",\"type\":\"Plot\"},\"ticker\":{\"id\":\"7d08fce1-4f75-4019-8c52-95249a34b9fd\",\"type\":\"BasicTicker\"}},\"id\":\"47295edf-bcd6-4eb5-9136-451d66a0bb49\",\"type\":\"Grid\"},{\"attributes\":{\"dimension\":1,\"plot\":{\"id\":\"3792c857-008b-4b05-934c-dacc0164d9f6\",\"subtype\":\"Figure\",\"type\":\"Plot\"},\"ticker\":{\"id\":\"b991ea7c-e781-4514-aeaa-68837737f172\",\"type\":\"BasicTicker\"}},\"id\":\"ee1cb7bf-c849-4a63-bae1-25d3c5c8d0ea\",\"type\":\"Grid\"},{\"attributes\":{\"formatter\":{\"id\":\"0109cbd1-883f-480b-a3a1-2c4dba6fbb54\",\"type\":\"BasicTickFormatter\"},\"plot\":{\"id\":\"3792c857-008b-4b05-934c-dacc0164d9f6\",\"subtype\":\"Figure\",\"type\":\"Plot\"},\"ticker\":{\"id\":\"b991ea7c-e781-4514-aeaa-68837737f172\",\"type\":\"BasicTicker\"}},\"id\":\"0206bf44-c49b-46de-9113-de83fd3e1825\",\"type\":\"LinearAxis\"},{\"attributes\":{\"formatter\":{\"id\":\"d21b9520-2b7d-46f3-9920-147ec95f09c5\",\"type\":\"BasicTickFormatter\"},\"plot\":{\"id\":\"3792c857-008b-4b05-934c-dacc0164d9f6\",\"subtype\":\"Figure\",\"type\":\"Plot\"},\"ticker\":{\"id\":\"7d08fce1-4f75-4019-8c52-95249a34b9fd\",\"type\":\"BasicTicker\"}},\"id\":\"2c526f06-33e6-480d-8104-db7693eaebb7\",\"type\":\"LinearAxis\"},{\"attributes\":{\"plot\":{\"id\":\"3792c857-008b-4b05-934c-dacc0164d9f6\",\"subtype\":\"Figure\",\"type\":\"Plot\"}},\"id\":\"af169581-5d65-4591-a18f-cf590e5a1e6c\",\"type\":\"PanTool\"},{\"attributes\":{},\"id\":\"b991ea7c-e781-4514-aeaa-68837737f172\",\"type\":\"BasicTicker\"},{\"attributes\":{\"bottom_units\":\"screen\",\"fill_alpha\":{\"value\":0.5},\"fill_color\":{\"value\":\"lightgrey\"},\"left_units\":\"screen\",\"level\":\"overlay\",\"line_alpha\":{\"value\":1.0},\"line_color\":{\"value\":\"black\"},\"line_dash\":[4,4],\"line_width\":{\"value\":2},\"plot\":null,\"render_mode\":\"css\",\"right_units\":\"screen\",\"top_units\":\"screen\"},\"id\":\"088dead5-44a2-4717-bc0b-a73f7da0297c\",\"type\":\"BoxAnnotation\"},{\"attributes\":{\"plot\":{\"id\":\"3792c857-008b-4b05-934c-dacc0164d9f6\",\"subtype\":\"Figure\",\"type\":\"Plot\"}},\"id\":\"d18ead99-a1ad-4f77-81c3-12d24f6b8a07\",\"type\":\"WheelZoomTool\"},{\"attributes\":{\"text_align\":\"center\",\"text_alpha\":{\"value\":0.1},\"text_baseline\":\"middle\",\"text_color\":{\"value\":\"black\"},\"x\":{\"field\":\"x\"},\"y\":{\"field\":\"y\"}},\"id\":\"517b3886-00c8-4263-ab7a-4bf82ebd1841\",\"type\":\"Text\"},{\"attributes\":{\"overlay\":{\"id\":\"088dead5-44a2-4717-bc0b-a73f7da0297c\",\"type\":\"BoxAnnotation\"},\"plot\":{\"id\":\"3792c857-008b-4b05-934c-dacc0164d9f6\",\"subtype\":\"Figure\",\"type\":\"Plot\"}},\"id\":\"71b0616f-e1e9-4985-9649-262d4c9fd92a\",\"type\":\"BoxZoomTool\"},{\"attributes\":{\"plot\":{\"id\":\"3792c857-008b-4b05-934c-dacc0164d9f6\",\"subtype\":\"Figure\",\"type\":\"Plot\"}},\"id\":\"c5aef021-f649-45f7-bd0f-fad1aa9215ae\",\"type\":\"ResetTool\"},{\"attributes\":{},\"id\":\"7d08fce1-4f75-4019-8c52-95249a34b9fd\",\"type\":\"BasicTicker\"},{\"attributes\":{},\"id\":\"d21b9520-2b7d-46f3-9920-147ec95f09c5\",\"type\":\"BasicTickFormatter\"},{\"attributes\":{\"active_drag\":\"auto\",\"active_scroll\":{\"id\":\"d18ead99-a1ad-4f77-81c3-12d24f6b8a07\",\"type\":\"WheelZoomTool\"},\"active_tap\":\"auto\",\"tools\":[{\"id\":\"c5aef021-f649-45f7-bd0f-fad1aa9215ae\",\"type\":\"ResetTool\"},{\"id\":\"af169581-5d65-4591-a18f-cf590e5a1e6c\",\"type\":\"PanTool\"},{\"id\":\"d18ead99-a1ad-4f77-81c3-12d24f6b8a07\",\"type\":\"WheelZoomTool\"},{\"id\":\"71b0616f-e1e9-4985-9649-262d4c9fd92a\",\"type\":\"BoxZoomTool\"}]},\"id\":\"5d1270aa-562c-4d09-967b-2cd0d89e507e\",\"type\":\"Toolbar\"},{\"attributes\":{\"callback\":null,\"column_names\":[\"text\",\"x\",\"y\"],\"data\":{\"text\":[\"the\",\",\",\".\",\"of\",\"and\",\"to\",\"a\",\"in\",\"that\",\"is\",\"was\",\"he\",\"for\",\"``\",\"''\",\"it\",\"with\",\"as\",\"his\",\"on\",\"be\",\";\",\"at\",\"by\",\"i\",\"this\",\"had\",\"?\",\"not\",\"are\",\"but\",\"from\",\"or\",\"have\",\"an\",\"they\",\"which\",\"--\",\"one\",\"you\",\"were\",\"her\",\"all\",\"she\",\"there\",\"would\",\"their\",\"we\",\"him\",\"been\",\")\",\"has\",\"(\",\"when\",\"who\",\"will\",\"more\",\"if\",\"no\",\"out\",\"DG\",\"so\",\"said\",\"DGDGDGDG\",\"DGDG\",\"what\",\"up\",\"its\",\"about\",\":\",\"into\",\"than\",\"them\",\"can\",\"only\",\"other\",\"new\",\"some\",\"could\",\"time\",\"!\",\"these\",\"two\",\"may\",\"then\",\"do\",\"first\",\"any\",\"my\",\"now\",\"such\",\"like\",\"our\",\"over\",\"man\",\"me\",\"even\",\"most\",\"made\",\"also\",\"after\",\"did\",\"many\",\"before\",\"must\",\"af\",\"through\",\"back\",\"years\",\"much\",\"where\",\"your\",\"way\",\"well\",\"down\",\"should\",\"because\",\"each\",\"just\",\"those\",\"people\",\"mr.\",\"too\",\"how\",\"little\",\"state\",\"good\",\"very\",\"make\",\"world\",\"still\",\"see\",\"own\",\"men\",\"work\",\"long\",\"here\",\"get\",\"between\",\"both\",\"life\",\"being\",\"under\",\"never\",\"day\",\"same\",\"another\",\"know\",\"while\",\"last\",\"us\",\"might\",\"great\",\"old\",\"year\",\"off\",\"come\",\"since\",\"against\",\"go\",\"DGDGDG\",\"came\",\"right\",\"used\",\"take\",\"three\",\"states\",\"himself\",\"few\",\"use\",\"house\",\"during\",\"without\",\"again\",\"place\",\"american\",\"around\",\"however\",\"home\",\"small\",\"found\",\"mrs.\",\"thought\",\"went\",\"say\",\"part\",\"once\",\"general\",\"high\",\"upon\",\"school\",\"every\",\"don't\",\"does\",\"got\",\"united\",\"left\",\"number\",\"course\",\"war\",\"until\",\"always\",\"away\",\"something\",\"fact\",\"water\",\"though\",\"public\",\"put\",\"less\",\"think\",\"almost\",\"hand\",\"enough\",\"took\",\"far\",\"head\",\"yet\",\"government\",\"system\",\"set\",\"better\",\"told\",\"night\",\"nothing\",\"end\",\"why\",\"didn't\",\"eyes\",\"called\",\"find\",\"look\",\"going\",\"asked\",\"later\",\"point\",\"knew\",\"next\",\"program\",\"city\",\"business\",\"group\",\"give\",\"toward\",\"young\",\"room\",\"days\",\"let\",\"president\",\"side\",\"social\",\"several\",\"given\",\"present\",\"order\",\"national\",\"possible\",\"rather\",\"second\",\"per\",\"face\",\"among\",\"form\",\"important\",\"often\",\"things\",\"looked\",\"early\",\"white\",\"john\",\"case\",\"large\",\"four\",\"need\",\"big\",\"become\",\"within\",\"felt\",\"along\",\"children\",\"saw\",\"best\",\"church\",\"ever\",\"least\",\"power\",\"development\",\"seemed\",\"thing\",\"light\",\"family\",\"interest\",\"want\",\"mind\",\"members\",\"country\",\"area\",\"others\",\"although\",\"turned\",\"done\",\"open\",\"'\",\"god\",\"service\",\"problem\",\"kind\",\"certain\",\"door\",\"different\",\"thus\",\"began\",\"sense\",\"help\",\"means\",\"whole\",\"matter\",\"perhaps\",\"itself\",\"it's\",\"york\",\"times\",\"law\",\"human\",\"line\",\"above\",\"name\",\"example\",\"action\",\"company\",\"hands\",\"local\",\"show\",\"history\",\"whether\",\"five\",\"gave\",\"today\",\"either\",\"feet\",\"act\",\"across\",\"past\",\"taken\",\"quite\",\"anything\",\"having\",\"seen\",\"death\",\"experience\",\"body\",\"week\",\"half\",\"really\",\"field\",\"car\",\"word\",\"words\",\"already\",\"themselves\",\"i'm\",\"information\",\"tell\",\"shall\",\"together\",\"college\",\"period\",\"money\",\"keep\",\"held\",\"sure\",\"probably\",\"seems\",\"free\",\"real\",\"behind\",\"cannot\",\"political\",\"question\",\"air\",\"making\",\"office\",\"brought\",\"miss\",\"whose\",\"special\",\"heard\",\"problems\",\"major\",\"study\",\"moment\",\"federal\",\"ago\",\"became\",\"available\",\"known\",\"street\",\"result\",\"economic\",\"boy\",\"reason\",\"position\",\"change\",\"south\",\"individual\",\"board\",\"job\",\"am\",\"society\",\"areas\",\"west\",\"close\",\"turn\",\"love\",\"community\",\"true\",\"full\",\"court\",\"force\",\"cost\",\"seem\",\"wife\",\"future\",\"age\",\"voice\",\"wanted\",\"department\",\"center\",\"woman\",\"common\",\"control\",\"necessary\",\"policy\",\"following\",\"sometimes\",\"front\",\"six\",\"girl\",\"clear\",\"land\",\"further\",\"music\",\"provide\",\"party\",\"mother\",\"feel\",\"able\",\"university\",\"education\",\"level\",\"child\",\"students\",\"effect\",\"short\",\"military\",\"run\",\"stood\",\"town\",\"total\",\"morning\",\"outside\",\"figure\",\"rate\",\"art\",\"century\",\"class\",\"usually\",\"washington\",\"north\",\"therefore\",\"plan\",\"leave\",\"sound\",\"million\",\"evidence\",\"top\",\"black\",\"strong\",\"hard\",\"various\",\"tax\",\"surface\",\"play\",\"type\",\"value\",\"believe\",\"says\",\"soon\",\"mean\",\"peace\",\"near\",\"modern\",\"lines\",\"table\",\"red\",\"road\",\"book\",\"situation\",\"process\",\"personal\",\"minutes\",\"nor\",\"gone\",\"idea\",\"schools\",\"increase\",\"alone\",\"women\",\"english\",\"america\",\"started\",\"living\",\"longer\",\"cut\",\"dr.\",\"nature\",\"secretary\",\"private\",\"finally\",\"third\",\"section\",\"months\",\"call\",\"greater\",\"needed\",\"fire\",\"that's\",\"expected\",\"ground\",\"values\",\"kept\",\"view\",\"pressure\",\"dark\",\"everything\",\"basis\",\"space\",\"father\",\"east\",\"union\",\"spirit\",\"required\",\"complete\",\"wrote\",\"moved\",\"except\",\"i'll\",\"support\",\"conditions\",\"return\",\"recent\",\"late\",\"attention\",\"particular\",\"hope\",\"live\",\"costs\",\"else\",\"brown\",\"couldn't\",\"stage\",\"taking\",\"nations\",\"forces\",\"beyond\",\"coming\",\"person\",\"hours\",\"read\",\"inside\",\"report\",\"material\",\"dead\",\"lost\",\"miles\",\"data\",\"looking\",\"heart\",\"low\",\"instead\",\"feeling\",\"followed\",\"makes\",\"single\",\"amount\",\"added\",\"pay\",\"research\",\"hundred\",\"basic\",\"industry\",\"cold\",\"move\",\"simply\",\"including\",\"developed\",\"tried\",\"can't\",\"reached\",\"hold\",\"committee\",\"equipment\",\"defense\",\"island\",\"shown\",\"actually\",\"religious\",\"central\",\"son\",\"river\",\"beginning\",\"ten\",\"sort\",\"st.\",\"getting\",\"trying\",\"&\",\"rest\",\"terms\",\"doing\",\"received\",\"u.s.\",\"picture\",\"indeed\",\"medical\",\"care\",\"friends\",\"especially\",\"difficult\",\"subject\",\"fine\",\"administration\",\"higher\",\"wall\",\"simple\",\"building\",\"walked\",\"meeting\",\"foreign\",\"bring\",\"floor\",\"paper\",\"similar\",\"range\",\"passed\",\"natural\",\"property\",\"training\",\"final\",\"cent\",\"international\",\"police\",\"county\",\"growth\",\"market\",\"start\",\"written\",\"wasn't\",\"talk\",\"england\",\"story\",\"hear\",\"suddenly\",\"needs\",\"congress\",\"hall\",\"issue\",\"answer\",\"working\",\"you're\",\"likely\",\"countries\",\"considered\",\"sat\",\"earth\",\"entire\",\"results\",\"purpose\",\"meet\",\"happened\",\"labor\",\"production\",\"hair\",\"cases\",\"difference\",\"stand\",\"william\",\"food\",\"fall\",\"involved\",\"stock\",\"earlier\",\"increased\",\"particularly\",\"whom\",\"hour\",\"knowledge\",\"letter\",\"sent\",\"effort\",\"paid\",\"using\",\"below\",\"club\",\"thinking\",\"yes\",\"christian\",\"deal\",\"blue\",\"points\",\"bill\",\"square\",\"certainly\",\"ready\",\"boys\",\"ideas\",\"trade\",\"industrial\",\"methods\",\"addition\",\"girls\",\"due\",\"method\",\"moral\",\"bad\",\"neither\",\"reading\",\"throughout\",\"showed\",\"directly\",\"weeks\",\"decided\",\"nearly\",\"statement\",\"questions\",\"try\",\"according\",\"color\",\"anyone\",\"kennedy\",\"programs\",\"services\",\"DG.DG\",\"nation\",\"lay\",\"french\",\"physical\",\"remember\",\"size\",\"strength\",\"comes\",\"understand\",\"western\",\"record\",\"southern\",\"member\",\"population\",\"normal\",\"merely\",\"volume\",\"appeared\",\"temperature\",\"district\",\"concerned\",\"direction\",\"trial\",\"aid\",\"summer\",\"trouble\",\"ran\",\"evening\",\"list\",\"friend\",\"sales\",\"maybe\",\"literature\",\"continued\",\"met\",\"influence\",\"led\",\"association\",\"provided\",\"army\",\"generally\",\"former\",\"science\",\"opened\",\"husband\",\"step\",\"student\",\"chance\",\"changes\",\"month\",\"works\",\"series\",\"average\",\"cause\",\"hot\",\"wrong\",\"systems\",\"wouldn't\",\"direct\",\"effective\",\"theory\",\"planning\",\"stopped\",\"soviet\",\"myself\",\"piece\",\"george\",\"lead\",\"ask\",\"clearly\",\"worked\",\"freedom\",\"movement\",\"organization\",\"ways\",\"meaning\",\"fear\",\"press\",\"beautiful\",\"treatment\",\"bed\",\"spring\",\"forms\",\"lot\",\"note\",\"consider\",\"somewhat\",\"efforts\",\"placed\",\"truth\",\"hotel\",\"numbers\",\"degree\",\"carried\",\"herself\",\"groups\",\"respect\",\"apparently\",\"man's\",\"plant\",\"he's\",\"wide\",\"i've\",\"farm\",\"manner\",\"easy\",\"$DGDGDG\",\"reaction\",\"larger\",\"recently\",\"lower\",\"game\",\"immediately\",\"approach\",\"running\",\"couple\",\"performance\",\"de\",\"oh\",\"eye\",\"charge\",\"feed\",\"daily\",\"march\",\"blood\",\"understanding\",\"opportunity\",\"persons\",\"arms\",\"c\",\"additional\",\"described\",\"stop\",\"j.\",\"technical\",\"fiscal\",\"radio\",\"progress\",\"test\",\"decision\",\"steps\",\"image\",\"determined\",\"window\",\"based\",\"served\",\"reported\",\"religion\",\"main\",\"chief\",\"gun\",\"aj\",\"middle\",\"british\",\"character\",\"responsibility\",\"europe\",\"learned\",\"horse\",\"s.\",\"appear\",\"account\",\"writing\",\"length\",\"green\",\"activity\",\"types\",\"serious\",\"ones\",\"nuclear\",\"letters\",\"obtained\",\"lived\",\"audience\",\"forward\",\"specific\",\"returned\",\"slowly\",\"corner\",\"activities\",\"justice\",\"obviously\",\"doubt\",\"design\",\"straight\",\"latter\",\"gives\",\"plane\",\"quality\",\"hit\",\"moving\",\"saying\",\"choice\",\"operation\",\"born\",\"pattern\",\"poor\",\"stay\",\"seven\",\"include\",\"a.\",\"figures\",\"function\",\"shot\",\"staff\",\"parts\",\"plans\",\"sun\",\"cars\",\"whatever\",\"pool\",\"DG:DGDG\",\"faith\",\"extent\",\"corps\",\"heavy\",\"hospital\",\"ball\",\"wish\",\"standard\",\"completely\",\"speak\",\"lack\",\"waiting\",\"visit\",\"firm\",\"ahead\",\"there's\",\"language\",\"income\",\"principle\",\"deep\",\"democratic\",\"effects\",\"indicated\",\"established\",\"products\",\"growing\",\"designed\",\"none\",\"price\",\"distance\",\"expect\",\"importance\",\"analysis\",\"pretty\",\"existence\",\"leaders\",\"serve\",\"attitude\",\"continue\",\"division\",\"stress\",\"cities\",\"elements\",\"easily\",\"negro\"],\"x\":[8.632931152603636,26.019502944823238,25.869795160375446,8.617424120357976,8.77290571372011,21.15209814638356,8.24844130202348,8.666438103618477,7.539671752476275,8.006181553619335,24.8062250287642,23.828720704847296,8.584838859307782,26.077311413257785,26.05054837660451,23.463511588525165,8.776413630760262,8.119082400937673,10.100193882592471,9.0347978517969,24.349670779349545,8.732274723119874,9.103786104727137,24.694629322572695,23.280881817808993,8.03657486711144,24.597581272073825,26.03813508731282,21.227346203385924,24.4425616170548,7.191198000297322,8.879242145507448,8.758792732130306,24.484408762748817,8.310745617670712,23.34458395902397,8.047603129524743,26.140363832550403,8.044107288246138,20.734083883583562,24.483530840131557,10.180643937370506,-38.910374791905504,23.86719286270634,6.898520684764806,21.01398280761144,9.660873754236171,21.50017239881423,22.730314746057005,24.57049064473323,25.99099896477918,24.58714081835964,25.994316480542526,24.620169445682443,26.945326822496668,21.053945593828956,3.9239879713260457,7.110766336730336,7.550930217178946,24.48627876212209,-37.67831321381337,4.379752696945369,17.50891379508534,25.48533377029094,-37.7523752193405,23.182080775778587,24.44933707595989,8.719914691323739,23.450123315301173,26.323771129552092,24.551774323939803,3.8896531398669056,22.50766735709562,20.94111123711835,7.649613832959827,-38.88051931067219,9.556305176513925,-38.95206330741737,20.839364606719204,10.391961282519382,26.06914903950439,-38.809362411644194,-39.68703588270209,21.05658059651644,24.322597923477673,20.513571602386445,12.78388377044027,7.601051631562917,10.130505386786494,23.985250051174308,-38.5614478770355,26.07264891241463,9.775173889297443,24.614337371674363,26.62215495029495,22.518047646298218,6.334890139193773,3.9074023277753924,-4.766274183463194,7.770305433817467,13.517009384236422,20.697372179121874,-38.9855594184018,13.518140048678207,21.095481924106394,-31.39912631724002,-5.930071214722719,24.28096870942651,-37.69138431450496,4.447688667960294,9.270956225829604,10.157054571381485,22.481736715764892,5.108243070405103,24.412620235833895,21.097609941446365,6.764053381588473,8.341706416624467,21.838380118740897,-39.034407428549386,0.41201399746888134,35.30812412482712,4.296384309866399,23.162765221920516,5.992456277134953,-18.24918878242632,5.501449825518704,4.242547791378029,-4.890722338811248,-13.380872758068758,6.687233323590704,-4.680470765344475,9.952299115407236,0.5545701843024585,-15.678105014149974,6.170237150027864,25.355554175396232,-3.878147220642601,-15.601341896980802,-38.74258174176292,-13.854321316413655,24.31318609264183,-17.621403559157628,24.4884188465383,12.545492244761629,1.456594617725034,8.073089895270819,-4.96563257675587,25.08950598344235,12.953508591263365,22.320150318204455,20.9624462895184,-27.566533243114996,5.824247048532047,12.483896500490443,24.396220555754663,-3.1871390084319975,-26.130649615523957,-9.145276386443031,-3.3395149881666297,-37.95019428814576,20.043981090785643,20.771079003426216,-24.814052382322654,-4.075456852935687,-39.70579473837347,-4.737900319397129,23.046352540440186,-39.71189026763423,-23.878950099466433,24.348616087324114,10.800135503990822,-35.547312428883565,24.377839997623035,4.160888572924072,-4.677197960462782,24.509433494452576,6.654296153067132,24.966796988557306,-34.036087141388165,16.62171622415713,36.84016830517113,16.61500593231339,19.943850885267615,-5.113582974071026,-15.414333965119916,24.402978220726233,25.834744650162605,-31.653032237402016,9.980487796253982,0.037321888758749304,8.054610716307101,20.090073351697924,20.78139583659386,21.380349833093806,-4.6746531549300006,24.076242076406263,-26.88040100612816,-15.726414853921167,-5.243628972436684,13.417613439159709,24.445924887760533,24.434151905642725,23.390213157377357,-17.086068207555545,9.551547102294732,5.906136864729398,-19.934368226594557,-3.536525880210838,3.8858085194417584,-4.924299470321382,-36.13352310010246,16.262407396044818,20.97530481793403,20.181852617246186,4.183178574431792,16.389287114324535,6.012204998972914,-18.45067638893041,-23.813920166197725,0.664730479694074,4.795557596398386,17.037705521386304,13.554036020042654,23.381709065383816,22.15037281277002,23.07949587810221,19.86325918402784,15.726026229274325,20.20204202634159,-4.972955655386859,-3.1178824772905656,20.08427904959533,17.246047925358674,-37.81325650612074,-30.060500323722795,16.51474335824435,13.067654879644435,-21.683391807996752,23.34495509886905,-20.701692749972224,-16.973508618413597,-4.737657412953422,32.771441063644694,26.87466442699037,24.04048519251204,-37.466939786855185,20.0522988495105,32.82207708701963,22.19694457722542,-16.79202106899153,-39.70790711429082,14.546238105337014,-21.85190314455768,-6.761343276582731,-17.504613286897893,-24.558220739982367,3.8244276985176846,12.389891461309773,-36.8791171291192,15.695523353924147,-39.048297771859914,-18.217581568608985,-9.483689591999457,-1.659707920676673,3.52713903215571,19.7124437392167,11.188707335665187,14.577533018674135,36.3153447254784,-14.974628706606511,-34.03699594541841,-39.70410617851634,19.886071485989834,6.0832608307878395,-19.646836734249938,-35.80279892231679,16.351273361956693,24.06077635067606,0.31848078675973446,16.602417248795884,4.835203395225869,-1.248826083966255,24.42637850023178,-36.92701387304245,-19.40659399722132,-21.425877730586617,4.425904432324189,3.5047808808731484,15.661756638585455,-1.942939819697911,-19.908291286125174,19.7022931450598,-13.417813272716126,-0.4203000150910291,-1.8152336367134767,-23.646442047522815,22.28825857254152,6.475496313068485,19.697403590387125,12.083013226403917,24.371846444927613,26.242777163005094,25.72375698621365,-21.02668336697859,-16.769899756043404,-15.740059162801131,-23.38336193847113,23.214123266341993,-23.4548510038827,-18.350825301049746,18.55311414699183,-18.520874449416635,-8.659587114635778,-16.981716813246262,1.9740376818503194,-16.47846125434174,-14.294504044566615,-14.229341943144147,21.8989011770549,22.468343135513962,-37.384692614491556,-17.255832947106203,-16.0363840230233,-29.94089229652508,-34.6439773951861,25.705225710852943,-14.926120432386911,-16.643796361578623,2.384140560795211,15.924051934221904,-18.58899271594842,-6.267533583584875,-12.813233489033381,23.01576537861005,-39.69544952348164,16.968031968905784,-13.475677911602638,-35.576040600819674,-37.704871815332076,-17.597706207171075,24.069048814329264,-37.764436936002916,7.137464056619678,4.302940541559716,23.21832310321503,25.365981005467155,12.205133566882798,2.3996652211745464,-18.421489026365045,16.47586299093293,12.566543432093274,-39.31543342137478,23.1554545060272,-21.371920758400442,23.721761589552553,-15.922451510039476,-21.569350604914778,25.220689045552817,21.72909437592918,22.11163679691781,-21.68621682469088,-4.883378387132084,20.968141961088218,25.454886834212026,-0.03525979562218247,10.660956943439677,-34.14439432208158,-4.000128431063652,15.734629028075283,18.232921832250643,5.867180632133599,4.909023929988594,-18.19129361679078,-15.943357366728327,24.198015594149155,20.897044593773664,-16.570679114777185,-16.674648864084947,-1.2752087937070393,-4.849432624513135,23.939865867769416,19.9858977048094,30.20556291310164,1.2993050291699693,-19.945753740777302,16.45363948066577,-19.96275895439003,-33.459504420817595,-22.57181737802673,10.413107159644522,-18.95182788978579,-37.78815545711947,-19.64692899868192,-23.903429147391897,12.176417593873007,22.23679609231841,-21.44317345256437,-17.086635152322913,26.6987555670722,-16.15033387389613,-18.16363474424431,-22.119049425450942,22.067975963516872,-16.603557289428394,18.483048348331117,-18.985731917148854,22.121467652202366,-12.460404598380519,-23.416034295144506,22.096441680380252,25.276492609077845,-3.5457747331141896,-9.541993689468972,-17.281127669381217,-14.268721975657863,1.371347528109337,24.419857216028955,-31.01000253193849,-32.47602317544586,-6.363702933162744,25.71927712643073,-19.131006579816088,-15.709772850425642,15.934700908811221,18.791693926980013,-19.47545945200388,23.187243125100515,26.565882380687732,-15.012994118983318,-17.901608503091975,-24.489382177484682,-17.89654526421066,-0.9820069728543392,6.011660883158581,23.666999329745018,-39.693547333969136,26.62347303183262,4.872285120758765,-24.98621757160041,-21.054979189215675,-11.63056662598486,-21.001480596048143,16.575376022934584,25.660730502191285,-4.80114995939426,17.623347916397805,21.2721742171625,-21.303451718182675,-32.75707626009913,3.368232053348734,0.02797909413465234,-21.481346480928124,6.158304412171901,-19.145073040004288,-3.305820599140216,19.807962412001544,24.205951981686162,-31.956079725584544,13.52191674537403,24.382585957698293,-0.39913928283477307,-32.70699483863645,-12.020328238874724,10.95984499982912,-15.010554534347252,20.328225628065194,21.782006217793075,22.110686621982353,0.09394013085796118,-18.124333754524283,-4.209538504890601,-21.951725008601212,-37.3810407090292,-21.225186873305244,3.8342940792254803,14.671805431381708,0.6306684330388459,19.108529223257115,-38.84222138093609,-32.167896426413826,-29.653401441683066,-4.033717684438616,-14.741843791250743,-20.097257869987285,-5.861366570909499,34.78456697676027,26.847081200111003,-5.427988491920945,-18.762969191803283,22.75561379233655,-12.05450872401704,-30.19191095779015,3.524710805440987,14.631220321778343,21.964575287480105,-10.291146729300872,-16.903548518728712,-18.25094134257157,-15.622882095607801,-37.53706760012613,17.81101703747669,21.275516959031215,-15.88834716812416,-6.835830635446865,-30.865744575193705,17.536983993970793,0.6095656337605417,-12.007708565577786,21.381235184722637,20.243897713700644,2.1401250909543426,-3.6863487285638215,4.089089570437045,37.29961424698665,-18.156424882191928,25.063999962785108,-20.271485649409865,24.533855057485553,12.246555654751765,2.7059678387000434,-37.45997862996061,-4.615965668112272,-27.708684000587184,-24.27859428442861,20.978600054707627,21.782976079186753,7.463439094384176,20.89623341715809,-18.560398278761905,18.651501107104497,-16.796411392894584,-28.8105282124528,15.290447904675615,23.4530073653093,-18.892520834610593,-24.784961677111703,25.732030004529616,22.193966517815493,-4.834105732824636,-13.639994284959636,-24.64864868814058,-25.6111612622509,17.191786175461747,19.181538513994777,15.918039118442332,20.126456581766885,-20.093111414046763,-20.049418452089807,-1.1882709173502977,-1.0632430053257105,11.329280991047074,-19.551208576944983,-16.519462640319055,-3.8054527047122324,-4.7641905811651934,-32.18443433870295,23.052382188807943,14.559517973849728,19.823425051981673,-1.0578036166259093,21.560124517020196,-12.52380119043389,-30.95825517173919,-21.54778634356035,21.04016181452822,3.40952332653988,-37.432472833978345,-3.01175914429027,24.24902782536064,-4.914872687654516,-21.622032625122866,17.08037766343989,12.32192671536855,-37.79433199808813,-23.15838055939202,20.87875979352526,0.7583053902057698,-31.611522865152175,-36.18355713329942,-18.204247125026512,16.64834078383543,-14.498390183920748,1.9504207947070147,-27.3915618421685,-36.42427216013718,-33.70011903308991,-21.391519948880266,-38.72465379210721,-16.835811322392427,-26.49161395186317,9.739952677450116,-2.943945793192148,22.233300523118775,-23.935285405721704,8.665913214788942,18.090537045583392,19.9708811215629,16.865495378458814,-4.279287839176002,18.148375640575242,-24.426343501383105,-19.432929300899843,12.396078851821118,8.107652823818938,6.788137119497624,-16.72842761238299,22.915411991615873,25.805388553808257,21.79927177831361,18.47814076932091,-39.649077497693014,-15.271369044278172,22.1230146866619,21.320019634638495,18.326198870656167,34.35728539266764,2.4612811066861444,-17.834527272035714,16.655554105882366,19.966325622146286,-4.5159017974029165,-15.617303907902514,-6.011264292604636,-20.23764534558495,-5.00703235293026,0.37535139547136875,2.2589566104716736,-2.770660253120422,-17.28528583439283,5.76653096342068,-18.624941109769416,-32.33787522571299,21.130355530615528,0.8828576629574556,24.157401383786787,18.77091733152651,14.680770617311644,-18.276488997897392,-5.308989247285755,21.13626610480118,3.7394665362586017,-23.45748880212814,-30.308715526628852,18.634736286110797,-15.37139338747135,-29.17994957028018,-21.940082644940173,12.465391520819848,-36.34988073059879,-17.56515623585997,34.10028883831314,23.7836751101556,-29.24525676783936,-26.775060683813138,-4.337986184153572,7.391885020409147,21.69287457157128,-4.650008263552312,20.660499675571046,-10.308905205721596,-4.820484505879567,29.19163717921482,-19.049964486575792,18.254975601058387,24.0943051925855,-17.68364165631588,-5.2674731041553,-3.467575784101206,22.005115098036274,-2.605934647828797,-19.289311612365715,10.505602063467698,19.791212057556983,20.627773539812768,1.9863907677216743,-22.131687595687985,-18.359793644098723,-9.008861464980113,14.05669165638051,-21.714224820923697,-28.15156379052593,14.429701494081971,-21.127248727569008,-15.399607393813397,-4.0108945638006315,36.92153737101283,-24.045267296178285,11.853284367471394,-17.285390664930524,-26.89514929627304,-0.8947570766378283,-30.697791373662405,2.2306591609000916,14.572953737965726,-39.31039862630487,-18.88769721674513,-5.036736936851763,19.854422189582532,-6.7629264946758765,-33.1491090095833,-25.10667564698414,-34.708553195699174,17.232050411214964,16.454858932263335,21.742512763808417,-16.24948077549293,-11.106598454229697,14.912131606415324,-30.14761607404105,27.504235781415066,-39.40870395058017,6.791744397521747,19.305485741139247,0.4985164263916151,-18.313194446115116,-19.570718307408754,-21.240321838143444,-23.26326607370449,-21.435135279080942,0.5718383240239348,-30.856157427783646,-23.024810755845632,-16.09807353881119,5.381727950922465,17.8097985491871,-10.575779414144327,16.882169708083506,-19.523014546393462,-12.053912616872902,-37.422599119798015,18.463477998549774,-36.585242648052244,-10.874732182360049,-19.839005133134204,19.83185296815001,1.0638859144596005,-12.33769417853059,23.26890368590574,32.48861309703813,-21.805371506245272,-21.53430338800744,-36.87641216710459,-11.834293410641639,18.954075999741555,-4.838968260647425,-19.513490386793436,-5.314976907037623,-29.97253954488988,-31.959051664189154,22.082698264906607,-5.494161271099746,-3.861109959745105,-9.241216740897212,21.409176053107366,-2.5093409634057298,-32.71057188518635,-25.1235164143879,-21.230030857179436,-32.79055900717606,15.803714817474654,-29.562027258984664,23.81507045679053,11.405050629681899,-18.89133735096388,24.302361036895686,-20.14540309559966,11.95486647000398,21.372237079303158,18.896241524120118,13.479352158648986,-21.640896022629093,25.78164434270803,-28.50080433976069,21.225846134365163,-12.794902066561564,7.473621595002796,14.354558164757533,-18.255743432169847,19.793213995683473,17.330463688490465,-23.532322107509046,-4.275364813311483,5.734318816579899,26.026650942792003,-14.463031170052544,16.521364536992017,25.702361657294134,-17.097370622877396,-0.4136968689290158,3.5144379569440676,-22.085875981432388,12.47239766126968,-11.060926389546324,-1.273694270439464,-34.136759325060986,-10.26549062775341,9.662620941145187,20.093694796865687,-23.83079836859433,20.028882504059897,-22.664236732831828,-22.926699301524433,-16.897374381331684,-21.58002860044722,18.564622986944208,-4.806098821848469,22.197736803295367,3.8369115655040527,36.51447176059,-2.1837165808245484,-4.86120347507649,-2.056650033277695,14.703256857183307,-18.67288299236509,-16.93647094498245,-17.464509278801703,-21.080380319506048,-18.428609712750216,-9.671039555357826,15.5661038969322,17.31627005209762,-22.57022305025977,17.578975550104378,11.931654292000173,-20.706331451586763,21.333805628270603,-15.02745966627472,-7.980229901351962,3.688375156771383,-19.14444952148594,6.6106786531586605,-6.962762554889581,24.357674019654752,-26.898062194391375,-20.43729783242904,15.54598431868138,22.81542141601175,-20.730547064520792,-12.048945451898641,6.792543913337366,10.228772704352412,-24.958488022393098,22.242308603208087,-24.397771471167157,24.40339778884917,-28.51308395342909,-14.954183578946056,-2.638993379558643,-36.29036978800383,-21.867960260153264,-34.031376253261136,31.174237399002887,-32.23865851790753,16.44527406910653,-12.046152302855647,-16.778959793531058,19.91147861928124,-39.727716630809596,-19.874651845557846,35.62441879218996,21.71652648660374,15.843500875940673,-33.45488600966687,-38.57431124114781,-37.98473684784892,10.303172268217303,17.554923568780026,-18.275696566251465,-6.698892227316623,-23.16680801263008,16.169253427008805,-32.18579847353445,-36.16192985309856,8.169170459877016,-4.357346238643365,36.90349694325958,-21.060030581731663,-22.065432384648453,-28.96140705198705,-17.225427741674846,-27.50121147813121,-17.29365872279353,-17.267912084132146,-30.27841712173466,2.124447814904232,21.003066658604627,-22.028095650561742,11.187263889237897,8.399095444584134,-14.667798749341033,22.700179764577502,25.923839003881486,16.665774281908824,-35.87638205862761,20.488988137605247,-4.538032221200975,-18.306205640267372,-17.41765908062273,20.844669654004456,13.328107576901589,23.55921888427634,37.19541602352188,-6.481644744045993,-8.977675399521022,-10.788768289547905,-30.185180917968804,15.088026208664635,-19.439719118971038,-21.31885902553746,-9.57439515383682,-21.32860269917137,-29.23086497610646,-1.2869216298077546,-27.090818671649625,14.657287239608324,16.148842502192178,24.218272242747254,-23.06898100847646,15.343509245717124,23.777479082134978,21.609558557992646,-21.82578999711477,-18.7111656861738,0.14705534667725084,-3.976585822224716,-23.389241174964926,25.43557727701806,-21.50143473557303,-8.13980263177301,-29.870317407094845,-19.73439831438883,21.612365097260113,20.48730030193235,16.280162190208063,-15.370979542401074,-24.048943434163164,14.736396833511765,3.1284469926467664,25.316654634643847,-3.7374314056801845,-39.678131889193914,-25.30162520031369,37.00389337031921,-23.196384146738332,-30.290362226641594,17.377237877905895,-20.421501472817255,-21.222048380325788,-27.70310095855463,18.679924600169695,2.0580673154062605,-16.064040868402508,19.306943662424143,13.630207972002934,-2.825296016098443,-20.625047762138088,-20.090492298563344,15.580543568544474,23.517374191658956,16.393342415505153,-5.254015200117539,-24.995149731433283,-0.4012574688503556,-5.893114975540217,-18.675578472896213,20.851042666846702,24.49975069217052,-21.89309428741185,24.532632648793122,21.036824561696154,-12.347829078566898,-32.252531286462904,-16.903905361650306,-36.008282526776995,16.760369676732953,-21.654802095891043,8.225748362310842,8.845308410709347,-27.51299449040468,-24.109137205690846,-24.149253996670627,23.939022502041478,-32.49631292948341,-30.21824426994698,-6.4796739431825605,-20.136723944309736,-22.51673202660972,4.3009985310406735,-17.72748245539052,-15.199634204597857,-9.97133801211394,-15.8471441942662,-9.015103925890202,-21.35339490866079,-19.854716756714538,-22.183653648501004,-21.251558573953076,-1.5983583398892054,-0.20539042472275426],\"y\":[31.277102054143143,-22.576766441358505,-22.46773168827438,31.378174420779416,31.470061919185497,-23.347537652846786,30.904560044329187,31.301590054570706,31.029257591779427,31.123270766611974,-23.23761916737628,-22.208271873751926,31.35222487337334,-22.292209694415078,-22.380280072545087,-22.275618862540114,31.454572131786353,31.233981792696003,32.86406204098836,31.309672652986013,-23.86990896078352,31.499983054921152,31.253850688213127,-23.811896537411613,-21.872221616723078,31.05103664479607,-23.171195513387094,-22.332297714288412,-23.359841845865958,-24.224285567953697,31.081885273517443,31.441471753877334,31.51475159131881,-23.699869903165773,31.078252520132697,-22.37519726032856,31.46436983084253,-22.587006630370798,30.528034019751697,-21.07534873961703,-24.17287311360424,32.90760313523839,-6.294424486029746,-22.149807380614988,30.974142839607094,-23.411034939493785,32.57885109071995,-23.017583342061435,-22.250270463959804,-23.644296467613987,-27.04176001667733,-23.699641665393404,-27.03966947263238,-22.207614153109095,2.5808120714003744,-23.60349502836106,30.258281816268344,30.86283270265921,30.716665658752067,6.095153239038275,2.2292365614613265,31.516834657166008,-10.995520858345666,-27.249558812065374,2.1325412048705314,-20.56589296184517,6.1557568703034615,31.601781954511754,-20.576458385064733,-22.145522497499208,5.909951331461257,30.185267577052162,-22.298612204411498,-23.5355236471187,30.77901941203746,-6.311769803530974,-3.1813681832512657,-6.267603627726819,-23.337650331843296,27.53912791908917,-22.293025041733536,-6.27684891248986,-3.414621064776056,-23.630683322131357,-22.17428820968084,-21.536544477215614,26.029998039663194,30.655458878085533,32.940423407096574,-22.29743803321218,-6.382143207598833,-22.633123290407454,32.93038150491861,6.1875159425276225,2.021009557914682,-22.101463725476513,31.060132468700278,30.573962115913755,30.11579989392191,31.721585367201154,26.639626062346604,-23.09567297203456,-6.177210506895437,26.66262167156624,-23.568998545285776,17.406791108791897,-34.63911083468515,6.0477866578936945,-1.9276655397078446,29.434914483868265,30.509523396567076,32.9913695051967,-22.16084592220791,29.26457764365885,6.210394372781069,-23.598011196634623,30.754876835248737,30.011347850266386,-20.851369126557294,-6.355849850532496,12.331629812088819,5.214589256171748,31.548903001118074,-20.629993272964054,28.899993144479396,16.683762464115983,28.904255668564986,31.492925461974227,29.80412510186702,9.455641744398084,30.882923834896058,25.942351242901843,32.913097553821586,12.221925344501804,7.908729727327136,33.50033782625479,10.382787065533735,27.49570557607511,3.3272282970785896,-6.522623944390285,9.613824537570123,-24.026111126811696,15.221361888145807,-20.149802774840126,22.768498183310086,30.13727883198139,30.397265678109477,25.232754759938047,8.27992337167921,25.38564938140826,-22.31019861114762,-23.494614058252754,7.426940495277588,28.150138061341067,22.939890249242527,6.211123299295382,27.822123651252937,-0.3387833909741938,-32.024650419503004,27.723498962073915,2.0153476836818554,-2.646814116415186,-20.20724484063869,5.042613612230541,27.58593146469034,-3.1808763556068698,18.146141703751148,-22.299602345715368,-2.982695005829646,5.497555218126606,10.892951257300194,26.36430677392966,-8.502512491248014,-21.990970655022927,25.316836313653724,17.006035989768726,6.389025780116613,31.64589475478759,10.794781144392047,-5.50791364624357,-11.199573933904002,2.591059391292597,-11.294360484118434,-2.509022306148997,25.34407583033525,6.252545424059283,-21.95418816214338,19.236552738836906,2.383751297048022,31.029871963608464,14.556585745026492,30.19510746296401,-20.734839179266718,-23.305839454457388,-1.928874930196442,18.10344930576958,7.9600618394610025,-0.3273676303469694,7.7975307184669065,16.593462144110664,25.602924302906032,-20.234627828358764,6.067567671787911,-20.218275713762917,7.1362031118222236,12.354106375458583,31.215761479313535,15.013182360313424,27.702032042310005,30.15361624258917,25.314785427643116,-1.2883482020311385,6.738368249454257,-21.28669932155141,-3.5181477145657727,29.206570021870895,6.953591013974533,31.18225552702254,16.038490102582305,4.822368571931067,27.748717760701005,29.260205297787053,-11.294325806088532,21.595442485705792,-19.88464305454892,8.911763282055558,-20.284624708460882,-20.921445450146802,8.292845040311608,-3.9395561664975705,26.61425600699351,27.882554525425217,-20.50814222546554,-11.127914364090756,-2.301262027932503,15.879192309017839,-11.494557409949921,25.31732926541381,14.57353153073742,18.47783036988078,14.318871824640755,10.140024468129042,27.537732940619975,-17.25150101561776,2.4680971037718127,9.943406851990739,-2.096513744368184,-21.13041685645048,5.808092938765493,8.934937372900068,11.334128434558966,-3.4137619951476776,29.596355427152847,9.283542116776871,-6.926160071925273,12.668089682497415,10.523566088780324,30.18760919946839,26.27998413795727,2.3939026554096716,8.321281958050903,-6.898088976487159,6.849088362383436,-17.79980592874468,-24.765742363968975,-8.941010010002463,-2.52711738299521,24.814231025247256,11.327019444306043,1.7767698827531428,6.903399409728387,-5.51532797106255,-2.993894469712196,-21.66151475160502,28.76728942232762,-27.48912387039663,-1.463422052094949,-10.926512666410185,6.658163604882835,12.480644724303335,-10.73933442779623,29.238168314209126,14.745695611672486,-19.925786622891234,-0.935972954792955,4.303012531617449,13.518505010555815,31.570059701035518,-8.838855123427045,11.014310501684417,13.65427733224194,5.5780607556545245,-21.1043985428535,8.95338139055112,13.089161661078442,13.800271596001854,-8.124765668014886,-22.412837744794928,31.72277319363465,-2.4657281413326952,-16.282533216059257,7.4414690677119415,-21.58167228740261,-14.703061442648357,15.120401569991266,6.368873516287781,8.47279823473433,8.79884382282808,7.821712624444438,8.667742082841455,7.140950540318681,-22.960124857150113,5.567119078835723,28.12531178959522,6.985113460995861,31.605878864581275,7.2831297713607634,8.614496978831367,8.762081687875833,-17.02387217628862,18.165891155128087,-2.0728663821744893,15.932790265338513,10.508023766154654,15.885370634028455,-2.0076422485278203,0.41071303538558146,6.7091491831168675,7.348121119323557,21.155218148891855,6.9812517229977935,16.730858833523182,29.085459808130896,9.836070128953628,-20.719766536842506,-2.778965724850741,-11.557587365787994,9.433335575159642,-8.476829852012914,-0.3215672315493568,15.149554573358817,6.868122542787072,-2.0620225555865255,-21.697888892397717,31.547409356033555,-19.67551208875464,-19.578123529344282,-16.219072084103626,12.444167191269253,5.680825351034383,7.237080573780158,22.665569046603988,0.764422383499359,-19.945833364916737,13.790376058246874,6.3260436931614015,7.402653519198103,-5.183449476296207,-19.912697597631382,-22.732129056142178,-17.092331350960222,5.602441686164443,25.562290552380208,-23.53853367494025,6.5100685636711,14.462961007874744,26.483266491016014,8.172602186310401,27.426728604172244,-9.661215593851614,-16.7388472202712,31.093848321984833,31.432356381973683,16.056092176508976,9.15863562829089,7.009584409146013,-23.50621030446256,11.504077173243903,6.265723007879271,17.18500525907466,30.06594387113925,18.083002473781423,-3.868201212209275,-1.6963352671246894,28.61832548384544,14.281726235492401,-11.114129050371785,-0.1218149608758803,-7.351691693617078,5.571271112681116,27.5530997180698,16.87583023010722,-1.9564343212455704,-27.48925884799501,5.529052134492761,-16.432518789545576,11.198810816585365,4.5748618918912065,11.902308331534952,1.8880048142622714,6.8943128231642135,3.521658253573516,4.082430398069913,13.665549284170822,10.082832661444131,23.389422726333066,-1.9271922917589301,-17.23180978788798,9.314118032511788,-8.024706900846594,13.609250109149382,7.2183182514529,27.86532059290901,-4.597369068205629,11.699612496913259,8.74662609494213,29.867898661118623,20.279874994139014,-9.963652155804658,6.9949772629576445,29.162671272226895,0.42055327023689487,10.54200173064504,0.803939931319636,8.152544562974507,-21.04906212368152,15.313865351304816,18.76740319472469,1.9982556414416688,9.573581504210562,15.065716196551074,10.596241936956053,13.222683483620342,33.353373661933375,33.06894805303122,7.558653593508205,-2.709586529302872,1.9749467019526734,30.914439612878038,16.513300463401503,10.75358669071644,11.014822517277354,16.375301453585557,23.305722076591046,0.31047215917501303,25.625106199511382,-22.167387009260487,18.29669122858118,14.706612947756803,5.01156953179213,-8.195122300955738,13.845785642034206,3.8061988136305245,33.52116114379018,13.854131174358049,27.848841820161272,-2.3697623149159828,11.295204824246412,8.041693945565438,21.591910535107314,7.674442570041973,30.83512686821449,5.171754849638847,11.265868329064498,25.10187840631682,7.936445318100089,-27.000900841682295,17.4239400343616,13.655510476722002,-23.676042186924683,15.283359689656717,26.865671250335375,13.04611847196511,0.7720749318396167,5.376915121709719,24.540248613427952,10.90318260632897,30.144933553215143,-19.80665445048485,-6.211126317473729,9.383270693032332,-0.0076134539465207915,27.18907526187344,7.1219800496311,4.036409383927589,25.171964442223207,4.079703646987491,-17.976300176592968,24.875863611467338,12.009757666089957,11.174711175882647,11.370209656941304,15.261833045221891,24.839778326409117,11.254831287556751,10.866207077063976,9.678769292305363,6.176520529477486,9.12497968506526,11.582833291613332,-1.9693101256637315,-26.918841234379762,-1.6458406429665982,7.309727265705155,16.86480600116944,7.366366345402813,-19.106434341985516,12.114172657058473,11.527029503345176,15.245535315667583,-2.6834945667984376,29.177091665042703,22.21943431510969,23.923206042895558,2.193410648600888,5.506732902204824,19.671921866329928,14.829985903707499,-21.965861879158975,26.156249674420813,19.341707894210092,-2.10262885515486,26.27981308722005,7.1599577379222445,10.583938710570601,7.144227187823162,-16.756805442698315,27.43614818143252,7.406942385872675,3.5241691748674806,-5.205360956654169,6.35624853134723,1.762323356206148,10.868312108331624,-19.428140386576892,4.978893036648329,15.577824679231329,0.33491767828344743,13.568813626648986,18.075701762565334,9.164834587219026,10.841075736593188,12.276687075255163,-11.961105262793104,-1.6029795768976631,17.331840780401556,-20.281586621387813,15.666804086015944,1.1583880406688667,22.339473099669505,33.37853745719109,24.629430619325063,5.26685530671953,10.412420159310951,21.818126564076238,26.72796726770792,7.2655755116828455,-19.392037000912442,10.882948465473897,-20.80541236644269,11.403384300074237,-1.4645942487339834,14.026238231173343,-9.97586367321691,0.7755307562451115,-0.8950403571952166,-8.621090946960729,-2.048256365861669,25.26447745298569,7.697097759715458,15.131987843498854,5.52854892422387,-15.444628070302437,-16.487850518299137,-0.37894252244895954,5.476134417880902,-1.071566021380527,6.563536352962604,2.323554461786751,-4.104071996865349,6.08614520868787,-9.925991538335277,7.305706030760833,31.48449591601832,-0.12145456845527139,7.771588174736855,8.357724577571512,13.8325253290045,-1.5212595824630084,10.890194380470557,10.486014898937675,12.909254092583685,28.140528840416334,-19.431796962483446,23.00730222059435,-22.29333021959076,-21.318907036666218,-20.5746853764801,-5.822307465702569,27.76085423169762,23.48309369585318,2.39955623120439,14.134056114381126,-33.06768827035977,-21.524896707693056,-4.676837145831024,11.48885209622632,18.338521959238594,0.3630188376565468,11.429675107085936,-22.800482730598652,-2.148182597472015,7.063637083788038,19.706017639255542,-1.2948341398889502,-22.208004655551214,8.3602190831095,12.770039751197725,5.083716598215676,-16.217430070456086,-4.909029864281443,18.004690228257424,7.487514048781636,29.913331489797468,14.158035663686004,24.832540448400454,12.36384804851528,29.164330171464446,-20.61173356021626,7.427464285767711,28.171376567495365,15.998292451242804,6.239612996096835,8.792032448859851,30.151017783609948,10.349441046234363,-0.5542743878865186,22.088447461238342,13.330753479590781,27.543567265111964,8.544429399373513,24.26803870376576,8.578093967607868,1.1941705670452258,-2.6932960367060255,9.823432836015316,10.982049115733554,14.59041051156523,26.377327355530596,2.0718436239369624,12.712933799547544,-6.370910716668011,18.854582507724114,7.862993116691238,10.127147232662061,28.347979194919866,-22.03506847038355,-17.15499303385186,25.75282363695491,15.137283740278207,9.567387500272964,25.44979225842045,-13.707659686800355,10.359538059274042,23.549413130161785,11.31215845095273,20.33526624747886,25.06184681387797,15.816240010351372,-16.885719141477495,-20.704585646004645,-10.372443586354553,-19.54564251027909,-2.2803964486091584,7.356412994011475,31.62414291242264,4.829014043077298,5.5901606867221805,26.204987267709537,-14.576006106523588,12.108292072196088,9.945794386249593,9.684667610954694,-6.4945803400594855,3.1932922728132866,27.945414968906974,1.817106522422464,11.814713105681257,22.661366929181433,10.222061548117688,9.99565434537627,33.313723202897236,7.350298902416961,29.199804267300664,-12.836374489468346,0.7249021871844183,5.104489812680004,14.996297720094292,-4.708963565645804,-6.848664793466233,0.18998388782379727,5.049914823859284,-1.942589068908018,20.54085485486567,-16.202403643226454,-15.667450266563227,11.140905087480885,-3.828107678474927,10.882233006661467,15.463892904718486,20.810662344147048,0.9556357985077949,-4.664825297656751,-20.795063429868314,12.171361845050725,3.071304629171448,12.766509665431284,13.50949467567758,3.078895935830657,-0.011227588616162573,12.236131058632434,7.998480003625697,3.1945060045135745,11.22957446157128,28.9566470600604,-26.90692375900331,11.129580827171244,-30.067689529664353,6.8010583130883555,-31.9422675898333,-2.1056362107287905,-21.249447992969085,-1.0561613318057559,13.918781461066725,-1.3279219038533223,-20.902800792904078,27.69440778050497,-2.6872203370117362,-19.528210412750436,5.562586381923155,14.384593386627547,14.90921717750185,2.260102948877622,8.348857021554846,-1.1273667199578374,17.11510764055824,9.302810775066417,24.81101254691663,1.3673531804209738,3.571718155194221,-0.10220949646970677,25.424285483732618,16.152742666263745,9.208904472198379,15.036002577670738,14.81853881843297,4.986073949756833,6.007449562385094,7.510998668606428,5.651731180486149,-10.05937271006083,2.386800314451218,18.77431706913628,-20.422216627952945,4.18572651578636,23.890462365269496,15.42833462010989,22.519244325109405,-19.101725706286018,-0.22961296566773076,21.5285619032228,-0.8176589355411654,0.48740423054872023,10.233323176846904,-16.04095797912097,11.06295746153893,27.476975003076177,-13.412279755165692,5.803543415955885,-4.479298219493952,20.550586373444855,13.157378496303796,17.749164745157046,31.3553646217961,18.775283951777137,10.744889277915927,-10.383284444171935,0.3859567582656565,-23.43741716418745,14.405100649161804,-8.88981676879311,3.9536342812482057,22.879182476726776,10.794280309186338,12.123913921103616,4.7393565700775335,20.57286141145365,12.764158363378895,-16.167189374025043,4.772999458657153,-20.765413379503713,8.165983881376716,8.112036461624175,5.43425873930888,13.797290931226554,-5.175680747797614,17.356104684524787,-21.723642366269342,23.94739917033082,1.7127685169274092,27.113086068559713,25.361554969866184,-24.725489853654754,-10.97632659462997,11.760162831121194,-22.541044307869278,11.541233516428944,-6.069160724454686,5.169416566390792,-4.670260646312605,22.312847543027075,11.645266331503834,5.551158702083806,5.212953379110014,22.425675409124448,-1.2088903025619928,-19.245870543277498,6.939101267102261,25.841291896814358,28.671312183332976,2.1104352403463023,-21.35784229728105,-10.374628807812382,11.075375247508493,-0.3033407174056087,4.006547240111813,-1.8123296474823802,-22.220511964290854,-2.891470643817402,19.027129264995718,-4.641883803628499,32.97292578351923,1.9278505626791824,-17.02869299389891,18.13720706107875,-18.167958780448643,10.186290568975071,6.534468605565778,-20.610054373185854,5.547806832854338,4.47294997305593,-5.516598802181712,8.631198943642971,6.117131860571476,17.837644927563026,-31.952228470865744,6.242316840765321,-0.2207987954425878,-2.4577299382474123,5.642655859993213,3.0249598822624892,-15.51674292874608,6.450919778613372,6.8352249251786,3.7532040488241987,3.288824014631601,20.707168320947638,8.089371276572816,4.8664424397079165,-6.842902092686411,-6.7750546964471825,7.015452520051508,17.217190104532325,7.70187631773482,-21.436298248502137,26.709406226103923,2.0369694499505386,10.608193324800604,21.037231735264992,3.51281237306738,-22.268565649143063,13.871187604362227,8.737919126525007,-23.53899510221945,17.55259912302065,-20.067462694580055,8.347207864440463,-16.789571083704775,-16.54541253188756,-21.63579583625312,10.63215619195287,9.990103766947282,18.937109512616914,6.556306832329547,1.848173173761211,13.756092644971813,17.43359192038215,5.909521437038042,11.56864416408199,14.70077594485145,-14.490363318001444,6.072057047281696,2.8577984745415574,29.091200004345165,9.209681824976455,11.047814326033556,1.271452420470068,10.928430774972373,6.776039843192254,-5.47951591434194,-18.182026075648604,-6.598712612064901,-8.836656156264658,12.127041142418038,4.825902995357252,-10.910361381360138,19.13981684601943,5.420665496942665,8.790628980996196,-11.088753775559693,4.291145549099795,8.717460254550792,14.052906127119188,12.057836488409185,-23.807548226905734,22.41470383751116,10.87380507963407,6.537095460803177,7.39978848406613,29.816960831722113,15.976794531826169,5.397360709707674,-2.2944600656252745,-0.8032266015932257,-16.00992148452078,3.756668629986343,14.937389304813735,-11.226591470109112,23.31017840872457,1.3678745217175083,27.37264720820465,-2.72619689473471,-4.748327282110979,2.041910056610463,-5.439553074088477,18.199717077479608,-1.1774349383453353,14.074686352675668,-5.544876372763245,9.854874763198742,5.9931933788217355,11.308369487344276,9.28312720297925,10.488224940127276,20.90066269838524,5.03330156966785,3.5800196868066467,13.384235981061625,11.32350164155129,18.649346404496452,17.622401992614403,23.221935733248902,4.762724323555576,-23.358511914232285,25.29042475487065,5.353747516102846,-1.053723695258234,11.234478975307951,17.426862019021947,5.958688374816389,-17.703036112723705,10.77904981568639,9.037887559638934,5.885386215381923,-4.329728247857676,23.376624420970394,3.6907133160890044,-21.620983973815743,-22.219388193102574,10.646592185523925,24.61224504390984,10.030776473681252,-18.77808291323883,6.669062952779463,1.0493459965868066,24.31294502049141,3.7784359402718803,5.53751969871872,31.53054978455466,5.217588304123403,18.104676877181557,26.217591787485567,-22.855627716052172,27.785828698902275,13.705384613839197,6.110805385624396,-7.651825913088039,-5.733603185672836,-23.16714976019807,14.46079573383338]}},\"id\":\"6f3a21ea-eab0-4ce5-875a-0ca39b492e0e\",\"type\":\"ColumnDataSource\"},{\"attributes\":{\"plot\":null,\"text\":\"Word Vectors\"},\"id\":\"a1325b3b-63b8-49cd-a602-8cadd19cff77\",\"type\":\"Title\"},{\"attributes\":{\"text_align\":\"center\",\"text_baseline\":\"middle\",\"text_color\":{\"value\":\"black\"},\"x\":{\"field\":\"x\"},\"y\":{\"field\":\"y\"}},\"id\":\"c7ae6313-d21c-44bf-95f2-ea956050ae99\",\"type\":\"Text\"},{\"attributes\":{\"below\":[{\"id\":\"2c526f06-33e6-480d-8104-db7693eaebb7\",\"type\":\"LinearAxis\"}],\"left\":[{\"id\":\"0206bf44-c49b-46de-9113-de83fd3e1825\",\"type\":\"LinearAxis\"}],\"renderers\":[{\"id\":\"2c526f06-33e6-480d-8104-db7693eaebb7\",\"type\":\"LinearAxis\"},{\"id\":\"47295edf-bcd6-4eb5-9136-451d66a0bb49\",\"type\":\"Grid\"},{\"id\":\"0206bf44-c49b-46de-9113-de83fd3e1825\",\"type\":\"LinearAxis\"},{\"id\":\"ee1cb7bf-c849-4a63-bae1-25d3c5c8d0ea\",\"type\":\"Grid\"},{\"id\":\"088dead5-44a2-4717-bc0b-a73f7da0297c\",\"type\":\"BoxAnnotation\"},{\"id\":\"d79cd7e2-9115-4b22-bbaf-e1c01e5acad2\",\"type\":\"GlyphRenderer\"}],\"title\":{\"id\":\"a1325b3b-63b8-49cd-a602-8cadd19cff77\",\"type\":\"Title\"},\"tool_events\":{\"id\":\"89d7a2b5-a914-4300-838f-4157b0d83b69\",\"type\":\"ToolEvents\"},\"toolbar\":{\"id\":\"5d1270aa-562c-4d09-967b-2cd0d89e507e\",\"type\":\"Toolbar\"},\"x_range\":{\"id\":\"7bdba199-a010-4b2d-89ca-b546092334b2\",\"type\":\"DataRange1d\"},\"y_range\":{\"id\":\"8cb2318f-d93d-4551-8768-88f0a128a5d1\",\"type\":\"DataRange1d\"}},\"id\":\"3792c857-008b-4b05-934c-dacc0164d9f6\",\"subtype\":\"Figure\",\"type\":\"Plot\"},{\"attributes\":{\"data_source\":{\"id\":\"6f3a21ea-eab0-4ce5-875a-0ca39b492e0e\",\"type\":\"ColumnDataSource\"},\"glyph\":{\"id\":\"c7ae6313-d21c-44bf-95f2-ea956050ae99\",\"type\":\"Text\"},\"hover_glyph\":null,\"nonselection_glyph\":{\"id\":\"517b3886-00c8-4263-ab7a-4bf82ebd1841\",\"type\":\"Text\"},\"selection_glyph\":null},\"id\":\"d79cd7e2-9115-4b22-bbaf-e1c01e5acad2\",\"type\":\"GlyphRenderer\"},{\"attributes\":{\"callback\":null},\"id\":\"8cb2318f-d93d-4551-8768-88f0a128a5d1\",\"type\":\"DataRange1d\"}],\"root_ids\":[\"3792c857-008b-4b05-934c-dacc0164d9f6\"]},\"title\":\"Bokeh Application\",\"version\":\"0.12.0\"}};\n",
       "            var render_items = [{\"docid\":\"847871b5-4e2d-4a35-9009-430002038a85\",\"elementid\":\"572a3f2f-c4e8-4754-9f56-b35b9bc6374c\",\"modelid\":\"3792c857-008b-4b05-934c-dacc0164d9f6\",\"notebook_comms_target\":\"5d6140e3-ea28-4eac-bd68-80d59fcb28df\"}];\n",
       "            \n",
       "            Bokeh.embed.embed_items(docs_json, render_items);\n",
       "        });\n",
       "      },\n",
       "      function(Bokeh) {\n",
       "      }\n",
       "    ];\n",
       "  \n",
       "    function run_inline_js() {\n",
       "      for (var i = 0; i < inline_js.length; i++) {\n",
       "        inline_js[i](window.Bokeh);\n",
       "      }\n",
       "    }\n",
       "  \n",
       "    if (window._bokeh_is_loading === 0) {\n",
       "      console.log(\"Bokeh: BokehJS loaded, going straight to plotting\");\n",
       "      run_inline_js();\n",
       "    } else {\n",
       "      load_libs(js_urls, function() {\n",
       "        console.log(\"Bokeh: BokehJS plotting callback run at\", now());\n",
       "        run_inline_js();\n",
       "      });\n",
       "    }\n",
       "  }(this));\n",
       "</script>"
      ]
     },
     "metadata": {},
     "output_type": "display_data"
    }
   ],
   "source": [
    "plot_wv.plot_wv(Wv2, vocab, num_words=1000)"
   ]
  },
  {
   "cell_type": "code",
   "execution_count": 20,
   "metadata": {
    "collapsed": false
   },
   "outputs": [
    {
     "data": {
      "text/html": [
       "<a href=\"plots/wordvectors_tsne.html\" target='_blank'>View plot \"plots/wordvectors_tsne.html\" in a new tab</a>"
      ],
      "text/plain": [
       "<IPython.core.display.HTML object>"
      ]
     },
     "metadata": {},
     "output_type": "display_data"
    }
   ],
   "source": [
    "plot_wv.plot_wv(Wv2, vocab, num_words=vocab_size, inline=False, \n",
    "                filename=\"plots/wordvectors_tsne.html\")"
   ]
  },
  {
   "cell_type": "markdown",
   "metadata": {},
   "source": [
    "# Exploration\n",
    "\n",
    "Use the cells below to experiment with word embeddings. Things to try:\n",
    "\n",
    "- Experiment with different window sizes. How do the word clusters change if you use a window of $\\pm 1$ word, versus $\\pm 3$, or full-sentence?\n",
    "- Look at a few \"target\" words of interest, using `word_colors` to highlight, or the `show_nns` function below. What are their nearest neighbors, and how does this change with the way you construct the embeddings?\n",
    "\n",
    "Feel free to modify any of the code below, or to write your own!"
   ]
  },
  {
   "cell_type": "code",
   "execution_count": 21,
   "metadata": {
    "collapsed": true
   },
   "outputs": [],
   "source": [
    "def find_nn_cos(word_id, Wv, k=10):\n",
    "    \"\"\"Find nearest neighbors, by cosine distance.\"\"\"\n",
    "    v = Wv[word_id]\n",
    "    Z = np.linalg.norm(Wv, axis=1) * np.linalg.norm(v)\n",
    "    ds = np.dot(Wv, v.T) / Z\n",
    "    nns = np.argsort(-1*ds)[:k]  # sort descending, take best\n",
    "    return nns, ds[nns]  # word indices, distances\n",
    "\n",
    "def show_nns(word, Wv, vocab, k=10):\n",
    "    print \"Nearest neighbors for \\\"%s\\\"\" % word\n",
    "    for i, d in zip(*find_nn_cos(vocab.word_to_id[word], Wv, k)):\n",
    "        w = vocab.id_to_word[i]\n",
    "        print \"%.03f : \\\"%s\\\"\" % (d, w)"
   ]
  },
  {
   "cell_type": "code",
   "execution_count": 22,
   "metadata": {
    "collapsed": false
   },
   "outputs": [
    {
     "name": "stdout",
     "output_type": "stream",
     "text": [
      "Counting pairs (i, i ± 1) ...\n",
      "Co-occurrence matrix: 10000 words x 10000 words\n",
      "  5.5e+05 nonzero elements\n"
     ]
    }
   ],
   "source": [
    "# Input lists\n",
    "sentence_ids = [vocab.words_to_ids(data_utils.canonicalize_words(s)) \n",
    "                for s in corpus.sents()]\n",
    "ids = list(flatten(sentence_ids))\n",
    "\n",
    "# Compute co-occurence matrix and word vectors\n",
    "C = cooccurrence_matrix(ids, vocab, window_size=1)\n",
    "# C = cooccurrence_matrix_sentences(sentence_ids, vocab)\n",
    "\n",
    "Wv, _ = SVD(PPMI(C), k=100)\n",
    "\n",
    "Wv2 = bhtsne.tsne(Wv)"
   ]
  },
  {
   "cell_type": "code",
   "execution_count": 23,
   "metadata": {
    "collapsed": false
   },
   "outputs": [
    {
     "name": "stdout",
     "output_type": "stream",
     "text": [
      "Nearest neighbors for \"close\"\n",
      "1.000 : \"close\"\n",
      "0.649 : \"hard\"\n",
      "0.598 : \"near\"\n",
      "0.592 : \"fast\"\n",
      "0.530 : \"soon\"\n",
      "0.524 : \"quietly\"\n",
      "0.514 : \"quickly\"\n",
      "0.513 : \"hot\"\n",
      "0.507 : \"bad\"\n",
      "0.505 : \"together\"\n"
     ]
    }
   ],
   "source": [
    "show_nns(\"close\", Wv, vocab)"
   ]
  },
  {
   "cell_type": "code",
   "execution_count": null,
   "metadata": {
    "collapsed": true
   },
   "outputs": [],
   "source": []
  }
 ],
 "metadata": {
  "kernelspec": {
   "display_name": "Python [Root]",
   "language": "python",
   "name": "Python [Root]"
  },
  "language_info": {
   "codemirror_mode": {
    "name": "ipython",
    "version": 2
   },
   "file_extension": ".py",
   "mimetype": "text/x-python",
   "name": "python",
   "nbconvert_exporter": "python",
   "pygments_lexer": "ipython2",
   "version": "2.7.12"
  }
 },
 "nbformat": 4,
 "nbformat_minor": 0
}
